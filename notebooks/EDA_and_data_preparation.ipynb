{
 "cells": [
  {
   "cell_type": "code",
   "execution_count": 1,
   "id": "bibliographic-election",
   "metadata": {},
   "outputs": [],
   "source": [
    "import json\n",
    "from collections import Counter\n",
    "import re\n",
    "from pathlib import Path\n",
    "import pandas as pd\n",
    "import numpy as np\n",
    "from tqdm.auto import tqdm\n",
    "\n",
    "from razdel import tokenize\n",
    "import torch\n",
    "from transformers import AutoModel, AutoTokenizer\n",
    "from rouge import Rouge\n",
    "from sklearn.metrics.pairwise import cosine_similarity\n",
    "from easse.sari import corpus_sari\n",
    "\n",
    "from matplotlib import pyplot as plt\n",
    "import seaborn as sns"
   ]
  },
  {
   "cell_type": "code",
   "execution_count": 2,
   "id": "miniature-coverage",
   "metadata": {},
   "outputs": [],
   "source": [
    "DATA_DIR = Path(\"../data\")\n",
    "\n",
    "WIKI_DIR = DATA_DIR / \"WikiSimple-translated\"\n",
    "PARAPHRASER_PATH = DATA_DIR / \"ParaPhraserPlus\" / \"ParaPhraserPlus.json\"\n",
    "\n",
    "DEV_PATH = DATA_DIR / \"dev_sents.csv\"\n",
    "TEST_PATH = DATA_DIR / \"public_test_only.csv\""
   ]
  },
  {
   "cell_type": "markdown",
   "id": "organized-skill",
   "metadata": {},
   "source": [
    "# Отбор по длине"
   ]
  },
  {
   "cell_type": "code",
   "execution_count": 3,
   "id": "ready-field",
   "metadata": {},
   "outputs": [],
   "source": [
    "def get_word_tokens(text):\n",
    "    tokens = re.sub(r\"[^\\w\\s]\", \"\", text).split()\n",
    "    tokens = [t.lower() for t in tokens]\n",
    "    return tokens"
   ]
  },
  {
   "cell_type": "markdown",
   "id": "designing-twenty",
   "metadata": {},
   "source": [
    "## dev, test"
   ]
  },
  {
   "cell_type": "code",
   "execution_count": 9,
   "id": "looking-prayer",
   "metadata": {},
   "outputs": [],
   "source": [
    "# dev\n",
    "dev_df = pd.read_csv(DEV_PATH, index_col=0)\n",
    "dev_df.columns = [\"input\", \"output\"]\n",
    "\n",
    "# test\n",
    "with open(TEST_PATH) as f:\n",
    "    test_df = pd.DataFrame({\"input\": [line.strip() for line in f.readlines()]})\n",
    "test_df[\"output\"] = \"\""
   ]
  },
  {
   "cell_type": "code",
   "execution_count": 12,
   "id": "intended-contamination",
   "metadata": {},
   "outputs": [
    {
     "data": {
      "text/plain": [
       "Используемый алгоритм имеет определённую временную сложность, поэтому перед оптимизацией кода программы стоит сначала пересмотреть алгоритм.                           5\n",
       "В последнем матче группового этапа против сборной Венгрии Роналду оформил дубль и отдал голевую передачу.                                                              5\n",
       "Писателю показался забавным также факт, что мать Каменской, тоже акушерка, когда-то принимала новорождённого Пешкова.                                                  5\n",
       "Впервые появилась возможность провести прямое сравнение генотипа императора с генотипом обнаруженных под Екатеринбургом останков.                                      5\n",
       "Зачастую Цезарь принимал решение не совещаясь с сенатом, хотя при публичном оглашении текста закона указывалось, будто сенаторы поддержали диктатора.                  5\n",
       "                                                                                                                                                                      ..\n",
       "Милиция, состоящая из безоружных сотрудников, попыталась оттеснить митингующих с территории завода, но была смята толпой, а трое миллиционеров были избиты.            1\n",
       "Лишь приезд нового представителя императора — опытного дипломата, ближайшего друга и советника императора графа  Траутмансдорфа — привёл к прогрессу в переговорах.    1\n",
       "Товарищи, обычно дореволюционные ихние собрания и съезды кончались призывом „с богом“,- сегодня съезд кончится словами „на бога“.                                      1\n",
       "Например, натрий похож на калий, фтор похож на хлор, а золото — на серебро и медь.                                                                                     1\n",
       "В Новой Кастилии климат немного мягче, с более тёплой зимой, но также с малым количеством осадков.                                                                     1\n",
       "Name: input, Length: 1000, dtype: int64"
      ]
     },
     "execution_count": 12,
     "metadata": {},
     "output_type": "execute_result"
    }
   ],
   "source": [
    "dev_df[\"input\"].value_counts().sort_values(ascending=False)"
   ]
  },
  {
   "cell_type": "code",
   "execution_count": 5,
   "id": "gothic-specific",
   "metadata": {},
   "outputs": [
    {
     "data": {
      "text/html": [
       "<div>\n",
       "<style scoped>\n",
       "    .dataframe tbody tr th:only-of-type {\n",
       "        vertical-align: middle;\n",
       "    }\n",
       "\n",
       "    .dataframe tbody tr th {\n",
       "        vertical-align: top;\n",
       "    }\n",
       "\n",
       "    .dataframe thead th {\n",
       "        text-align: right;\n",
       "    }\n",
       "</style>\n",
       "<table border=\"1\" class=\"dataframe\">\n",
       "  <thead>\n",
       "    <tr style=\"text-align: right;\">\n",
       "      <th></th>\n",
       "      <th>input</th>\n",
       "      <th>output</th>\n",
       "    </tr>\n",
       "  </thead>\n",
       "  <tbody>\n",
       "    <tr>\n",
       "      <th>0</th>\n",
       "      <td>1960 году была выпущена модель 172A. Изменени...</td>\n",
       "      <td>[В 1960 году вышла модель 172А. Отличие в хвос...</td>\n",
       "    </tr>\n",
       "    <tr>\n",
       "      <th>1</th>\n",
       "      <td>14 декабря 1944 года рабочий посёлок Ички был ...</td>\n",
       "      <td>[14 декабря 1944 года рабочий посёлок Ички пер...</td>\n",
       "    </tr>\n",
       "    <tr>\n",
       "      <th>2</th>\n",
       "      <td>26 августа 2014 года Болдок принял участие в п...</td>\n",
       "      <td>[26 августа 2014 года Болдок выиграл футбольны...</td>\n",
       "    </tr>\n",
       "    <tr>\n",
       "      <th>3</th>\n",
       "      <td>Armory — клиент с различными функциями для пов...</td>\n",
       "      <td>[Armory - программа с различными функциями для...</td>\n",
       "    </tr>\n",
       "    <tr>\n",
       "      <th>4</th>\n",
       "      <td>Concert for Diana (рус. Концерт для Дианы) — к...</td>\n",
       "      <td>[Concert for Diana - это концерт, посвящённый ...</td>\n",
       "    </tr>\n",
       "    <tr>\n",
       "      <th>...</th>\n",
       "      <td>...</td>\n",
       "      <td>...</td>\n",
       "    </tr>\n",
       "    <tr>\n",
       "      <th>995</th>\n",
       "      <td>Эффективность азитромицина при лечении инфекци...</td>\n",
       "      <td>[Азитромицин показал свою эффективность в лече...</td>\n",
       "    </tr>\n",
       "    <tr>\n",
       "      <th>996</th>\n",
       "      <td>Юг и среднюю часть республики занимают горы и ...</td>\n",
       "      <td>[Часть республики занимают горы, а часть низме...</td>\n",
       "    </tr>\n",
       "    <tr>\n",
       "      <th>997</th>\n",
       "      <td>Юго-Восточное побережье — Феодосийский и Судак...</td>\n",
       "      <td>[Весь Крым находится под охраной государства.,...</td>\n",
       "    </tr>\n",
       "    <tr>\n",
       "      <th>998</th>\n",
       "      <td>Язгуля́мский язы́к (самоназвание — Yuzdami zev...</td>\n",
       "      <td>[Язгулямский язык - один из языков, на котором...</td>\n",
       "    </tr>\n",
       "    <tr>\n",
       "      <th>999</th>\n",
       "      <td>Японский космический аппарат Хаябуса успешно д...</td>\n",
       "      <td>[Японский космический аппарат Хаябуса успешно ...</td>\n",
       "    </tr>\n",
       "  </tbody>\n",
       "</table>\n",
       "<p>1000 rows × 2 columns</p>\n",
       "</div>"
      ],
      "text/plain": [
       "                                                 input  \\\n",
       "0     1960 году была выпущена модель 172A. Изменени...   \n",
       "1    14 декабря 1944 года рабочий посёлок Ички был ...   \n",
       "2    26 августа 2014 года Болдок принял участие в п...   \n",
       "3    Armory — клиент с различными функциями для пов...   \n",
       "4    Concert for Diana (рус. Концерт для Дианы) — к...   \n",
       "..                                                 ...   \n",
       "995  Эффективность азитромицина при лечении инфекци...   \n",
       "996  Юг и среднюю часть республики занимают горы и ...   \n",
       "997  Юго-Восточное побережье — Феодосийский и Судак...   \n",
       "998  Язгуля́мский язы́к (самоназвание — Yuzdami zev...   \n",
       "999  Японский космический аппарат Хаябуса успешно д...   \n",
       "\n",
       "                                                output  \n",
       "0    [В 1960 году вышла модель 172А. Отличие в хвос...  \n",
       "1    [14 декабря 1944 года рабочий посёлок Ички пер...  \n",
       "2    [26 августа 2014 года Болдок выиграл футбольны...  \n",
       "3    [Armory - программа с различными функциями для...  \n",
       "4    [Concert for Diana - это концерт, посвящённый ...  \n",
       "..                                                 ...  \n",
       "995  [Азитромицин показал свою эффективность в лече...  \n",
       "996  [Часть республики занимают горы, а часть низме...  \n",
       "997  [Весь Крым находится под охраной государства.,...  \n",
       "998  [Язгулямский язык - один из языков, на котором...  \n",
       "999  [Японский космический аппарат Хаябуса успешно ...  \n",
       "\n",
       "[1000 rows x 2 columns]"
      ]
     },
     "execution_count": 5,
     "metadata": {},
     "output_type": "execute_result"
    }
   ],
   "source": [
    "dev_df.groupby(\"input\")[\"output\"].apply(list).reset_index()"
   ]
  },
  {
   "cell_type": "code",
   "execution_count": 6,
   "id": "clean-certification",
   "metadata": {},
   "outputs": [],
   "source": [
    "dev_df.groupby(\"input\")[\"output\"].apply(list).reset_index()[\"input\"].to_csv(DATA_DIR / \"dev_input_only.csv\",\n",
    "                                                                            index=False, header=None)"
   ]
  },
  {
   "cell_type": "code",
   "execution_count": 8,
   "id": "organized-composer",
   "metadata": {},
   "outputs": [
    {
     "data": {
      "text/html": [
       "<div>\n",
       "<style scoped>\n",
       "    .dataframe tbody tr th:only-of-type {\n",
       "        vertical-align: middle;\n",
       "    }\n",
       "\n",
       "    .dataframe tbody tr th {\n",
       "        vertical-align: top;\n",
       "    }\n",
       "\n",
       "    .dataframe thead th {\n",
       "        text-align: right;\n",
       "    }\n",
       "</style>\n",
       "<table border=\"1\" class=\"dataframe\">\n",
       "  <thead>\n",
       "    <tr style=\"text-align: right;\">\n",
       "      <th></th>\n",
       "      <th>input</th>\n",
       "      <th>output</th>\n",
       "    </tr>\n",
       "  </thead>\n",
       "  <tbody>\n",
       "    <tr>\n",
       "      <th>1345</th>\n",
       "      <td>В примере выше могут произойти ошибки при прео...</td>\n",
       "      <td>В примере выше могут произойти ошибки при прео...</td>\n",
       "    </tr>\n",
       "    <tr>\n",
       "      <th>1489</th>\n",
       "      <td>В своём выступлении по радио президент Египта ...</td>\n",
       "      <td>В своём выступлении по радио президент Египта ...</td>\n",
       "    </tr>\n",
       "    <tr>\n",
       "      <th>1529</th>\n",
       "      <td>В сельскохозяйственных областях в первые месяц...</td>\n",
       "      <td>В сельскохозяйственных областях в первые месяц...</td>\n",
       "    </tr>\n",
       "    <tr>\n",
       "      <th>3185</th>\n",
       "      <td>Желающим предлагалось снять пятиминутное видео...</td>\n",
       "      <td>Желающим предлагалось снять пятиминутное видео...</td>\n",
       "    </tr>\n",
       "    <tr>\n",
       "      <th>4436</th>\n",
       "      <td>Местами сохранились стальные кольца, вделанные...</td>\n",
       "      <td>Местами сохранились стальные кольца, вделанные...</td>\n",
       "    </tr>\n",
       "    <tr>\n",
       "      <th>4520</th>\n",
       "      <td>Многие думали, что Маршалл просто не выпустит ...</td>\n",
       "      <td>Многие думали, что Маршалл просто не выпустит ...</td>\n",
       "    </tr>\n",
       "    <tr>\n",
       "      <th>4585</th>\n",
       "      <td>Могут применяться также гемодиализ, парнополяр...</td>\n",
       "      <td>Могут применяться также гемодиализ, парнополяр...</td>\n",
       "    </tr>\n",
       "    <tr>\n",
       "      <th>7483</th>\n",
       "      <td>Пришедшие к власти монтаньяры столкнулись с др...</td>\n",
       "      <td>Пришедшие к власти монтаньяры столкнулись с др...</td>\n",
       "    </tr>\n",
       "    <tr>\n",
       "      <th>7535</th>\n",
       "      <td>Происходят взаимные этнические чистки, начинае...</td>\n",
       "      <td>Происходят взаимные этнические чистки, начинае...</td>\n",
       "    </tr>\n",
       "    <tr>\n",
       "      <th>9477</th>\n",
       "      <td>Форпост был построен на правом берегу Ишима, г...</td>\n",
       "      <td>Форпост был построен на правом берегу Ишима, г...</td>\n",
       "    </tr>\n",
       "  </tbody>\n",
       "</table>\n",
       "</div>"
      ],
      "text/plain": [
       "                                                  input  \\\n",
       "1345  В примере выше могут произойти ошибки при прео...   \n",
       "1489  В своём выступлении по радио президент Египта ...   \n",
       "1529  В сельскохозяйственных областях в первые месяц...   \n",
       "3185  Желающим предлагалось снять пятиминутное видео...   \n",
       "4436  Местами сохранились стальные кольца, вделанные...   \n",
       "4520  Многие думали, что Маршалл просто не выпустит ...   \n",
       "4585  Могут применяться также гемодиализ, парнополяр...   \n",
       "7483  Пришедшие к власти монтаньяры столкнулись с др...   \n",
       "7535  Происходят взаимные этнические чистки, начинае...   \n",
       "9477  Форпост был построен на правом берегу Ишима, г...   \n",
       "\n",
       "                                                 output  \n",
       "1345  В примере выше могут произойти ошибки при прео...  \n",
       "1489  В своём выступлении по радио президент Египта ...  \n",
       "1529  В сельскохозяйственных областях в первые месяц...  \n",
       "3185  Желающим предлагалось снять пятиминутное видео...  \n",
       "4436  Местами сохранились стальные кольца, вделанные...  \n",
       "4520  Многие думали, что Маршалл просто не выпустит ...  \n",
       "4585  Могут применяться также гемодиализ, парнополяр...  \n",
       "7483  Пришедшие к власти монтаньяры столкнулись с др...  \n",
       "7535  Происходят взаимные этнические чистки, начинае...  \n",
       "9477  Форпост был построен на правом берегу Ишима, г...  "
      ]
     },
     "execution_count": 8,
     "metadata": {},
     "output_type": "execute_result"
    }
   ],
   "source": [
    "# одинаковые input и output\n",
    "dev_df[dev_df[\"input\"] == dev_df[\"output\"]]"
   ]
  },
  {
   "cell_type": "code",
   "execution_count": 9,
   "id": "russian-wayne",
   "metadata": {},
   "outputs": [
    {
     "name": "stdout",
     "output_type": "stream",
     "text": [
      "input \n",
      " Переосмысление революционных событий и судьбы России сопровождалось для Блока глубоким творческим кризисом, депрессией и прогрессирующей болезнью.\n",
      "output \n",
      " У Блока был творческий кризис, депрессия и болезнь из-за революции и беспокойства за судьбы России.\n"
     ]
    }
   ],
   "source": [
    "sample = dev_df.sample()\n",
    "\n",
    "for col in [\"input\", \"output\"]:\n",
    "    text = sample[col].item()\n",
    "    print(col, \"\\n\", text)"
   ]
  },
  {
   "cell_type": "code",
   "execution_count": 10,
   "id": "agreed-pierce",
   "metadata": {},
   "outputs": [],
   "source": [
    "for df in [dev_df, test_df]:\n",
    "    for col in df:\n",
    "        df[f\"{col}_tokens\"] = df[col].apply(get_word_tokens)\n",
    "        df[f\"{col[:3]}_len\"] = df[f\"{col}_tokens\"].apply(len)"
   ]
  },
  {
   "cell_type": "code",
   "execution_count": 11,
   "id": "organizational-coordinator",
   "metadata": {},
   "outputs": [],
   "source": [
    "dev_df[\"n_common_tokens\"] = dev_df.apply(lambda x: len(set(x[\"input_tokens\"]) & set(x[\"output_tokens\"])), axis=1)"
   ]
  },
  {
   "cell_type": "code",
   "execution_count": 12,
   "id": "liberal-listing",
   "metadata": {},
   "outputs": [
    {
     "name": "stdout",
     "output_type": "stream",
     "text": [
      "N of examples with 0 common tokens: 29, share: 0.009\n",
      "input \n",
      " Обозреватель издания назвал сценарий виртуозным и непредсказуемым, способным удержать на одном плане сразу две дюжины героев.\n",
      "output \n",
      " Журналист похвалил фильм.\n"
     ]
    }
   ],
   "source": [
    "n = 0\n",
    "n_examples = (dev_df[\"n_common_tokens\"] == n).sum()\n",
    "print(f\"N of examples with {n} common tokens: {n_examples}, share: {n_examples / dev_df.shape[0]:.3f}\")\n",
    "\n",
    "sample = dev_df[dev_df[\"n_common_tokens\"] == n].sample()\n",
    "\n",
    "for col in [\"input\", \"output\"]:\n",
    "    text = sample[col].item()\n",
    "    print(col, \"\\n\", text)"
   ]
  },
  {
   "cell_type": "code",
   "execution_count": 13,
   "id": "awful-console",
   "metadata": {},
   "outputs": [
    {
     "data": {
      "image/png": "[encoded data removed]",
      "text/plain": [
       "<Figure size 720x720 with 6 Axes>"
      ]
     },
     "metadata": {
      "needs_background": "light"
     },
     "output_type": "display_data"
    }
   ],
   "source": [
    "g = sns.PairGrid(dev_df[[\"inp_len\", \"out_len\"]], height=5)\n",
    "g.map_upper(sns.histplot)\n",
    "g.map_lower(sns.kdeplot, fill=True)\n",
    "g.map_diag(sns.histplot, kde=True);"
   ]
  },
  {
   "cell_type": "code",
   "execution_count": null,
   "id": "european-future",
   "metadata": {},
   "outputs": [],
   "source": [
    "# sns.displot(dev_df, x=\"inp_len\", y=\"out_len\", height=8);\n",
    "# sns.jointplot(data=dev_df, x=\"inp_len\", y=\"out_len\", alpha=0.3);\n",
    "# sns.jointplot(data=dev_df, x=\"inp_len\", y=\"out_len\", kind=\"reg\");"
   ]
  },
  {
   "cell_type": "code",
   "execution_count": 14,
   "id": "ordinary-eclipse",
   "metadata": {},
   "outputs": [
    {
     "data": {
      "image/png": "[encoded data removed]",
      "text/plain": [
       "<Figure size 432x288 with 1 Axes>"
      ]
     },
     "metadata": {
      "needs_background": "light"
     },
     "output_type": "display_data"
    }
   ],
   "source": [
    "(dev_df[\"out_len\"] / dev_df[\"inp_len\"]).hist(bins=np.arange(0, 2.5, 0.05));"
   ]
  },
  {
   "cell_type": "code",
   "execution_count": 15,
   "id": "japanese-symposium",
   "metadata": {},
   "outputs": [
    {
     "data": {
      "image/png": "[encoded data removed]",
      "text/plain": [
       "<Figure size 432x288 with 1 Axes>"
      ]
     },
     "metadata": {
      "needs_background": "light"
     },
     "output_type": "display_data"
    },
    {
     "data": {
      "image/png": "[encoded data removed]",
      "text/plain": [
       "<Figure size 432x288 with 1 Axes>"
      ]
     },
     "metadata": {
      "needs_background": "light"
     },
     "output_type": "display_data"
    }
   ],
   "source": [
    "test_df[\"inp_len\"].hist(bins=np.arange(0, 100, 5))\n",
    "plt.show()\n",
    "dev_df[\"inp_len\"].hist(bins=np.arange(0, 100, 5))\n",
    "plt.show()"
   ]
  },
  {
   "cell_type": "code",
   "execution_count": 16,
   "id": "pointed-recruitment",
   "metadata": {},
   "outputs": [
    {
     "data": {
      "image/png": "[encoded data removed]",
      "text/plain": [
       "<Figure size 432x288 with 1 Axes>"
      ]
     },
     "metadata": {
      "needs_background": "light"
     },
     "output_type": "display_data"
    }
   ],
   "source": [
    "# разница длин output и input\n",
    "(dev_df[\"out_len\"] - dev_df[\"inp_len\"]).hist();"
   ]
  },
  {
   "cell_type": "code",
   "execution_count": 17,
   "id": "cleared-passenger",
   "metadata": {},
   "outputs": [
    {
     "data": {
      "text/plain": [
       "0.09277745155607751"
      ]
     },
     "execution_count": 17,
     "metadata": {},
     "output_type": "execute_result"
    }
   ],
   "source": [
    "# доля примеров, где out длиннее in в токенах\n",
    "((dev_df[\"out_len\"] / dev_df[\"inp_len\"]) > 1).mean()"
   ]
  },
  {
   "cell_type": "code",
   "execution_count": 18,
   "id": "precise-rebound",
   "metadata": {},
   "outputs": [
    {
     "data": {
      "text/plain": [
       "0.07868467410452143"
      ]
     },
     "execution_count": 18,
     "metadata": {},
     "output_type": "execute_result"
    }
   ],
   "source": [
    "# доля примеров, где out длиннее in в токенах\n",
    "((dev_df[\"out_len\"] / dev_df[\"inp_len\"]) > 1.06).mean()"
   ]
  },
  {
   "cell_type": "code",
   "execution_count": 19,
   "id": "closing-geometry",
   "metadata": {},
   "outputs": [
    {
     "name": "stdout",
     "output_type": "stream",
     "text": [
      "Взрыв не состоялся по нелепой причине: один из заговорщиков, не имея часов, опоздал занять позицию ко времени проезда императора. \n",
      "\n",
      "Взрыв не состоялся из-за того, что один из заговорщиков не имел часов и опоздал знать позицию ко времени проезда императора. \n",
      "\n"
     ]
    }
   ],
   "source": [
    "sample = dev_df[\n",
    "    ((dev_df[\"out_len\"] / dev_df[\"inp_len\"]) > 1.0)\n",
    "    & ((dev_df[\"out_len\"] / dev_df[\"inp_len\"]) < 1.2)\n",
    "].sample()\n",
    "\n",
    "for col in [\"input\", \"output\"]:\n",
    "    print(sample[col].item(), \"\\n\")"
   ]
  },
  {
   "cell_type": "code",
   "execution_count": 20,
   "id": "existing-compact",
   "metadata": {},
   "outputs": [
    {
     "name": "stdout",
     "output_type": "stream",
     "text": [
      "Голубой цвет на флаге является традиционным цветом тюркских народов и символизирует тюркство, красный — прогресса, зелёный — ислама. \n",
      "\n",
      "На флаге есть голубой цвет, он показывает, что люди говорят на тюркском языке. Красный цвет на флаге показывает развитие людей. Зеленый цвет на флаге показывает на мусульманскую религию. \n",
      "\n"
     ]
    }
   ],
   "source": [
    "sample = dev_df[\n",
    "    ((dev_df[\"out_len\"] / dev_df[\"inp_len\"]) > 1.3)\n",
    "#     & ((dev_df[\"out_len\"] / dev_df[\"inp_len\"]) < np.inf)\n",
    "].sample()\n",
    "\n",
    "for col in [\"input\", \"output\"]:\n",
    "    print(sample[col].item(), \"\\n\")"
   ]
  },
  {
   "cell_type": "markdown",
   "id": "alternative-consensus",
   "metadata": {},
   "source": [
    "## Wiki"
   ]
  },
  {
   "cell_type": "code",
   "execution_count": 6,
   "id": "excess-correction",
   "metadata": {},
   "outputs": [],
   "source": [
    "dfs = [pd.read_csv(path, usecols=[\"target_x\", \"target_y\"]) for path in WIKI_DIR.glob(\"*\")]\n",
    "wiki_df = pd.concat(dfs).reset_index(drop=True)\n",
    "wiki_df.columns = [\"input\", \"output\"]"
   ]
  },
  {
   "cell_type": "code",
   "execution_count": 7,
   "id": "academic-working",
   "metadata": {},
   "outputs": [
    {
     "data": {
      "text/plain": [
       "(248111, 2)"
      ]
     },
     "execution_count": 7,
     "metadata": {},
     "output_type": "execute_result"
    }
   ],
   "source": [
    "wiki_df.shape"
   ]
  },
  {
   "cell_type": "code",
   "execution_count": 8,
   "id": "ceramic-lloyd",
   "metadata": {},
   "outputs": [
    {
     "data": {
      "text/html": [
       "<div>\n",
       "<style scoped>\n",
       "    .dataframe tbody tr th:only-of-type {\n",
       "        vertical-align: middle;\n",
       "    }\n",
       "\n",
       "    .dataframe tbody tr th {\n",
       "        vertical-align: top;\n",
       "    }\n",
       "\n",
       "    .dataframe thead th {\n",
       "        text-align: right;\n",
       "    }\n",
       "</style>\n",
       "<table border=\"1\" class=\"dataframe\">\n",
       "  <thead>\n",
       "    <tr style=\"text-align: right;\">\n",
       "      <th></th>\n",
       "      <th>input</th>\n",
       "      <th>output</th>\n",
       "    </tr>\n",
       "  </thead>\n",
       "  <tbody>\n",
       "    <tr>\n",
       "      <th>18</th>\n",
       "      <td>Томас Гравесен (родился 11 марта 1976 года) - ...</td>\n",
       "      <td>Томас Гравесен (родился 11 марта 1976 года) - ...</td>\n",
       "    </tr>\n",
       "    <tr>\n",
       "      <th>27</th>\n",
       "      <td>Экономика Это диаграмма тренда региональной ва...</td>\n",
       "      <td>Экономика Это диаграмма тенденции региональной...</td>\n",
       "    </tr>\n",
       "    <tr>\n",
       "      <th>30</th>\n",
       "      <td>Мэтью Перри (род. 1969) - канадско-американски...</td>\n",
       "      <td>Мэтью Перри (актер) (1969 г.р.), американский ...</td>\n",
       "    </tr>\n",
       "    <tr>\n",
       "      <th>44</th>\n",
       "      <td>При высоте 140 см (55 дюймов) журавль не может...</td>\n",
       "      <td>При высоте 55 дюймов журавль не может стать ле...</td>\n",
       "    </tr>\n",
       "    <tr>\n",
       "      <th>75</th>\n",
       "      <td>Рудольф Вальтер Рихард Гесс (по-немецки HeÃ) (...</td>\n",
       "      <td>Вальтер Ричард Рудольф Гесс (HeÃ по-немецки) (...</td>\n",
       "    </tr>\n",
       "    <tr>\n",
       "      <th>...</th>\n",
       "      <td>...</td>\n",
       "      <td>...</td>\n",
       "    </tr>\n",
       "    <tr>\n",
       "      <th>247947</th>\n",
       "      <td>Самовар и Портер (1994), стр. 84 сирийца не со...</td>\n",
       "      <td>Самовар и Портер (1994), стр. 84 сирийца не со...</td>\n",
       "    </tr>\n",
       "    <tr>\n",
       "      <th>247967</th>\n",
       "      <td>Иэн Грив (родился 19 февраля 1987 года в Джван...</td>\n",
       "      <td>Иэн Грив (родился 19 февраля 1987 года в Джван...</td>\n",
       "    </tr>\n",
       "    <tr>\n",
       "      <th>248009</th>\n",
       "      <td>Сен-Мартен - тропический остров на северо-вост...</td>\n",
       "      <td>Сен-Мартен - тропический остров на северо-вост...</td>\n",
       "    </tr>\n",
       "    <tr>\n",
       "      <th>248013</th>\n",
       "      <td>Приблизительно в зависимости от численности па...</td>\n",
       "      <td>В зависимости от силы каждой партии в Федераль...</td>\n",
       "    </tr>\n",
       "    <tr>\n",
       "      <th>248014</th>\n",
       "      <td>Приблизительно в зависимости от численности па...</td>\n",
       "      <td>В зависимости от силы каждой партии в Федераль...</td>\n",
       "    </tr>\n",
       "  </tbody>\n",
       "</table>\n",
       "<p>25385 rows × 2 columns</p>\n",
       "</div>"
      ],
      "text/plain": [
       "                                                    input  \\\n",
       "18      Томас Гравесен (родился 11 марта 1976 года) - ...   \n",
       "27      Экономика Это диаграмма тренда региональной ва...   \n",
       "30      Мэтью Перри (род. 1969) - канадско-американски...   \n",
       "44      При высоте 140 см (55 дюймов) журавль не может...   \n",
       "75      Рудольф Вальтер Рихард Гесс (по-немецки HeÃ) (...   \n",
       "...                                                   ...   \n",
       "247947  Самовар и Портер (1994), стр. 84 сирийца не со...   \n",
       "247967  Иэн Грив (родился 19 февраля 1987 года в Джван...   \n",
       "248009  Сен-Мартен - тропический остров на северо-вост...   \n",
       "248013  Приблизительно в зависимости от численности па...   \n",
       "248014  Приблизительно в зависимости от численности па...   \n",
       "\n",
       "                                                   output  \n",
       "18      Томас Гравесен (родился 11 марта 1976 года) - ...  \n",
       "27      Экономика Это диаграмма тенденции региональной...  \n",
       "30      Мэтью Перри (актер) (1969 г.р.), американский ...  \n",
       "44      При высоте 55 дюймов журавль не может стать ле...  \n",
       "75      Вальтер Ричард Рудольф Гесс (HeÃ по-немецки) (...  \n",
       "...                                                   ...  \n",
       "247947  Самовар и Портер (1994), стр. 84 сирийца не со...  \n",
       "247967  Иэн Грив (родился 19 февраля 1987 года в Джван...  \n",
       "248009  Сен-Мартен - тропический остров на северо-вост...  \n",
       "248013  В зависимости от силы каждой партии в Федераль...  \n",
       "248014  В зависимости от силы каждой партии в Федераль...  \n",
       "\n",
       "[25385 rows x 2 columns]"
      ]
     },
     "execution_count": 8,
     "metadata": {},
     "output_type": "execute_result"
    }
   ],
   "source": [
    "# года (в регулярке просто цифры) внутри скобок\n",
    "wiki_df[wiki_df[\"input\"].apply(lambda x: bool(re.match(r\".*\\(.*\\d+.*\\)\", x)))]"
   ]
  },
  {
   "cell_type": "code",
   "execution_count": 24,
   "id": "buried-superintendent",
   "metadata": {},
   "outputs": [
    {
     "name": "stdout",
     "output_type": "stream",
     "text": [
      "input \n",
      " Вернувшись в «Нэшнл», теперь на Южном берегу, его следующим поворотным моментом стала премьерная постановка Питера Холла «Предательства Гарольда Пинтера», неожиданно тонкий спектакль - на производственной фотографии он обнимает Пенелопу Уилтон чувствительными руками и длинными тонкими пальцами ( прикосновение мастера-часовщика).\n",
      "output \n",
      " Вернувшись в «Нэшнл», теперь на Южном берегу, его следующим поворотным моментом стала премьерная постановка Питером Холлом «Предательства Гарольда Пинтера», неожиданно утонченный спектакль - на производственной фотографии он обнимает Пенелопу Уилтон чувствительными руками и длинными стройными руками. пальцы (прикосновение мастера-часовщика).\n"
     ]
    }
   ],
   "source": [
    "sample = wiki_df.sample()\n",
    "\n",
    "for col in sample:\n",
    "    text = sample[col].item()\n",
    "    print(col, \"\\n\", text)"
   ]
  },
  {
   "cell_type": "code",
   "execution_count": 25,
   "id": "valid-amazon",
   "metadata": {},
   "outputs": [],
   "source": [
    "for col in wiki_df:\n",
    "    wiki_df[f\"{col}_tokens\"] = wiki_df[col].apply(get_word_tokens)\n",
    "    wiki_df[f\"{col[:3]}_len\"] = wiki_df[f\"{col}_tokens\"].apply(len)"
   ]
  },
  {
   "cell_type": "code",
   "execution_count": 26,
   "id": "figured-decrease",
   "metadata": {},
   "outputs": [],
   "source": [
    "wiki_df[\"n_common_tokens\"] = wiki_df.apply(lambda x: len(set(x[\"input_tokens\"]) & set(x[\"output_tokens\"])), axis=1)"
   ]
  },
  {
   "cell_type": "code",
   "execution_count": 27,
   "id": "spare-connection",
   "metadata": {},
   "outputs": [
    {
     "name": "stdout",
     "output_type": "stream",
     "text": [
      "N of examples with 3 common tokens: 14221, share: 0.057\n",
      "input \n",
      " Этот флаг города Винсеннес, штат Индиана, хотя и несколько неофициальный, используется в нескольких районах города.\n",
      "output \n",
      " Винсеннес - город в штате Индиана в США.\n"
     ]
    }
   ],
   "source": [
    "n = 3\n",
    "n_examples = (wiki_df[\"n_common_tokens\"] == n).sum()\n",
    "print(f\"N of examples with {n} common tokens: {n_examples}, share: {n_examples / wiki_df.shape[0]:.3f}\")\n",
    "\n",
    "sample = wiki_df[wiki_df[\"n_common_tokens\"] == n].sample()\n",
    "\n",
    "for col in [\"input\", \"output\"]:\n",
    "    text = sample[col].item()\n",
    "    print(col, \"\\n\", text)"
   ]
  },
  {
   "cell_type": "code",
   "execution_count": 28,
   "id": "immune-assistant",
   "metadata": {},
   "outputs": [
    {
     "name": "stdout",
     "output_type": "stream",
     "text": [
      "N of examples with >= 3 common tokens and output / input <= 1.2: 174367, share: 0.703\n",
      "input \n",
      " В возрасте пятнадцати лет Мэри была обручена со своим двоюродным братом, протестантским штатгальтером Голландии Вильгельмом Оранским.\n",
      "output \n",
      " Когда ей было 15 лет, леди Мэри обручилась со своим двоюродным братом, протестантом Уильямом, принцем Оранским.\n"
     ]
    }
   ],
   "source": [
    "# выбираем >= 3 общих токенов и output / input <= 1.2 и output > 3\n",
    "\n",
    "n = 3\n",
    "wiki_df_part = wiki_df[\n",
    "    (wiki_df[\"n_common_tokens\"] >= n)\n",
    "    & (wiki_df[\"out_len\"] / wiki_df[\"inp_len\"] <= 1.2)\n",
    "    & (wiki_df[\"out_len\"] > 3)\n",
    "]\n",
    "n_examples = wiki_df_part.shape[0]\n",
    "\n",
    "print(f\"N of examples with >= {n} common tokens and output / input <= 1.2: {n_examples}, share: {n_examples / wiki_df.shape[0]:.3f}\")\n",
    "\n",
    "sample = wiki_df_part.sample()\n",
    "\n",
    "for col in [\"input\", \"output\"]:\n",
    "    text = sample[col].item()\n",
    "    print(col, \"\\n\", text)"
   ]
  },
  {
   "cell_type": "code",
   "execution_count": 29,
   "id": "approved-edition",
   "metadata": {},
   "outputs": [
    {
     "name": "stdout",
     "output_type": "stream",
     "text": [
      "input \n",
      " Это живая и раскованная вариация Jitterbug, разновидности свинг-танца.\n",
      "output \n",
      " Это живая и непринужденная вариация более ранних форм свинг-танца, таких как Jitterbug.\n"
     ]
    }
   ],
   "source": [
    "# остальные невошедшие\n",
    "\n",
    "sample =  wiki_df.loc[wiki_df.index.difference(wiki_df_part.index)].sample()\n",
    "\n",
    "for col in [\"input\", \"output\"]:\n",
    "    text = sample[col].item()\n",
    "    print(col, \"\\n\", text)"
   ]
  },
  {
   "cell_type": "code",
   "execution_count": 30,
   "id": "mental-species",
   "metadata": {},
   "outputs": [
    {
     "data": {
      "image/png": "[encoded data removed]",
      "text/plain": [
       "<Figure size 720x720 with 6 Axes>"
      ]
     },
     "metadata": {
      "needs_background": "light"
     },
     "output_type": "display_data"
    }
   ],
   "source": [
    "g = sns.PairGrid(wiki_df[[\"inp_len\", \"out_len\"]], height=5)\n",
    "g.map_upper(sns.histplot)\n",
    "g.map_lower(sns.kdeplot, fill=True)\n",
    "g.map_diag(sns.histplot, kde=True);"
   ]
  },
  {
   "cell_type": "code",
   "execution_count": 31,
   "id": "coral-demand",
   "metadata": {},
   "outputs": [
    {
     "data": {
      "image/png": "[encoded data removed]",
      "text/plain": [
       "<Figure size 720x720 with 6 Axes>"
      ]
     },
     "metadata": {
      "needs_background": "light"
     },
     "output_type": "display_data"
    }
   ],
   "source": [
    "g = sns.PairGrid(wiki_df_part[[\"inp_len\", \"out_len\"]], height=5)\n",
    "g.map_upper(sns.histplot)\n",
    "g.map_lower(sns.kdeplot, fill=True)\n",
    "g.map_diag(sns.histplot, kde=True);"
   ]
  },
  {
   "cell_type": "code",
   "execution_count": 105,
   "id": "proved-symbol",
   "metadata": {},
   "outputs": [],
   "source": [
    "wiki_df_part[[\"input\", \"output\"]].to_csv(DATA_DIR / \"prepared_data\" / \"wiki_part.csv\", index=False)"
   ]
  },
  {
   "cell_type": "markdown",
   "id": "reserved-savage",
   "metadata": {},
   "source": [
    "## Headlines"
   ]
  },
  {
   "cell_type": "code",
   "execution_count": 13,
   "id": "express-contributor",
   "metadata": {},
   "outputs": [],
   "source": [
    "with open(PARAPHRASER_PATH) as f:\n",
    "    titles = json.load(f)"
   ]
  },
  {
   "cell_type": "code",
   "execution_count": 14,
   "id": "proved-personality",
   "metadata": {},
   "outputs": [
    {
     "data": {
      "text/plain": [
       "1725393"
      ]
     },
     "execution_count": 14,
     "metadata": {},
     "output_type": "execute_result"
    }
   ],
   "source": [
    "len(titles)"
   ]
  },
  {
   "cell_type": "code",
   "execution_count": 21,
   "id": "rolled-clone",
   "metadata": {},
   "outputs": [
    {
     "data": {
      "text/plain": [
       "{'rubric': 'происшествия',\n",
       " 'date': '2019/01/02',\n",
       " 'headlines': ['При пожаре в общежитии Нижнего Тагила погибли двое мужчин',\n",
       "  'Два человека погибли в результате пожара в общежитии в Нижнем Тагиле',\n",
       "  'В Нижнем Тагиле два человека погибли при пожаре в общежитии',\n",
       "  'При пожаре в общежитии в Нижнем Тагиле погибли два человека']}"
      ]
     },
     "execution_count": 21,
     "metadata": {},
     "output_type": "execute_result"
    }
   ],
   "source": [
    "titles[\"19\"]"
   ]
  },
  {
   "cell_type": "code",
   "execution_count": 17,
   "id": "temporal-crystal",
   "metadata": {},
   "outputs": [],
   "source": [
    "from collections import Counter"
   ]
  },
  {
   "cell_type": "code",
   "execution_count": 20,
   "id": "material-electron",
   "metadata": {},
   "outputs": [
    {
     "data": {
      "text/plain": [
       "Counter({2: 698548,\n",
       "         3: 332557,\n",
       "         4: 198145,\n",
       "         7: 74575,\n",
       "         6: 99496,\n",
       "         5: 135604,\n",
       "         11: 23077,\n",
       "         8: 56912,\n",
       "         9: 42693,\n",
       "         13: 9597,\n",
       "         10: 31781,\n",
       "         14: 4800,\n",
       "         12: 16243,\n",
       "         15: 1365})"
      ]
     },
     "execution_count": 20,
     "metadata": {},
     "output_type": "execute_result"
    }
   ],
   "source": [
    "Counter([len(i[\"headlines\"]) for i in titles.values()])"
   ]
  },
  {
   "cell_type": "code",
   "execution_count": null,
   "id": "loved-incident",
   "metadata": {},
   "outputs": [],
   "source": []
  },
  {
   "cell_type": "code",
   "execution_count": 34,
   "id": "digital-aruba",
   "metadata": {},
   "outputs": [
    {
     "data": {
      "text/plain": [
       "Counter({'общество': 371109,\n",
       "         'спорт': 192182,\n",
       "         'региональные': 174090,\n",
       "         'происшествия': 325432,\n",
       "         'конфликты': 3663,\n",
       "         'зарубежные': 83763,\n",
       "         'политика': 285048,\n",
       "         'наука': 18429,\n",
       "         'культура': 15419,\n",
       "         'экономика': 227740,\n",
       "         'события': 13891,\n",
       "         'медиа': 3243,\n",
       "         'авто': 7824,\n",
       "         'жкх': 3359,\n",
       "         'здоровье': 200,\n",
       "         'животные': 1})"
      ]
     },
     "execution_count": 34,
     "metadata": {},
     "output_type": "execute_result"
    }
   ],
   "source": [
    "Counter(titles[k][\"rubric\"] for k in titles)"
   ]
  },
  {
   "cell_type": "code",
   "execution_count": 36,
   "id": "constitutional-paraguay",
   "metadata": {},
   "outputs": [],
   "source": [
    "# выбираем самый длинный headline как input, и остальные как output, если они короче его > чем на 2\n",
    "\n",
    "def select_headlines(headlines_lst):\n",
    "    result = []\n",
    "    (long_headline, long_len), *other_headlines = sorted(\n",
    "        [(text, len(get_word_tokens(text))) for text in headlines_lst], key=lambda x: -x[1]\n",
    "    )\n",
    "    for headline, len_ in other_headlines:\n",
    "        if long_len - len_ > 2:\n",
    "            result.append([long_headline, headline, long_len, len_])\n",
    "    return result"
   ]
  },
  {
   "cell_type": "code",
   "execution_count": 43,
   "id": "meaning-howard",
   "metadata": {},
   "outputs": [
    {
     "name": "stdout",
     "output_type": "stream",
     "text": [
      "('Решение о снятии карантина в иркутских школах примут 13 февраля', 10)\n",
      "('Карантин в школах Иркутска снимут 14 февраля', 7)\n"
     ]
    },
    {
     "data": {
      "text/plain": [
       "[['Решение о снятии карантина в иркутских школах примут 13 февраля',\n",
       "  'Карантин в школах Иркутска снимут 14 февраля',\n",
       "  10,\n",
       "  7]]"
      ]
     },
     "execution_count": 43,
     "metadata": {},
     "output_type": "execute_result"
    }
   ],
   "source": [
    "sample = titles[str(np.random.choice(len(titles)))][\"headlines\"]\n",
    "print(*sorted([(text, len(get_word_tokens(text))) for text in sample], key=lambda x: -x[1]), sep=\"\\n\")\n",
    "select_headlines(sample)"
   ]
  },
  {
   "cell_type": "code",
   "execution_count": 44,
   "id": "musical-wings",
   "metadata": {},
   "outputs": [
    {
     "data": {
      "application/vnd.jupyter.widget-view+json": {
       "model_id": "98fcc2810266458f8bc1831045070f3a",
       "version_major": 2,
       "version_minor": 0
      },
      "text/plain": [
       "  0%|          | 0/1725393 [00:00<?, ?it/s]"
      ]
     },
     "metadata": {},
     "output_type": "display_data"
    }
   ],
   "source": [
    "# без спорта\n",
    "headlines_lst = []\n",
    "for k in tqdm(titles):\n",
    "    if titles[k][\"rubric\"] in [\"спорт\"]:\n",
    "        continue\n",
    "    headlines = titles[k][\"headlines\"]\n",
    "    result = select_headlines(headlines)\n",
    "    if result:\n",
    "        headlines_lst.append(result)\n",
    "\n",
    "headlines_lst = [row for lst in headlines_lst for row in lst]\n",
    "\n",
    "headlines_df = pd.DataFrame(headlines_lst, columns=[\"input\", \"output\", \"inp_len\", \"out_len\"])"
   ]
  },
  {
   "cell_type": "code",
   "execution_count": 46,
   "id": "cultural-uniform",
   "metadata": {},
   "outputs": [],
   "source": [
    "headlines_df[\"diff\"] = headlines_df[\"inp_len\"] - headlines_df[\"out_len\"]"
   ]
  },
  {
   "cell_type": "code",
   "execution_count": 48,
   "id": "apparent-sydney",
   "metadata": {},
   "outputs": [
    {
     "data": {
      "image/png": "[encoded data removed]",
      "text/plain": [
       "<Figure size 432x288 with 1 Axes>"
      ]
     },
     "metadata": {
      "needs_background": "light"
     },
     "output_type": "display_data"
    }
   ],
   "source": [
    "headlines_df[\"diff\"].hist(bins=np.arange(0, 50, 1));"
   ]
  },
  {
   "cell_type": "code",
   "execution_count": 134,
   "id": "civic-parameter",
   "metadata": {},
   "outputs": [],
   "source": [
    "# итого + без \"курс\" в строке, и разницей между input output > 4 и < 20\n",
    "\n",
    "headlines_df = headlines_df[\n",
    "    ~((headlines_df[\"input\"].str.lower().str.contains(\"курс\"))\n",
    "     | (headlines_df[\"output\"].str.lower().str.contains(\"курс\"))\n",
    "     | (headlines_df[\"input\"].str.lower().str.contains(\"{\")))\n",
    "    & (headlines_df[\"diff\"] > 4)\n",
    "    & (headlines_df[\"diff\"] < 20)\n",
    "].reset_index(drop=True)"
   ]
  },
  {
   "cell_type": "code",
   "execution_count": 135,
   "id": "crude-animal",
   "metadata": {},
   "outputs": [],
   "source": [
    "# сэмплируем 250к примеров\n",
    "headlines_sample_df = headlines_df.sample(250000, random_state=19)"
   ]
  },
  {
   "cell_type": "code",
   "execution_count": 144,
   "id": "fluid-height",
   "metadata": {},
   "outputs": [
    {
     "name": "stdout",
     "output_type": "stream",
     "text": [
      "input \n",
      " Следствие по делу Пусси Райт завершено и направлено в прокуратуру для утверждения\n",
      "output \n",
      " Дело Pussy Riot передано в прокуратуру\n"
     ]
    }
   ],
   "source": [
    "sample = headlines_sample_df.sample()\n",
    "for col in [\"input\", \"output\"]:\n",
    "    text = sample[col].item()\n",
    "    print(col, \"\\n\", text)"
   ]
  },
  {
   "cell_type": "code",
   "execution_count": 145,
   "id": "cathedral-integration",
   "metadata": {},
   "outputs": [
    {
     "data": {
      "image/png": "[encoded data removed]",
      "text/plain": [
       "<Figure size 720x720 with 6 Axes>"
      ]
     },
     "metadata": {
      "needs_background": "light"
     },
     "output_type": "display_data"
    }
   ],
   "source": [
    "g = sns.PairGrid(headlines_sample_df[[\"inp_len\", \"out_len\"]], height=5)\n",
    "g.map_upper(sns.histplot)\n",
    "g.map_lower(sns.kdeplot, fill=True)\n",
    "g.map_diag(sns.histplot, kde=True);"
   ]
  },
  {
   "cell_type": "code",
   "execution_count": 148,
   "id": "graphic-thanksgiving",
   "metadata": {},
   "outputs": [],
   "source": [
    "headlines_sample_df[[\"input\", \"output\"]].to_csv(DATA_DIR / \"prepared_data\" / \"headlines_sample.csv\", index=False)"
   ]
  },
  {
   "cell_type": "markdown",
   "id": "international-apparatus",
   "metadata": {},
   "source": [
    "## Combine"
   ]
  },
  {
   "cell_type": "code",
   "execution_count": 149,
   "id": "random-conditions",
   "metadata": {},
   "outputs": [],
   "source": [
    "# добавляем 250к заголовков к отобранному wiki\n",
    "\n",
    "combined_df = pd.concat([wiki_df_part[[\"input\", \"output\"]],\n",
    "                         headlines_sample_df[[\"input\", \"output\"]]]).sample(frac=1, random_state=19).reset_index(drop=True)"
   ]
  },
  {
   "cell_type": "code",
   "execution_count": 163,
   "id": "valuable-mapping",
   "metadata": {},
   "outputs": [
    {
     "name": "stdout",
     "output_type": "stream",
     "text": [
      "input \n",
      " Последний человек, который, как известно, имел прямое происхождение от Линкольна, внук Роберта Бад Беквит умер в 1985 году.\n",
      "output \n",
      " Последним человеком, который имел прямое отношение к Линкольну, был внук Роберта Бад Беквит. Он умер в 1985 году.\n"
     ]
    }
   ],
   "source": [
    "sample = combined_df.sample()\n",
    "for col in [\"input\", \"output\"]:\n",
    "    text = sample[col].item()\n",
    "    print(col, \"\\n\", text)"
   ]
  },
  {
   "cell_type": "code",
   "execution_count": 166,
   "id": "cooperative-differential",
   "metadata": {},
   "outputs": [],
   "source": [
    "combined_df[[\"input\", \"output\"]].to_csv(DATA_DIR / \"prepared_data\" / \"combined_df.csv\", index=False)"
   ]
  },
  {
   "cell_type": "markdown",
   "id": "fifth-measure",
   "metadata": {},
   "source": [
    "# Отбор по косинусной близости и rouge-L"
   ]
  },
  {
   "cell_type": "code",
   "execution_count": 4,
   "id": "varied-extra",
   "metadata": {},
   "outputs": [],
   "source": [
    "MAX_LENGTH = 200"
   ]
  },
  {
   "cell_type": "code",
   "execution_count": 5,
   "id": "compliant-rubber",
   "metadata": {},
   "outputs": [],
   "source": [
    "def get_word_tokens(text):\n",
    "    tokens = re.sub(r\"[^\\w\\s]\", \"\", text).split()\n",
    "    tokens = [t.lower() for t in tokens]\n",
    "    return tokens"
   ]
  },
  {
   "cell_type": "code",
   "execution_count": 6,
   "id": "familiar-encoding",
   "metadata": {},
   "outputs": [],
   "source": [
    "# Mean Pooling - Take attention mask into account for correct averaging\n",
    "def mean_pooling(model_output, attention_mask):\n",
    "    token_embeddings = model_output[0] # First element of model_output contains all token embeddings\n",
    "    input_mask_expanded = attention_mask.unsqueeze(-1).expand(token_embeddings.size()).float()\n",
    "    sum_embeddings = torch.sum(token_embeddings * input_mask_expanded, 1)\n",
    "    sum_mask = torch.clamp(input_mask_expanded.sum(1), min=1e-9)\n",
    "    return sum_embeddings / sum_mask"
   ]
  },
  {
   "cell_type": "code",
   "execution_count": 7,
   "id": "elegant-sustainability",
   "metadata": {},
   "outputs": [],
   "source": [
    "def get_similarities(model, tokenizer, input_texts, output_texts):\n",
    "    # Tokenize sentences\n",
    "    encoded_input = tokenizer(input_texts, padding=True, truncation=True,\n",
    "                              max_length=MAX_LENGTH, return_tensors='pt').to(model.device)\n",
    "    encoded_output = tokenizer(output_texts, padding=True, truncation=True,\n",
    "                              max_length=MAX_LENGTH, return_tensors='pt').to(model.device)\n",
    "\n",
    "    # Compute token embeddings\n",
    "    with torch.no_grad():\n",
    "        model_emb_input = model(**encoded_input)\n",
    "        model_emb_output = model(**encoded_output)\n",
    "\n",
    "    # Perform pooling. In this case, mean pooling\n",
    "    input_embeddings = mean_pooling(model_emb_input, encoded_input['attention_mask']).cpu()\n",
    "    output_embeddings = mean_pooling(model_emb_output, encoded_output['attention_mask']).cpu()\n",
    "    similarity = cosine_similarity(input_embeddings, output_embeddings)\n",
    "    return similarity"
   ]
  },
  {
   "cell_type": "code",
   "execution_count": 8,
   "id": "original-anaheim",
   "metadata": {},
   "outputs": [],
   "source": [
    "def get_rougel(input_text, output_text):\n",
    "    \"\"\"\n",
    "    Returns rouge-l f-score\n",
    "    \"\"\"\n",
    "    rouge = Rouge()\n",
    "    scores = []\n",
    "    # try/except because of empty output or just dot (in dev_sents)\n",
    "    try:\n",
    "        score = rouge.get_scores(input_text, output_text)[0]\n",
    "        score = score[\"rouge-l\"][\"f\"]\n",
    "    except ValueError:  \n",
    "        score = 0.0\n",
    "    return score"
   ]
  },
  {
   "cell_type": "code",
   "execution_count": 9,
   "id": "diverse-portland",
   "metadata": {},
   "outputs": [
    {
     "data": {
      "text/plain": [
       "BertModel(\n",
       "  (embeddings): BertEmbeddings(\n",
       "    (word_embeddings): Embedding(120138, 1024, padding_idx=0)\n",
       "    (position_embeddings): Embedding(512, 1024)\n",
       "    (token_type_embeddings): Embedding(2, 1024)\n",
       "    (LayerNorm): LayerNorm((1024,), eps=1e-12, elementwise_affine=True)\n",
       "    (dropout): Dropout(p=0.1, inplace=False)\n",
       "  )\n",
       "  (encoder): BertEncoder(\n",
       "    (layer): ModuleList(\n",
       "      (0): BertLayer(\n",
       "        (attention): BertAttention(\n",
       "          (self): BertSelfAttention(\n",
       "            (query): Linear(in_features=1024, out_features=1024, bias=True)\n",
       "            (key): Linear(in_features=1024, out_features=1024, bias=True)\n",
       "            (value): Linear(in_features=1024, out_features=1024, bias=True)\n",
       "            (dropout): Dropout(p=0.1, inplace=False)\n",
       "          )\n",
       "          (output): BertSelfOutput(\n",
       "            (dense): Linear(in_features=1024, out_features=1024, bias=True)\n",
       "            (LayerNorm): LayerNorm((1024,), eps=1e-12, elementwise_affine=True)\n",
       "            (dropout): Dropout(p=0.1, inplace=False)\n",
       "          )\n",
       "        )\n",
       "        (intermediate): BertIntermediate(\n",
       "          (dense): Linear(in_features=1024, out_features=4096, bias=True)\n",
       "        )\n",
       "        (output): BertOutput(\n",
       "          (dense): Linear(in_features=4096, out_features=1024, bias=True)\n",
       "          (LayerNorm): LayerNorm((1024,), eps=1e-12, elementwise_affine=True)\n",
       "          (dropout): Dropout(p=0.1, inplace=False)\n",
       "        )\n",
       "      )\n",
       "      (1): BertLayer(\n",
       "        (attention): BertAttention(\n",
       "          (self): BertSelfAttention(\n",
       "            (query): Linear(in_features=1024, out_features=1024, bias=True)\n",
       "            (key): Linear(in_features=1024, out_features=1024, bias=True)\n",
       "            (value): Linear(in_features=1024, out_features=1024, bias=True)\n",
       "            (dropout): Dropout(p=0.1, inplace=False)\n",
       "          )\n",
       "          (output): BertSelfOutput(\n",
       "            (dense): Linear(in_features=1024, out_features=1024, bias=True)\n",
       "            (LayerNorm): LayerNorm((1024,), eps=1e-12, elementwise_affine=True)\n",
       "            (dropout): Dropout(p=0.1, inplace=False)\n",
       "          )\n",
       "        )\n",
       "        (intermediate): BertIntermediate(\n",
       "          (dense): Linear(in_features=1024, out_features=4096, bias=True)\n",
       "        )\n",
       "        (output): BertOutput(\n",
       "          (dense): Linear(in_features=4096, out_features=1024, bias=True)\n",
       "          (LayerNorm): LayerNorm((1024,), eps=1e-12, elementwise_affine=True)\n",
       "          (dropout): Dropout(p=0.1, inplace=False)\n",
       "        )\n",
       "      )\n",
       "      (2): BertLayer(\n",
       "        (attention): BertAttention(\n",
       "          (self): BertSelfAttention(\n",
       "            (query): Linear(in_features=1024, out_features=1024, bias=True)\n",
       "            (key): Linear(in_features=1024, out_features=1024, bias=True)\n",
       "            (value): Linear(in_features=1024, out_features=1024, bias=True)\n",
       "            (dropout): Dropout(p=0.1, inplace=False)\n",
       "          )\n",
       "          (output): BertSelfOutput(\n",
       "            (dense): Linear(in_features=1024, out_features=1024, bias=True)\n",
       "            (LayerNorm): LayerNorm((1024,), eps=1e-12, elementwise_affine=True)\n",
       "            (dropout): Dropout(p=0.1, inplace=False)\n",
       "          )\n",
       "        )\n",
       "        (intermediate): BertIntermediate(\n",
       "          (dense): Linear(in_features=1024, out_features=4096, bias=True)\n",
       "        )\n",
       "        (output): BertOutput(\n",
       "          (dense): Linear(in_features=4096, out_features=1024, bias=True)\n",
       "          (LayerNorm): LayerNorm((1024,), eps=1e-12, elementwise_affine=True)\n",
       "          (dropout): Dropout(p=0.1, inplace=False)\n",
       "        )\n",
       "      )\n",
       "      (3): BertLayer(\n",
       "        (attention): BertAttention(\n",
       "          (self): BertSelfAttention(\n",
       "            (query): Linear(in_features=1024, out_features=1024, bias=True)\n",
       "            (key): Linear(in_features=1024, out_features=1024, bias=True)\n",
       "            (value): Linear(in_features=1024, out_features=1024, bias=True)\n",
       "            (dropout): Dropout(p=0.1, inplace=False)\n",
       "          )\n",
       "          (output): BertSelfOutput(\n",
       "            (dense): Linear(in_features=1024, out_features=1024, bias=True)\n",
       "            (LayerNorm): LayerNorm((1024,), eps=1e-12, elementwise_affine=True)\n",
       "            (dropout): Dropout(p=0.1, inplace=False)\n",
       "          )\n",
       "        )\n",
       "        (intermediate): BertIntermediate(\n",
       "          (dense): Linear(in_features=1024, out_features=4096, bias=True)\n",
       "        )\n",
       "        (output): BertOutput(\n",
       "          (dense): Linear(in_features=4096, out_features=1024, bias=True)\n",
       "          (LayerNorm): LayerNorm((1024,), eps=1e-12, elementwise_affine=True)\n",
       "          (dropout): Dropout(p=0.1, inplace=False)\n",
       "        )\n",
       "      )\n",
       "      (4): BertLayer(\n",
       "        (attention): BertAttention(\n",
       "          (self): BertSelfAttention(\n",
       "            (query): Linear(in_features=1024, out_features=1024, bias=True)\n",
       "            (key): Linear(in_features=1024, out_features=1024, bias=True)\n",
       "            (value): Linear(in_features=1024, out_features=1024, bias=True)\n",
       "            (dropout): Dropout(p=0.1, inplace=False)\n",
       "          )\n",
       "          (output): BertSelfOutput(\n",
       "            (dense): Linear(in_features=1024, out_features=1024, bias=True)\n",
       "            (LayerNorm): LayerNorm((1024,), eps=1e-12, elementwise_affine=True)\n",
       "            (dropout): Dropout(p=0.1, inplace=False)\n",
       "          )\n",
       "        )\n",
       "        (intermediate): BertIntermediate(\n",
       "          (dense): Linear(in_features=1024, out_features=4096, bias=True)\n",
       "        )\n",
       "        (output): BertOutput(\n",
       "          (dense): Linear(in_features=4096, out_features=1024, bias=True)\n",
       "          (LayerNorm): LayerNorm((1024,), eps=1e-12, elementwise_affine=True)\n",
       "          (dropout): Dropout(p=0.1, inplace=False)\n",
       "        )\n",
       "      )\n",
       "      (5): BertLayer(\n",
       "        (attention): BertAttention(\n",
       "          (self): BertSelfAttention(\n",
       "            (query): Linear(in_features=1024, out_features=1024, bias=True)\n",
       "            (key): Linear(in_features=1024, out_features=1024, bias=True)\n",
       "            (value): Linear(in_features=1024, out_features=1024, bias=True)\n",
       "            (dropout): Dropout(p=0.1, inplace=False)\n",
       "          )\n",
       "          (output): BertSelfOutput(\n",
       "            (dense): Linear(in_features=1024, out_features=1024, bias=True)\n",
       "            (LayerNorm): LayerNorm((1024,), eps=1e-12, elementwise_affine=True)\n",
       "            (dropout): Dropout(p=0.1, inplace=False)\n",
       "          )\n",
       "        )\n",
       "        (intermediate): BertIntermediate(\n",
       "          (dense): Linear(in_features=1024, out_features=4096, bias=True)\n",
       "        )\n",
       "        (output): BertOutput(\n",
       "          (dense): Linear(in_features=4096, out_features=1024, bias=True)\n",
       "          (LayerNorm): LayerNorm((1024,), eps=1e-12, elementwise_affine=True)\n",
       "          (dropout): Dropout(p=0.1, inplace=False)\n",
       "        )\n",
       "      )\n",
       "      (6): BertLayer(\n",
       "        (attention): BertAttention(\n",
       "          (self): BertSelfAttention(\n",
       "            (query): Linear(in_features=1024, out_features=1024, bias=True)\n",
       "            (key): Linear(in_features=1024, out_features=1024, bias=True)\n",
       "            (value): Linear(in_features=1024, out_features=1024, bias=True)\n",
       "            (dropout): Dropout(p=0.1, inplace=False)\n",
       "          )\n",
       "          (output): BertSelfOutput(\n",
       "            (dense): Linear(in_features=1024, out_features=1024, bias=True)\n",
       "            (LayerNorm): LayerNorm((1024,), eps=1e-12, elementwise_affine=True)\n",
       "            (dropout): Dropout(p=0.1, inplace=False)\n",
       "          )\n",
       "        )\n",
       "        (intermediate): BertIntermediate(\n",
       "          (dense): Linear(in_features=1024, out_features=4096, bias=True)\n",
       "        )\n",
       "        (output): BertOutput(\n",
       "          (dense): Linear(in_features=4096, out_features=1024, bias=True)\n",
       "          (LayerNorm): LayerNorm((1024,), eps=1e-12, elementwise_affine=True)\n",
       "          (dropout): Dropout(p=0.1, inplace=False)\n",
       "        )\n",
       "      )\n",
       "      (7): BertLayer(\n",
       "        (attention): BertAttention(\n",
       "          (self): BertSelfAttention(\n",
       "            (query): Linear(in_features=1024, out_features=1024, bias=True)\n",
       "            (key): Linear(in_features=1024, out_features=1024, bias=True)\n",
       "            (value): Linear(in_features=1024, out_features=1024, bias=True)\n",
       "            (dropout): Dropout(p=0.1, inplace=False)\n",
       "          )\n",
       "          (output): BertSelfOutput(\n",
       "            (dense): Linear(in_features=1024, out_features=1024, bias=True)\n",
       "            (LayerNorm): LayerNorm((1024,), eps=1e-12, elementwise_affine=True)\n",
       "            (dropout): Dropout(p=0.1, inplace=False)\n",
       "          )\n",
       "        )\n",
       "        (intermediate): BertIntermediate(\n",
       "          (dense): Linear(in_features=1024, out_features=4096, bias=True)\n",
       "        )\n",
       "        (output): BertOutput(\n",
       "          (dense): Linear(in_features=4096, out_features=1024, bias=True)\n",
       "          (LayerNorm): LayerNorm((1024,), eps=1e-12, elementwise_affine=True)\n",
       "          (dropout): Dropout(p=0.1, inplace=False)\n",
       "        )\n",
       "      )\n",
       "      (8): BertLayer(\n",
       "        (attention): BertAttention(\n",
       "          (self): BertSelfAttention(\n",
       "            (query): Linear(in_features=1024, out_features=1024, bias=True)\n",
       "            (key): Linear(in_features=1024, out_features=1024, bias=True)\n",
       "            (value): Linear(in_features=1024, out_features=1024, bias=True)\n",
       "            (dropout): Dropout(p=0.1, inplace=False)\n",
       "          )\n",
       "          (output): BertSelfOutput(\n",
       "            (dense): Linear(in_features=1024, out_features=1024, bias=True)\n",
       "            (LayerNorm): LayerNorm((1024,), eps=1e-12, elementwise_affine=True)\n",
       "            (dropout): Dropout(p=0.1, inplace=False)\n",
       "          )\n",
       "        )\n",
       "        (intermediate): BertIntermediate(\n",
       "          (dense): Linear(in_features=1024, out_features=4096, bias=True)\n",
       "        )\n",
       "        (output): BertOutput(\n",
       "          (dense): Linear(in_features=4096, out_features=1024, bias=True)\n",
       "          (LayerNorm): LayerNorm((1024,), eps=1e-12, elementwise_affine=True)\n",
       "          (dropout): Dropout(p=0.1, inplace=False)\n",
       "        )\n",
       "      )\n",
       "      (9): BertLayer(\n",
       "        (attention): BertAttention(\n",
       "          (self): BertSelfAttention(\n",
       "            (query): Linear(in_features=1024, out_features=1024, bias=True)\n",
       "            (key): Linear(in_features=1024, out_features=1024, bias=True)\n",
       "            (value): Linear(in_features=1024, out_features=1024, bias=True)\n",
       "            (dropout): Dropout(p=0.1, inplace=False)\n",
       "          )\n",
       "          (output): BertSelfOutput(\n",
       "            (dense): Linear(in_features=1024, out_features=1024, bias=True)\n",
       "            (LayerNorm): LayerNorm((1024,), eps=1e-12, elementwise_affine=True)\n",
       "            (dropout): Dropout(p=0.1, inplace=False)\n",
       "          )\n",
       "        )\n",
       "        (intermediate): BertIntermediate(\n",
       "          (dense): Linear(in_features=1024, out_features=4096, bias=True)\n",
       "        )\n",
       "        (output): BertOutput(\n",
       "          (dense): Linear(in_features=4096, out_features=1024, bias=True)\n",
       "          (LayerNorm): LayerNorm((1024,), eps=1e-12, elementwise_affine=True)\n",
       "          (dropout): Dropout(p=0.1, inplace=False)\n",
       "        )\n",
       "      )\n",
       "      (10): BertLayer(\n",
       "        (attention): BertAttention(\n",
       "          (self): BertSelfAttention(\n",
       "            (query): Linear(in_features=1024, out_features=1024, bias=True)\n",
       "            (key): Linear(in_features=1024, out_features=1024, bias=True)\n",
       "            (value): Linear(in_features=1024, out_features=1024, bias=True)\n",
       "            (dropout): Dropout(p=0.1, inplace=False)\n",
       "          )\n",
       "          (output): BertSelfOutput(\n",
       "            (dense): Linear(in_features=1024, out_features=1024, bias=True)\n",
       "            (LayerNorm): LayerNorm((1024,), eps=1e-12, elementwise_affine=True)\n",
       "            (dropout): Dropout(p=0.1, inplace=False)\n",
       "          )\n",
       "        )\n",
       "        (intermediate): BertIntermediate(\n",
       "          (dense): Linear(in_features=1024, out_features=4096, bias=True)\n",
       "        )\n",
       "        (output): BertOutput(\n",
       "          (dense): Linear(in_features=4096, out_features=1024, bias=True)\n",
       "          (LayerNorm): LayerNorm((1024,), eps=1e-12, elementwise_affine=True)\n",
       "          (dropout): Dropout(p=0.1, inplace=False)\n",
       "        )\n",
       "      )\n",
       "      (11): BertLayer(\n",
       "        (attention): BertAttention(\n",
       "          (self): BertSelfAttention(\n",
       "            (query): Linear(in_features=1024, out_features=1024, bias=True)\n",
       "            (key): Linear(in_features=1024, out_features=1024, bias=True)\n",
       "            (value): Linear(in_features=1024, out_features=1024, bias=True)\n",
       "            (dropout): Dropout(p=0.1, inplace=False)\n",
       "          )\n",
       "          (output): BertSelfOutput(\n",
       "            (dense): Linear(in_features=1024, out_features=1024, bias=True)\n",
       "            (LayerNorm): LayerNorm((1024,), eps=1e-12, elementwise_affine=True)\n",
       "            (dropout): Dropout(p=0.1, inplace=False)\n",
       "          )\n",
       "        )\n",
       "        (intermediate): BertIntermediate(\n",
       "          (dense): Linear(in_features=1024, out_features=4096, bias=True)\n",
       "        )\n",
       "        (output): BertOutput(\n",
       "          (dense): Linear(in_features=4096, out_features=1024, bias=True)\n",
       "          (LayerNorm): LayerNorm((1024,), eps=1e-12, elementwise_affine=True)\n",
       "          (dropout): Dropout(p=0.1, inplace=False)\n",
       "        )\n",
       "      )\n",
       "      (12): BertLayer(\n",
       "        (attention): BertAttention(\n",
       "          (self): BertSelfAttention(\n",
       "            (query): Linear(in_features=1024, out_features=1024, bias=True)\n",
       "            (key): Linear(in_features=1024, out_features=1024, bias=True)\n",
       "            (value): Linear(in_features=1024, out_features=1024, bias=True)\n",
       "            (dropout): Dropout(p=0.1, inplace=False)\n",
       "          )\n",
       "          (output): BertSelfOutput(\n",
       "            (dense): Linear(in_features=1024, out_features=1024, bias=True)\n",
       "            (LayerNorm): LayerNorm((1024,), eps=1e-12, elementwise_affine=True)\n",
       "            (dropout): Dropout(p=0.1, inplace=False)\n",
       "          )\n",
       "        )\n",
       "        (intermediate): BertIntermediate(\n",
       "          (dense): Linear(in_features=1024, out_features=4096, bias=True)\n",
       "        )\n",
       "        (output): BertOutput(\n",
       "          (dense): Linear(in_features=4096, out_features=1024, bias=True)\n",
       "          (LayerNorm): LayerNorm((1024,), eps=1e-12, elementwise_affine=True)\n",
       "          (dropout): Dropout(p=0.1, inplace=False)\n",
       "        )\n",
       "      )\n",
       "      (13): BertLayer(\n",
       "        (attention): BertAttention(\n",
       "          (self): BertSelfAttention(\n",
       "            (query): Linear(in_features=1024, out_features=1024, bias=True)\n",
       "            (key): Linear(in_features=1024, out_features=1024, bias=True)\n",
       "            (value): Linear(in_features=1024, out_features=1024, bias=True)\n",
       "            (dropout): Dropout(p=0.1, inplace=False)\n",
       "          )\n",
       "          (output): BertSelfOutput(\n",
       "            (dense): Linear(in_features=1024, out_features=1024, bias=True)\n",
       "            (LayerNorm): LayerNorm((1024,), eps=1e-12, elementwise_affine=True)\n",
       "            (dropout): Dropout(p=0.1, inplace=False)\n",
       "          )\n",
       "        )\n",
       "        (intermediate): BertIntermediate(\n",
       "          (dense): Linear(in_features=1024, out_features=4096, bias=True)\n",
       "        )\n",
       "        (output): BertOutput(\n",
       "          (dense): Linear(in_features=4096, out_features=1024, bias=True)\n",
       "          (LayerNorm): LayerNorm((1024,), eps=1e-12, elementwise_affine=True)\n",
       "          (dropout): Dropout(p=0.1, inplace=False)\n",
       "        )\n",
       "      )\n",
       "      (14): BertLayer(\n",
       "        (attention): BertAttention(\n",
       "          (self): BertSelfAttention(\n",
       "            (query): Linear(in_features=1024, out_features=1024, bias=True)\n",
       "            (key): Linear(in_features=1024, out_features=1024, bias=True)\n",
       "            (value): Linear(in_features=1024, out_features=1024, bias=True)\n",
       "            (dropout): Dropout(p=0.1, inplace=False)\n",
       "          )\n",
       "          (output): BertSelfOutput(\n",
       "            (dense): Linear(in_features=1024, out_features=1024, bias=True)\n",
       "            (LayerNorm): LayerNorm((1024,), eps=1e-12, elementwise_affine=True)\n",
       "            (dropout): Dropout(p=0.1, inplace=False)\n",
       "          )\n",
       "        )\n",
       "        (intermediate): BertIntermediate(\n",
       "          (dense): Linear(in_features=1024, out_features=4096, bias=True)\n",
       "        )\n",
       "        (output): BertOutput(\n",
       "          (dense): Linear(in_features=4096, out_features=1024, bias=True)\n",
       "          (LayerNorm): LayerNorm((1024,), eps=1e-12, elementwise_affine=True)\n",
       "          (dropout): Dropout(p=0.1, inplace=False)\n",
       "        )\n",
       "      )\n",
       "      (15): BertLayer(\n",
       "        (attention): BertAttention(\n",
       "          (self): BertSelfAttention(\n",
       "            (query): Linear(in_features=1024, out_features=1024, bias=True)\n",
       "            (key): Linear(in_features=1024, out_features=1024, bias=True)\n",
       "            (value): Linear(in_features=1024, out_features=1024, bias=True)\n",
       "            (dropout): Dropout(p=0.1, inplace=False)\n",
       "          )\n",
       "          (output): BertSelfOutput(\n",
       "            (dense): Linear(in_features=1024, out_features=1024, bias=True)\n",
       "            (LayerNorm): LayerNorm((1024,), eps=1e-12, elementwise_affine=True)\n",
       "            (dropout): Dropout(p=0.1, inplace=False)\n",
       "          )\n",
       "        )\n",
       "        (intermediate): BertIntermediate(\n",
       "          (dense): Linear(in_features=1024, out_features=4096, bias=True)\n",
       "        )\n",
       "        (output): BertOutput(\n",
       "          (dense): Linear(in_features=4096, out_features=1024, bias=True)\n",
       "          (LayerNorm): LayerNorm((1024,), eps=1e-12, elementwise_affine=True)\n",
       "          (dropout): Dropout(p=0.1, inplace=False)\n",
       "        )\n",
       "      )\n",
       "      (16): BertLayer(\n",
       "        (attention): BertAttention(\n",
       "          (self): BertSelfAttention(\n",
       "            (query): Linear(in_features=1024, out_features=1024, bias=True)\n",
       "            (key): Linear(in_features=1024, out_features=1024, bias=True)\n",
       "            (value): Linear(in_features=1024, out_features=1024, bias=True)\n",
       "            (dropout): Dropout(p=0.1, inplace=False)\n",
       "          )\n",
       "          (output): BertSelfOutput(\n",
       "            (dense): Linear(in_features=1024, out_features=1024, bias=True)\n",
       "            (LayerNorm): LayerNorm((1024,), eps=1e-12, elementwise_affine=True)\n",
       "            (dropout): Dropout(p=0.1, inplace=False)\n",
       "          )\n",
       "        )\n",
       "        (intermediate): BertIntermediate(\n",
       "          (dense): Linear(in_features=1024, out_features=4096, bias=True)\n",
       "        )\n",
       "        (output): BertOutput(\n",
       "          (dense): Linear(in_features=4096, out_features=1024, bias=True)\n",
       "          (LayerNorm): LayerNorm((1024,), eps=1e-12, elementwise_affine=True)\n",
       "          (dropout): Dropout(p=0.1, inplace=False)\n",
       "        )\n",
       "      )\n",
       "      (17): BertLayer(\n",
       "        (attention): BertAttention(\n",
       "          (self): BertSelfAttention(\n",
       "            (query): Linear(in_features=1024, out_features=1024, bias=True)\n",
       "            (key): Linear(in_features=1024, out_features=1024, bias=True)\n",
       "            (value): Linear(in_features=1024, out_features=1024, bias=True)\n",
       "            (dropout): Dropout(p=0.1, inplace=False)\n",
       "          )\n",
       "          (output): BertSelfOutput(\n",
       "            (dense): Linear(in_features=1024, out_features=1024, bias=True)\n",
       "            (LayerNorm): LayerNorm((1024,), eps=1e-12, elementwise_affine=True)\n",
       "            (dropout): Dropout(p=0.1, inplace=False)\n",
       "          )\n",
       "        )\n",
       "        (intermediate): BertIntermediate(\n",
       "          (dense): Linear(in_features=1024, out_features=4096, bias=True)\n",
       "        )\n",
       "        (output): BertOutput(\n",
       "          (dense): Linear(in_features=4096, out_features=1024, bias=True)\n",
       "          (LayerNorm): LayerNorm((1024,), eps=1e-12, elementwise_affine=True)\n",
       "          (dropout): Dropout(p=0.1, inplace=False)\n",
       "        )\n",
       "      )\n",
       "      (18): BertLayer(\n",
       "        (attention): BertAttention(\n",
       "          (self): BertSelfAttention(\n",
       "            (query): Linear(in_features=1024, out_features=1024, bias=True)\n",
       "            (key): Linear(in_features=1024, out_features=1024, bias=True)\n",
       "            (value): Linear(in_features=1024, out_features=1024, bias=True)\n",
       "            (dropout): Dropout(p=0.1, inplace=False)\n",
       "          )\n",
       "          (output): BertSelfOutput(\n",
       "            (dense): Linear(in_features=1024, out_features=1024, bias=True)\n",
       "            (LayerNorm): LayerNorm((1024,), eps=1e-12, elementwise_affine=True)\n",
       "            (dropout): Dropout(p=0.1, inplace=False)\n",
       "          )\n",
       "        )\n",
       "        (intermediate): BertIntermediate(\n",
       "          (dense): Linear(in_features=1024, out_features=4096, bias=True)\n",
       "        )\n",
       "        (output): BertOutput(\n",
       "          (dense): Linear(in_features=4096, out_features=1024, bias=True)\n",
       "          (LayerNorm): LayerNorm((1024,), eps=1e-12, elementwise_affine=True)\n",
       "          (dropout): Dropout(p=0.1, inplace=False)\n",
       "        )\n",
       "      )\n",
       "      (19): BertLayer(\n",
       "        (attention): BertAttention(\n",
       "          (self): BertSelfAttention(\n",
       "            (query): Linear(in_features=1024, out_features=1024, bias=True)\n",
       "            (key): Linear(in_features=1024, out_features=1024, bias=True)\n",
       "            (value): Linear(in_features=1024, out_features=1024, bias=True)\n",
       "            (dropout): Dropout(p=0.1, inplace=False)\n",
       "          )\n",
       "          (output): BertSelfOutput(\n",
       "            (dense): Linear(in_features=1024, out_features=1024, bias=True)\n",
       "            (LayerNorm): LayerNorm((1024,), eps=1e-12, elementwise_affine=True)\n",
       "            (dropout): Dropout(p=0.1, inplace=False)\n",
       "          )\n",
       "        )\n",
       "        (intermediate): BertIntermediate(\n",
       "          (dense): Linear(in_features=1024, out_features=4096, bias=True)\n",
       "        )\n",
       "        (output): BertOutput(\n",
       "          (dense): Linear(in_features=4096, out_features=1024, bias=True)\n",
       "          (LayerNorm): LayerNorm((1024,), eps=1e-12, elementwise_affine=True)\n",
       "          (dropout): Dropout(p=0.1, inplace=False)\n",
       "        )\n",
       "      )\n",
       "      (20): BertLayer(\n",
       "        (attention): BertAttention(\n",
       "          (self): BertSelfAttention(\n",
       "            (query): Linear(in_features=1024, out_features=1024, bias=True)\n",
       "            (key): Linear(in_features=1024, out_features=1024, bias=True)\n",
       "            (value): Linear(in_features=1024, out_features=1024, bias=True)\n",
       "            (dropout): Dropout(p=0.1, inplace=False)\n",
       "          )\n",
       "          (output): BertSelfOutput(\n",
       "            (dense): Linear(in_features=1024, out_features=1024, bias=True)\n",
       "            (LayerNorm): LayerNorm((1024,), eps=1e-12, elementwise_affine=True)\n",
       "            (dropout): Dropout(p=0.1, inplace=False)\n",
       "          )\n",
       "        )\n",
       "        (intermediate): BertIntermediate(\n",
       "          (dense): Linear(in_features=1024, out_features=4096, bias=True)\n",
       "        )\n",
       "        (output): BertOutput(\n",
       "          (dense): Linear(in_features=4096, out_features=1024, bias=True)\n",
       "          (LayerNorm): LayerNorm((1024,), eps=1e-12, elementwise_affine=True)\n",
       "          (dropout): Dropout(p=0.1, inplace=False)\n",
       "        )\n",
       "      )\n",
       "      (21): BertLayer(\n",
       "        (attention): BertAttention(\n",
       "          (self): BertSelfAttention(\n",
       "            (query): Linear(in_features=1024, out_features=1024, bias=True)\n",
       "            (key): Linear(in_features=1024, out_features=1024, bias=True)\n",
       "            (value): Linear(in_features=1024, out_features=1024, bias=True)\n",
       "            (dropout): Dropout(p=0.1, inplace=False)\n",
       "          )\n",
       "          (output): BertSelfOutput(\n",
       "            (dense): Linear(in_features=1024, out_features=1024, bias=True)\n",
       "            (LayerNorm): LayerNorm((1024,), eps=1e-12, elementwise_affine=True)\n",
       "            (dropout): Dropout(p=0.1, inplace=False)\n",
       "          )\n",
       "        )\n",
       "        (intermediate): BertIntermediate(\n",
       "          (dense): Linear(in_features=1024, out_features=4096, bias=True)\n",
       "        )\n",
       "        (output): BertOutput(\n",
       "          (dense): Linear(in_features=4096, out_features=1024, bias=True)\n",
       "          (LayerNorm): LayerNorm((1024,), eps=1e-12, elementwise_affine=True)\n",
       "          (dropout): Dropout(p=0.1, inplace=False)\n",
       "        )\n",
       "      )\n",
       "      (22): BertLayer(\n",
       "        (attention): BertAttention(\n",
       "          (self): BertSelfAttention(\n",
       "            (query): Linear(in_features=1024, out_features=1024, bias=True)\n",
       "            (key): Linear(in_features=1024, out_features=1024, bias=True)\n",
       "            (value): Linear(in_features=1024, out_features=1024, bias=True)\n",
       "            (dropout): Dropout(p=0.1, inplace=False)\n",
       "          )\n",
       "          (output): BertSelfOutput(\n",
       "            (dense): Linear(in_features=1024, out_features=1024, bias=True)\n",
       "            (LayerNorm): LayerNorm((1024,), eps=1e-12, elementwise_affine=True)\n",
       "            (dropout): Dropout(p=0.1, inplace=False)\n",
       "          )\n",
       "        )\n",
       "        (intermediate): BertIntermediate(\n",
       "          (dense): Linear(in_features=1024, out_features=4096, bias=True)\n",
       "        )\n",
       "        (output): BertOutput(\n",
       "          (dense): Linear(in_features=4096, out_features=1024, bias=True)\n",
       "          (LayerNorm): LayerNorm((1024,), eps=1e-12, elementwise_affine=True)\n",
       "          (dropout): Dropout(p=0.1, inplace=False)\n",
       "        )\n",
       "      )\n",
       "      (23): BertLayer(\n",
       "        (attention): BertAttention(\n",
       "          (self): BertSelfAttention(\n",
       "            (query): Linear(in_features=1024, out_features=1024, bias=True)\n",
       "            (key): Linear(in_features=1024, out_features=1024, bias=True)\n",
       "            (value): Linear(in_features=1024, out_features=1024, bias=True)\n",
       "            (dropout): Dropout(p=0.1, inplace=False)\n",
       "          )\n",
       "          (output): BertSelfOutput(\n",
       "            (dense): Linear(in_features=1024, out_features=1024, bias=True)\n",
       "            (LayerNorm): LayerNorm((1024,), eps=1e-12, elementwise_affine=True)\n",
       "            (dropout): Dropout(p=0.1, inplace=False)\n",
       "          )\n",
       "        )\n",
       "        (intermediate): BertIntermediate(\n",
       "          (dense): Linear(in_features=1024, out_features=4096, bias=True)\n",
       "        )\n",
       "        (output): BertOutput(\n",
       "          (dense): Linear(in_features=4096, out_features=1024, bias=True)\n",
       "          (LayerNorm): LayerNorm((1024,), eps=1e-12, elementwise_affine=True)\n",
       "          (dropout): Dropout(p=0.1, inplace=False)\n",
       "        )\n",
       "      )\n",
       "    )\n",
       "  )\n",
       "  (pooler): BertPooler(\n",
       "    (dense): Linear(in_features=1024, out_features=1024, bias=True)\n",
       "    (activation): Tanh()\n",
       "  )\n",
       ")"
      ]
     },
     "execution_count": 9,
     "metadata": {},
     "output_type": "execute_result"
    }
   ],
   "source": [
    "tokenizer = AutoTokenizer.from_pretrained(\"sberbank-ai/sbert_large_nlu_ru\")\n",
    "model = AutoModel.from_pretrained(\"sberbank-ai/sbert_large_nlu_ru\")\n",
    "model.to(\"cuda\")"
   ]
  },
  {
   "cell_type": "markdown",
   "id": "tired-arthur",
   "metadata": {},
   "source": [
    "## dev, test"
   ]
  },
  {
   "cell_type": "code",
   "execution_count": 9,
   "id": "opening-assistant",
   "metadata": {},
   "outputs": [],
   "source": [
    "# dev\n",
    "dev_df = pd.read_csv(DEV_PATH, index_col=0)\n",
    "dev_df.columns = [\"input\", \"output\"]\n",
    "\n",
    "# test\n",
    "with open(TEST_PATH) as f:\n",
    "    test_df = pd.DataFrame({\"input\": [line.strip() for line in f.readlines()]})\n",
    "test_df[\"output\"] = \"\""
   ]
  },
  {
   "cell_type": "code",
   "execution_count": 10,
   "id": "golden-vegetable",
   "metadata": {},
   "outputs": [
    {
     "name": "stdout",
     "output_type": "stream",
     "text": [
      "CPU times: user 1min 36s, sys: 115 ms, total: 1min 36s\n",
      "Wall time: 1min 36s\n"
     ]
    }
   ],
   "source": [
    "%%time\n",
    "dev_df[\"cosine_sim\"] = dev_df.apply(lambda x: get_similarities(model, tokenizer, x[\"input\"], x[\"output\"]),\n",
    "                                    axis=1)\n",
    "dev_df[\"cosine_sim\"] = dev_df[\"cosine_sim\"].apply(lambda x: x[0][0])"
   ]
  },
  {
   "cell_type": "code",
   "execution_count": 11,
   "id": "apart-pantyhose",
   "metadata": {},
   "outputs": [
    {
     "name": "stdout",
     "output_type": "stream",
     "text": [
      "CPU times: user 884 ms, sys: 0 ns, total: 884 ms\n",
      "Wall time: 882 ms\n"
     ]
    }
   ],
   "source": [
    "%%time\n",
    "dev_df[\"rouge_l\"] = dev_df.apply(lambda x: get_rougel(x[\"input\"], x[\"output\"]), axis=1)"
   ]
  },
  {
   "cell_type": "code",
   "execution_count": 12,
   "id": "dedicated-excerpt",
   "metadata": {},
   "outputs": [],
   "source": [
    "dev_df[\"input_len\"] = dev_df[\"input\"].apply(lambda x: len(get_word_tokens(x)))\n",
    "dev_df[\"output_len\"] = dev_df[\"output\"].apply(lambda x: len(get_word_tokens(x)))"
   ]
  },
  {
   "cell_type": "code",
   "execution_count": 27,
   "id": "alternate-selection",
   "metadata": {},
   "outputs": [],
   "source": [
    "dev_df.to_csv(DATA_DIR / \"prepared_data\" / \"dev_df_metrics.csv\", index=False)"
   ]
  },
  {
   "cell_type": "code",
   "execution_count": 140,
   "id": "necessary-imaging",
   "metadata": {},
   "outputs": [],
   "source": [
    "dev_df = pd.read_csv(DATA_DIR / \"prepared_data\" / \"dev_df_metrics.csv\")"
   ]
  },
  {
   "cell_type": "code",
   "execution_count": 141,
   "id": "hundred-relaxation",
   "metadata": {},
   "outputs": [
    {
     "data": {
      "text/html": [
       "<div>\n",
       "<style scoped>\n",
       "    .dataframe tbody tr th:only-of-type {\n",
       "        vertical-align: middle;\n",
       "    }\n",
       "\n",
       "    .dataframe tbody tr th {\n",
       "        vertical-align: top;\n",
       "    }\n",
       "\n",
       "    .dataframe thead th {\n",
       "        text-align: right;\n",
       "    }\n",
       "</style>\n",
       "<table border=\"1\" class=\"dataframe\">\n",
       "  <thead>\n",
       "    <tr style=\"text-align: right;\">\n",
       "      <th></th>\n",
       "      <th>input</th>\n",
       "      <th>output</th>\n",
       "      <th>cosine_sim</th>\n",
       "      <th>rouge_l</th>\n",
       "      <th>input_len</th>\n",
       "      <th>output_len</th>\n",
       "    </tr>\n",
       "  </thead>\n",
       "  <tbody>\n",
       "    <tr>\n",
       "      <th>2890</th>\n",
       "      <td>Среди болезней кошек выделяют инфекционные и в...</td>\n",
       "      <td>.</td>\n",
       "      <td>-0.037777</td>\n",
       "      <td>0.000000</td>\n",
       "      <td>15</td>\n",
       "      <td>0</td>\n",
       "    </tr>\n",
       "    <tr>\n",
       "      <th>2535</th>\n",
       "      <td>Пробыв в заключении около года, мурза попыталс...</td>\n",
       "      <td>.</td>\n",
       "      <td>0.065845</td>\n",
       "      <td>0.000000</td>\n",
       "      <td>14</td>\n",
       "      <td>0</td>\n",
       "    </tr>\n",
       "    <tr>\n",
       "      <th>1635</th>\n",
       "      <td>На цирковых представлениях изображение Цезаря ...</td>\n",
       "      <td>управления и не нужно было искать новые способ...</td>\n",
       "      <td>0.365181</td>\n",
       "      <td>0.086957</td>\n",
       "      <td>14</td>\n",
       "      <td>11</td>\n",
       "    </tr>\n",
       "    <tr>\n",
       "      <th>1197</th>\n",
       "      <td>Известно, что полководца и царицу сопровождали...</td>\n",
       "      <td>Страна готовится наконец отдохнуть от 2020 год...</td>\n",
       "      <td>0.386948</td>\n",
       "      <td>0.000000</td>\n",
       "      <td>18</td>\n",
       "      <td>15</td>\n",
       "    </tr>\n",
       "    <tr>\n",
       "      <th>970</th>\n",
       "      <td>До начала весеннего наступления оставалось нес...</td>\n",
       "      <td>Все ссоры скоро кончатся, потому что начнется ...</td>\n",
       "      <td>0.461736</td>\n",
       "      <td>0.074074</td>\n",
       "      <td>19</td>\n",
       "      <td>8</td>\n",
       "    </tr>\n",
       "    <tr>\n",
       "      <th>...</th>\n",
       "      <td>...</td>\n",
       "      <td>...</td>\n",
       "      <td>...</td>\n",
       "      <td>...</td>\n",
       "      <td>...</td>\n",
       "      <td>...</td>\n",
       "    </tr>\n",
       "    <tr>\n",
       "      <th>406</th>\n",
       "      <td>В примере выше могут произойти ошибки при прео...</td>\n",
       "      <td>В примере выше могут произойти ошибки при прео...</td>\n",
       "      <td>1.000000</td>\n",
       "      <td>1.000000</td>\n",
       "      <td>15</td>\n",
       "      <td>15</td>\n",
       "    </tr>\n",
       "    <tr>\n",
       "      <th>1533</th>\n",
       "      <td>Могут применяться также гемодиализ, парнополяр...</td>\n",
       "      <td>Могут применяться также гемодиализ, парнополяр...</td>\n",
       "      <td>1.000000</td>\n",
       "      <td>1.000000</td>\n",
       "      <td>20</td>\n",
       "      <td>20</td>\n",
       "    </tr>\n",
       "    <tr>\n",
       "      <th>3222</th>\n",
       "      <td>Форпост был построен на правом берегу Ишима, г...</td>\n",
       "      <td>Форпост был построен на правом берегу Ишима, г...</td>\n",
       "      <td>1.000000</td>\n",
       "      <td>1.000000</td>\n",
       "      <td>14</td>\n",
       "      <td>14</td>\n",
       "    </tr>\n",
       "    <tr>\n",
       "      <th>599</th>\n",
       "      <td>Вариант интерпретатора с синхронизацией доступ...</td>\n",
       "      <td>Вариант интерпретатора с синхронизацией доступ...</td>\n",
       "      <td>1.000000</td>\n",
       "      <td>0.972973</td>\n",
       "      <td>18</td>\n",
       "      <td>18</td>\n",
       "    </tr>\n",
       "    <tr>\n",
       "      <th>2531</th>\n",
       "      <td>Пришедшие к власти монтаньяры столкнулись с др...</td>\n",
       "      <td>Пришедшие к власти монтаньяры столкнулись с др...</td>\n",
       "      <td>1.000000</td>\n",
       "      <td>1.000000</td>\n",
       "      <td>18</td>\n",
       "      <td>18</td>\n",
       "    </tr>\n",
       "  </tbody>\n",
       "</table>\n",
       "<p>3406 rows × 6 columns</p>\n",
       "</div>"
      ],
      "text/plain": [
       "                                                  input  \\\n",
       "2890  Среди болезней кошек выделяют инфекционные и в...   \n",
       "2535  Пробыв в заключении около года, мурза попыталс...   \n",
       "1635  На цирковых представлениях изображение Цезаря ...   \n",
       "1197  Известно, что полководца и царицу сопровождали...   \n",
       "970   До начала весеннего наступления оставалось нес...   \n",
       "...                                                 ...   \n",
       "406   В примере выше могут произойти ошибки при прео...   \n",
       "1533  Могут применяться также гемодиализ, парнополяр...   \n",
       "3222  Форпост был построен на правом берегу Ишима, г...   \n",
       "599   Вариант интерпретатора с синхронизацией доступ...   \n",
       "2531  Пришедшие к власти монтаньяры столкнулись с др...   \n",
       "\n",
       "                                                 output  cosine_sim   rouge_l  \\\n",
       "2890                                                  .   -0.037777  0.000000   \n",
       "2535                                                  .    0.065845  0.000000   \n",
       "1635  управления и не нужно было искать новые способ...    0.365181  0.086957   \n",
       "1197  Страна готовится наконец отдохнуть от 2020 год...    0.386948  0.000000   \n",
       "970   Все ссоры скоро кончатся, потому что начнется ...    0.461736  0.074074   \n",
       "...                                                 ...         ...       ...   \n",
       "406   В примере выше могут произойти ошибки при прео...    1.000000  1.000000   \n",
       "1533  Могут применяться также гемодиализ, парнополяр...    1.000000  1.000000   \n",
       "3222  Форпост был построен на правом берегу Ишима, г...    1.000000  1.000000   \n",
       "599   Вариант интерпретатора с синхронизацией доступ...    1.000000  0.972973   \n",
       "2531  Пришедшие к власти монтаньяры столкнулись с др...    1.000000  1.000000   \n",
       "\n",
       "      input_len  output_len  \n",
       "2890         15           0  \n",
       "2535         14           0  \n",
       "1635         14          11  \n",
       "1197         18          15  \n",
       "970          19           8  \n",
       "...         ...         ...  \n",
       "406          15          15  \n",
       "1533         20          20  \n",
       "3222         14          14  \n",
       "599          18          18  \n",
       "2531         18          18  \n",
       "\n",
       "[3406 rows x 6 columns]"
      ]
     },
     "execution_count": 141,
     "metadata": {},
     "output_type": "execute_result"
    }
   ],
   "source": [
    "dev_df.sort_values(\"cosine_sim\")"
   ]
  },
  {
   "cell_type": "code",
   "execution_count": 14,
   "id": "spatial-native",
   "metadata": {},
   "outputs": [
    {
     "data": {
      "image/png": "[encoded data removed]",
      "text/plain": [
       "<Figure size 720x720 with 6 Axes>"
      ]
     },
     "metadata": {
      "needs_background": "light"
     },
     "output_type": "display_data"
    }
   ],
   "source": [
    "g = sns.PairGrid(dev_df[[\"cosine_sim\", \"rouge_l\"]], height=5)\n",
    "g.map_upper(sns.histplot)\n",
    "g.map_lower(sns.kdeplot, fill=True)\n",
    "g.map_diag(sns.histplot, kde=True);"
   ]
  },
  {
   "cell_type": "code",
   "execution_count": 15,
   "id": "eight-development",
   "metadata": {},
   "outputs": [
    {
     "data": {
      "image/png": "[encoded data removed]",
      "text/plain": [
       "<Figure size 1440x1440 with 20 Axes>"
      ]
     },
     "metadata": {
      "needs_background": "light"
     },
     "output_type": "display_data"
    }
   ],
   "source": [
    "# сгруппированный по input и средние значения\n",
    "g = sns.PairGrid(dev_df.groupby(\"input\").apply(np.mean), height=5)\n",
    "g.map_upper(sns.histplot)\n",
    "g.map_lower(sns.kdeplot, fill=True)\n",
    "g.map_diag(sns.histplot, kde=True);"
   ]
  },
  {
   "cell_type": "code",
   "execution_count": 17,
   "id": "adverse-pattern",
   "metadata": {},
   "outputs": [
    {
     "data": {
      "text/html": [
       "<div>\n",
       "<style scoped>\n",
       "    .dataframe tbody tr th:only-of-type {\n",
       "        vertical-align: middle;\n",
       "    }\n",
       "\n",
       "    .dataframe tbody tr th {\n",
       "        vertical-align: top;\n",
       "    }\n",
       "\n",
       "    .dataframe thead th {\n",
       "        text-align: right;\n",
       "    }\n",
       "</style>\n",
       "<table border=\"1\" class=\"dataframe\">\n",
       "  <thead>\n",
       "    <tr style=\"text-align: right;\">\n",
       "      <th></th>\n",
       "      <th>input</th>\n",
       "      <th>output</th>\n",
       "      <th>cosine_sim</th>\n",
       "      <th>rouge_l</th>\n",
       "      <th>input_len</th>\n",
       "      <th>output_len</th>\n",
       "    </tr>\n",
       "  </thead>\n",
       "  <tbody>\n",
       "    <tr>\n",
       "      <th>0</th>\n",
       "      <td>1960 году была выпущена модель 172A. Изменени...</td>\n",
       "      <td>[В 1960 году вышла модель 172А. Отличие в хвос...</td>\n",
       "      <td>[0.8730071783065796, 0.8468641042709351, 0.723...</td>\n",
       "      <td>[0.35294117153979243, 0.3124999951757813, 0.60...</td>\n",
       "      <td>20</td>\n",
       "      <td>[17, 14, 14, 19]</td>\n",
       "    </tr>\n",
       "    <tr>\n",
       "      <th>1</th>\n",
       "      <td>14 декабря 1944 года рабочий посёлок Ички был ...</td>\n",
       "      <td>[14 декабря 1944 года рабочий посёлок Ички пер...</td>\n",
       "      <td>[0.9206905961036682]</td>\n",
       "      <td>[0.6428571382653062]</td>\n",
       "      <td>20</td>\n",
       "      <td>[10]</td>\n",
       "    </tr>\n",
       "    <tr>\n",
       "      <th>2</th>\n",
       "      <td>26 августа 2014 года Болдок принял участие в п...</td>\n",
       "      <td>[26 августа 2014 года Болдок выиграл футбольны...</td>\n",
       "      <td>[0.8274444937705994, 0.9261506199836731]</td>\n",
       "      <td>[0.5777777729777778, 0.6222222174222223]</td>\n",
       "      <td>28</td>\n",
       "      <td>[18, 18]</td>\n",
       "    </tr>\n",
       "    <tr>\n",
       "      <th>3</th>\n",
       "      <td>Armory — клиент с различными функциями для пов...</td>\n",
       "      <td>[Armory - программа с различными функциями для...</td>\n",
       "      <td>[0.924230694770813]</td>\n",
       "      <td>[0.5454545404648761]</td>\n",
       "      <td>20</td>\n",
       "      <td>[23]</td>\n",
       "    </tr>\n",
       "    <tr>\n",
       "      <th>4</th>\n",
       "      <td>Concert for Diana (рус. Концерт для Дианы) — к...</td>\n",
       "      <td>[Concert for Diana - это концерт, посвящённый ...</td>\n",
       "      <td>[0.8712961673736572, 0.8228520154953003, 0.875...</td>\n",
       "      <td>[0.3703703655418381, 0.319999995392, 0.3999999...</td>\n",
       "      <td>15</td>\n",
       "      <td>[10, 9, 8]</td>\n",
       "    </tr>\n",
       "    <tr>\n",
       "      <th>...</th>\n",
       "      <td>...</td>\n",
       "      <td>...</td>\n",
       "      <td>...</td>\n",
       "      <td>...</td>\n",
       "      <td>...</td>\n",
       "      <td>...</td>\n",
       "    </tr>\n",
       "    <tr>\n",
       "      <th>995</th>\n",
       "      <td>Эффективность азитромицина при лечении инфекци...</td>\n",
       "      <td>[Азитромицин показал свою эффективность в лече...</td>\n",
       "      <td>[0.9227253198623657, 0.6798684597015381, 0.837...</td>\n",
       "      <td>[0.5714285664540818, 0.10526315457063723, 0.35...</td>\n",
       "      <td>15</td>\n",
       "      <td>[13, 4, 13, 8, 13]</td>\n",
       "    </tr>\n",
       "    <tr>\n",
       "      <th>996</th>\n",
       "      <td>Юг и среднюю часть республики занимают горы и ...</td>\n",
       "      <td>[Часть республики занимают горы, а часть низме...</td>\n",
       "      <td>[0.7854164242744446, 0.9339486956596375]</td>\n",
       "      <td>[0.2727272683884298, 0.39999999520000007]</td>\n",
       "      <td>16</td>\n",
       "      <td>[7, 9]</td>\n",
       "    </tr>\n",
       "    <tr>\n",
       "      <th>997</th>\n",
       "      <td>Юго-Восточное побережье — Феодосийский и Судак...</td>\n",
       "      <td>[Весь Крым находится под охраной государства.,...</td>\n",
       "      <td>[0.6608866453170776, 0.8181402087211609, 0.882...</td>\n",
       "      <td>[0.2857142816326531, 0.35714285216836733, 0.47...</td>\n",
       "      <td>14</td>\n",
       "      <td>[6, 13, 10, 12, 7]</td>\n",
       "    </tr>\n",
       "    <tr>\n",
       "      <th>998</th>\n",
       "      <td>Язгуля́мский язы́к (самоназвание — Yuzdami zev...</td>\n",
       "      <td>[Язгулямский язык - один из языков, на котором...</td>\n",
       "      <td>[0.9207618236541748, 0.9567684531211853]</td>\n",
       "      <td>[0.388888883904321, 0.5294117597750866]</td>\n",
       "      <td>18</td>\n",
       "      <td>[17, 15]</td>\n",
       "    </tr>\n",
       "    <tr>\n",
       "      <th>999</th>\n",
       "      <td>Японский космический аппарат Хаябуса успешно д...</td>\n",
       "      <td>[Японский космический аппарат Хаябуса успешно ...</td>\n",
       "      <td>[0.9772647023200989]</td>\n",
       "      <td>[0.8965517191438764]</td>\n",
       "      <td>15</td>\n",
       "      <td>[14]</td>\n",
       "    </tr>\n",
       "  </tbody>\n",
       "</table>\n",
       "<p>1000 rows × 6 columns</p>\n",
       "</div>"
      ],
      "text/plain": [
       "                                                 input  \\\n",
       "0     1960 году была выпущена модель 172A. Изменени...   \n",
       "1    14 декабря 1944 года рабочий посёлок Ички был ...   \n",
       "2    26 августа 2014 года Болдок принял участие в п...   \n",
       "3    Armory — клиент с различными функциями для пов...   \n",
       "4    Concert for Diana (рус. Концерт для Дианы) — к...   \n",
       "..                                                 ...   \n",
       "995  Эффективность азитромицина при лечении инфекци...   \n",
       "996  Юг и среднюю часть республики занимают горы и ...   \n",
       "997  Юго-Восточное побережье — Феодосийский и Судак...   \n",
       "998  Язгуля́мский язы́к (самоназвание — Yuzdami zev...   \n",
       "999  Японский космический аппарат Хаябуса успешно д...   \n",
       "\n",
       "                                                output  \\\n",
       "0    [В 1960 году вышла модель 172А. Отличие в хвос...   \n",
       "1    [14 декабря 1944 года рабочий посёлок Ички пер...   \n",
       "2    [26 августа 2014 года Болдок выиграл футбольны...   \n",
       "3    [Armory - программа с различными функциями для...   \n",
       "4    [Concert for Diana - это концерт, посвящённый ...   \n",
       "..                                                 ...   \n",
       "995  [Азитромицин показал свою эффективность в лече...   \n",
       "996  [Часть республики занимают горы, а часть низме...   \n",
       "997  [Весь Крым находится под охраной государства.,...   \n",
       "998  [Язгулямский язык - один из языков, на котором...   \n",
       "999  [Японский космический аппарат Хаябуса успешно ...   \n",
       "\n",
       "                                            cosine_sim  \\\n",
       "0    [0.8730071783065796, 0.8468641042709351, 0.723...   \n",
       "1                                 [0.9206905961036682]   \n",
       "2             [0.8274444937705994, 0.9261506199836731]   \n",
       "3                                  [0.924230694770813]   \n",
       "4    [0.8712961673736572, 0.8228520154953003, 0.875...   \n",
       "..                                                 ...   \n",
       "995  [0.9227253198623657, 0.6798684597015381, 0.837...   \n",
       "996           [0.7854164242744446, 0.9339486956596375]   \n",
       "997  [0.6608866453170776, 0.8181402087211609, 0.882...   \n",
       "998           [0.9207618236541748, 0.9567684531211853]   \n",
       "999                               [0.9772647023200989]   \n",
       "\n",
       "                                               rouge_l  input_len  \\\n",
       "0    [0.35294117153979243, 0.3124999951757813, 0.60...         20   \n",
       "1                                 [0.6428571382653062]         20   \n",
       "2             [0.5777777729777778, 0.6222222174222223]         28   \n",
       "3                                 [0.5454545404648761]         20   \n",
       "4    [0.3703703655418381, 0.319999995392, 0.3999999...         15   \n",
       "..                                                 ...        ...   \n",
       "995  [0.5714285664540818, 0.10526315457063723, 0.35...         15   \n",
       "996          [0.2727272683884298, 0.39999999520000007]         16   \n",
       "997  [0.2857142816326531, 0.35714285216836733, 0.47...         14   \n",
       "998            [0.388888883904321, 0.5294117597750866]         18   \n",
       "999                               [0.8965517191438764]         15   \n",
       "\n",
       "             output_len  \n",
       "0      [17, 14, 14, 19]  \n",
       "1                  [10]  \n",
       "2              [18, 18]  \n",
       "3                  [23]  \n",
       "4            [10, 9, 8]  \n",
       "..                  ...  \n",
       "995  [13, 4, 13, 8, 13]  \n",
       "996              [7, 9]  \n",
       "997  [6, 13, 10, 12, 7]  \n",
       "998            [17, 15]  \n",
       "999                [14]  \n",
       "\n",
       "[1000 rows x 6 columns]"
      ]
     },
     "execution_count": 17,
     "metadata": {},
     "output_type": "execute_result"
    }
   ],
   "source": [
    "dev_df_grouped = dev_df.groupby(\"input\").agg(\n",
    "    {\"output\": list, \"cosine_sim\": list, \"rouge_l\": list, \"input_len\": np.mean, \"output_len\": list}\n",
    ").reset_index()\n",
    "dev_df_grouped"
   ]
  },
  {
   "cell_type": "markdown",
   "id": "another-runner",
   "metadata": {},
   "source": [
    "## Wiki"
   ]
  },
  {
   "cell_type": "code",
   "execution_count": 18,
   "id": "alone-clerk",
   "metadata": {},
   "outputs": [],
   "source": [
    "dfs = [pd.read_csv(path, usecols=[\"target_x\", \"target_y\"]) for path in WIKI_DIR.glob(\"*\")]\n",
    "wiki_df = pd.concat(dfs).reset_index(drop=True)\n",
    "wiki_df.columns = [\"input\", \"output\"]"
   ]
  },
  {
   "cell_type": "code",
   "execution_count": 19,
   "id": "convenient-juvenile",
   "metadata": {},
   "outputs": [
    {
     "data": {
      "text/plain": [
       "(248111, 2)"
      ]
     },
     "execution_count": 19,
     "metadata": {},
     "output_type": "execute_result"
    }
   ],
   "source": [
    "wiki_df.shape"
   ]
  },
  {
   "cell_type": "code",
   "execution_count": 22,
   "id": "systematic-shock",
   "metadata": {},
   "outputs": [
    {
     "name": "stdout",
     "output_type": "stream",
     "text": [
      "CPU times: user 2h 27s, sys: 5.82 s, total: 2h 33s\n",
      "Wall time: 2h 32s\n"
     ]
    }
   ],
   "source": [
    "%%time\n",
    "wiki_df[\"cosine_sim\"] = wiki_df.apply(lambda x: get_similarities(model, tokenizer, x[\"input\"], x[\"output\"]),\n",
    "                                    axis=1)\n",
    "wiki_df[\"cosine_sim\"] = wiki_df[\"cosine_sim\"].apply(lambda x: x[0][0])"
   ]
  },
  {
   "cell_type": "code",
   "execution_count": 23,
   "id": "painted-translator",
   "metadata": {},
   "outputs": [
    {
     "name": "stdout",
     "output_type": "stream",
     "text": [
      "CPU times: user 1min 19s, sys: 32 ms, total: 1min 19s\n",
      "Wall time: 1min 19s\n"
     ]
    }
   ],
   "source": [
    "%%time\n",
    "wiki_df[\"rouge_l\"] = wiki_df.apply(lambda x: get_rougel(x[\"input\"], x[\"output\"]), axis=1)"
   ]
  },
  {
   "cell_type": "code",
   "execution_count": 24,
   "id": "accurate-advertising",
   "metadata": {},
   "outputs": [],
   "source": [
    "wiki_df[\"input_len\"] = wiki_df[\"input\"].apply(lambda x: len(get_word_tokens(x)))\n",
    "wiki_df[\"output_len\"] = wiki_df[\"output\"].apply(lambda x: len(get_word_tokens(x)))"
   ]
  },
  {
   "cell_type": "code",
   "execution_count": 28,
   "id": "premier-meeting",
   "metadata": {},
   "outputs": [],
   "source": [
    "wiki_df.to_csv(DATA_DIR / \"prepared_data\" / \"wiki_df_metrics.csv\", index=False)"
   ]
  },
  {
   "cell_type": "code",
   "execution_count": 35,
   "id": "powerful-american",
   "metadata": {},
   "outputs": [
    {
     "data": {
      "text/html": [
       "<div>\n",
       "<style scoped>\n",
       "    .dataframe tbody tr th:only-of-type {\n",
       "        vertical-align: middle;\n",
       "    }\n",
       "\n",
       "    .dataframe tbody tr th {\n",
       "        vertical-align: top;\n",
       "    }\n",
       "\n",
       "    .dataframe thead th {\n",
       "        text-align: right;\n",
       "    }\n",
       "</style>\n",
       "<table border=\"1\" class=\"dataframe\">\n",
       "  <thead>\n",
       "    <tr style=\"text-align: right;\">\n",
       "      <th></th>\n",
       "      <th>input</th>\n",
       "      <th>output</th>\n",
       "      <th>cosine_sim</th>\n",
       "      <th>rouge_l</th>\n",
       "      <th>input_len</th>\n",
       "      <th>output_len</th>\n",
       "    </tr>\n",
       "  </thead>\n",
       "  <tbody>\n",
       "    <tr>\n",
       "      <th>10144</th>\n",
       "      <td>Фильм был выпущен в Северной Америке 30 сентяб...</td>\n",
       "      <td>.</td>\n",
       "      <td>-0.052350</td>\n",
       "      <td>0.0</td>\n",
       "      <td>13</td>\n",
       "      <td>0</td>\n",
       "    </tr>\n",
       "    <tr>\n",
       "      <th>47971</th>\n",
       "      <td>Структура Фейстеля имеет то преимущество, что ...</td>\n",
       "      <td>RC6,</td>\n",
       "      <td>-0.040000</td>\n",
       "      <td>0.0</td>\n",
       "      <td>23</td>\n",
       "      <td>1</td>\n",
       "    </tr>\n",
       "    <tr>\n",
       "      <th>71341</th>\n",
       "      <td>Совсем недавно кладистический анализ предполаг...</td>\n",
       "      <td>?</td>\n",
       "      <td>-0.031931</td>\n",
       "      <td>0.0</td>\n",
       "      <td>14</td>\n",
       "      <td>0</td>\n",
       "    </tr>\n",
       "    <tr>\n",
       "      <th>26601</th>\n",
       "      <td>Сомнение ставит под сомнение некоторое понятие...</td>\n",
       "      <td>Я ему нравлюсь?</td>\n",
       "      <td>-0.006886</td>\n",
       "      <td>0.0</td>\n",
       "      <td>25</td>\n",
       "      <td>3</td>\n",
       "    </tr>\n",
       "    <tr>\n",
       "      <th>22335</th>\n",
       "      <td>Термин Baja Bug обычно относится к оригинально...</td>\n",
       "      <td>Бага сегодня</td>\n",
       "      <td>-0.001724</td>\n",
       "      <td>0.0</td>\n",
       "      <td>30</td>\n",
       "      <td>2</td>\n",
       "    </tr>\n",
       "    <tr>\n",
       "      <th>...</th>\n",
       "      <td>...</td>\n",
       "      <td>...</td>\n",
       "      <td>...</td>\n",
       "      <td>...</td>\n",
       "      <td>...</td>\n",
       "      <td>...</td>\n",
       "    </tr>\n",
       "    <tr>\n",
       "      <th>187298</th>\n",
       "      <td>Большая часть западных и северо-восточных Внеш...</td>\n",
       "      <td>Большая часть западных и северо-восточных Внеш...</td>\n",
       "      <td>1.000000</td>\n",
       "      <td>1.0</td>\n",
       "      <td>15</td>\n",
       "      <td>15</td>\n",
       "    </tr>\n",
       "    <tr>\n",
       "      <th>71873</th>\n",
       "      <td>Спортсмены из Западной Германии (ФРГ) и Восточ...</td>\n",
       "      <td>Спортсмены из Западной Германии (ФРГ) и Восточ...</td>\n",
       "      <td>1.000000</td>\n",
       "      <td>1.0</td>\n",
       "      <td>27</td>\n",
       "      <td>27</td>\n",
       "    </tr>\n",
       "    <tr>\n",
       "      <th>174986</th>\n",
       "      <td>Каждому игроку дается четыре фишки определенно...</td>\n",
       "      <td>Каждому игроку дается четыре фишки определенно...</td>\n",
       "      <td>1.000000</td>\n",
       "      <td>1.0</td>\n",
       "      <td>7</td>\n",
       "      <td>7</td>\n",
       "    </tr>\n",
       "    <tr>\n",
       "      <th>192586</th>\n",
       "      <td>Галерея была основана в 1897 году как Национал...</td>\n",
       "      <td>Галерея была основана в 1897 году как Национал...</td>\n",
       "      <td>1.000000</td>\n",
       "      <td>1.0</td>\n",
       "      <td>11</td>\n",
       "      <td>11</td>\n",
       "    </tr>\n",
       "    <tr>\n",
       "      <th>79853</th>\n",
       "      <td>Он вступил в силу 1 июля 1997 года.</td>\n",
       "      <td>Он вступил в силу 1 июля 1997 года.</td>\n",
       "      <td>1.000001</td>\n",
       "      <td>1.0</td>\n",
       "      <td>8</td>\n",
       "      <td>8</td>\n",
       "    </tr>\n",
       "  </tbody>\n",
       "</table>\n",
       "<p>248111 rows × 6 columns</p>\n",
       "</div>"
      ],
      "text/plain": [
       "                                                    input  \\\n",
       "10144   Фильм был выпущен в Северной Америке 30 сентяб...   \n",
       "47971   Структура Фейстеля имеет то преимущество, что ...   \n",
       "71341   Совсем недавно кладистический анализ предполаг...   \n",
       "26601   Сомнение ставит под сомнение некоторое понятие...   \n",
       "22335   Термин Baja Bug обычно относится к оригинально...   \n",
       "...                                                   ...   \n",
       "187298  Большая часть западных и северо-восточных Внеш...   \n",
       "71873   Спортсмены из Западной Германии (ФРГ) и Восточ...   \n",
       "174986  Каждому игроку дается четыре фишки определенно...   \n",
       "192586  Галерея была основана в 1897 году как Национал...   \n",
       "79853                 Он вступил в силу 1 июля 1997 года.   \n",
       "\n",
       "                                                   output  cosine_sim  \\\n",
       "10144                                                   .   -0.052350   \n",
       "47971                                                RC6,   -0.040000   \n",
       "71341                                                   ?   -0.031931   \n",
       "26601                                     Я ему нравлюсь?   -0.006886   \n",
       "22335                                        Бага сегодня   -0.001724   \n",
       "...                                                   ...         ...   \n",
       "187298  Большая часть западных и северо-восточных Внеш...    1.000000   \n",
       "71873   Спортсмены из Западной Германии (ФРГ) и Восточ...    1.000000   \n",
       "174986  Каждому игроку дается четыре фишки определенно...    1.000000   \n",
       "192586  Галерея была основана в 1897 году как Национал...    1.000000   \n",
       "79853                 Он вступил в силу 1 июля 1997 года.    1.000001   \n",
       "\n",
       "        rouge_l  input_len  output_len  \n",
       "10144       0.0         13           0  \n",
       "47971       0.0         23           1  \n",
       "71341       0.0         14           0  \n",
       "26601       0.0         25           3  \n",
       "22335       0.0         30           2  \n",
       "...         ...        ...         ...  \n",
       "187298      1.0         15          15  \n",
       "71873       1.0         27          27  \n",
       "174986      1.0          7           7  \n",
       "192586      1.0         11          11  \n",
       "79853       1.0          8           8  \n",
       "\n",
       "[248111 rows x 6 columns]"
      ]
     },
     "execution_count": 35,
     "metadata": {},
     "output_type": "execute_result"
    }
   ],
   "source": [
    "wiki_df.sort_values(\"cosine_sim\")"
   ]
  },
  {
   "cell_type": "code",
   "execution_count": 34,
   "id": "stone-syndicate",
   "metadata": {},
   "outputs": [
    {
     "data": {
      "image/png": "[encoded data removed]",
      "text/plain": [
       "<Figure size 720x720 with 6 Axes>"
      ]
     },
     "metadata": {
      "needs_background": "light"
     },
     "output_type": "display_data"
    }
   ],
   "source": [
    "g = sns.PairGrid(wiki_df[[\"cosine_sim\", \"rouge_l\"]], height=5)\n",
    "g.map_upper(sns.histplot)\n",
    "g.map_lower(sns.kdeplot, fill=True)\n",
    "g.map_diag(sns.histplot, kde=True);"
   ]
  },
  {
   "cell_type": "code",
   "execution_count": 35,
   "id": "hungarian-savannah",
   "metadata": {},
   "outputs": [],
   "source": [
    "wiki_df = pd.read_csv(DATA_DIR / \"prepared_data\" / \"wiki_df_metrics.csv\")"
   ]
  },
  {
   "cell_type": "code",
   "execution_count": 36,
   "id": "russian-columbia",
   "metadata": {},
   "outputs": [],
   "source": [
    "wiki_df_part = wiki_df[\n",
    "    (wiki_df[\"cosine_sim\"] < 0.99)\n",
    "  & (wiki_df[\"cosine_sim\"] > 0.6)\n",
    "  & (wiki_df[\"rouge_l\"] < 0.8)\n",
    "  & (wiki_df[\"rouge_l\"] > 0.1)\n",
    "  & (wiki_df[\"output_len\"] <= wiki_df[\"input_len\"])\n",
    "#   & ~(wiki_df[\"input\"].str.contains(\"\\(\"))\n",
    "#   & ~(wiki_df[\"output\"].str.contains(\"\\(\"))\n",
    "]"
   ]
  },
  {
   "cell_type": "code",
   "execution_count": 53,
   "id": "distinguished-trainer",
   "metadata": {},
   "outputs": [],
   "source": [
    "wiki_df_part[[\"input\", \"output\"]].to_csv(DATA_DIR / \"prepared_data\" / \"wiki_part_sim.csv\", index=False)"
   ]
  },
  {
   "cell_type": "code",
   "execution_count": 54,
   "id": "suited-simpson",
   "metadata": {},
   "outputs": [
    {
     "data": {
      "text/html": [
       "<div>\n",
       "<style scoped>\n",
       "    .dataframe tbody tr th:only-of-type {\n",
       "        vertical-align: middle;\n",
       "    }\n",
       "\n",
       "    .dataframe tbody tr th {\n",
       "        vertical-align: top;\n",
       "    }\n",
       "\n",
       "    .dataframe thead th {\n",
       "        text-align: right;\n",
       "    }\n",
       "</style>\n",
       "<table border=\"1\" class=\"dataframe\">\n",
       "  <thead>\n",
       "    <tr style=\"text-align: right;\">\n",
       "      <th></th>\n",
       "      <th>input</th>\n",
       "      <th>output</th>\n",
       "      <th>cosine_sim</th>\n",
       "      <th>rouge_l</th>\n",
       "      <th>input_len</th>\n",
       "      <th>output_len</th>\n",
       "    </tr>\n",
       "  </thead>\n",
       "  <tbody>\n",
       "    <tr>\n",
       "      <th>140405</th>\n",
       "      <td>Слово каури также часто используется для обозн...</td>\n",
       "      <td>Ребра каури позволяли игле легче проникать под...</td>\n",
       "      <td>0.600027</td>\n",
       "      <td>0.111111</td>\n",
       "      <td>10</td>\n",
       "      <td>8</td>\n",
       "    </tr>\n",
       "    <tr>\n",
       "      <th>177595</th>\n",
       "      <td>По данным переписи 2000 года, в городе прожива...</td>\n",
       "      <td>Крофордсвилль - город в штате Индиана в США.</td>\n",
       "      <td>0.600101</td>\n",
       "      <td>0.111111</td>\n",
       "      <td>11</td>\n",
       "      <td>7</td>\n",
       "    </tr>\n",
       "    <tr>\n",
       "      <th>174555</th>\n",
       "      <td>25 мая 2005 года Андервуд был коронован победи...</td>\n",
       "      <td>Она выиграла четвертый сезон American Idol.</td>\n",
       "      <td>0.600137</td>\n",
       "      <td>0.222222</td>\n",
       "      <td>12</td>\n",
       "      <td>6</td>\n",
       "    </tr>\n",
       "    <tr>\n",
       "      <th>9904</th>\n",
       "      <td>Она немного умела читать и писать, но была нам...</td>\n",
       "      <td>Они считались гораздо более необходимыми для ж...</td>\n",
       "      <td>0.600143</td>\n",
       "      <td>0.413793</td>\n",
       "      <td>23</td>\n",
       "      <td>7</td>\n",
       "    </tr>\n",
       "    <tr>\n",
       "      <th>110920</th>\n",
       "      <td>Осирис временами считался старшим сыном бога З...</td>\n",
       "      <td>Он был братом и мужем Исиды.</td>\n",
       "      <td>0.600152</td>\n",
       "      <td>0.222222</td>\n",
       "      <td>25</td>\n",
       "      <td>6</td>\n",
       "    </tr>\n",
       "    <tr>\n",
       "      <th>...</th>\n",
       "      <td>...</td>\n",
       "      <td>...</td>\n",
       "      <td>...</td>\n",
       "      <td>...</td>\n",
       "      <td>...</td>\n",
       "      <td>...</td>\n",
       "    </tr>\n",
       "    <tr>\n",
       "      <th>158060</th>\n",
       "      <td>Усики (единственное число: антенна) - это парн...</td>\n",
       "      <td>Усики (единственная антенна) - это парные отро...</td>\n",
       "      <td>0.989973</td>\n",
       "      <td>0.800000</td>\n",
       "      <td>12</td>\n",
       "      <td>11</td>\n",
       "    </tr>\n",
       "    <tr>\n",
       "      <th>188744</th>\n",
       "      <td>Слева вверху - розы графов Аренбургских, справ...</td>\n",
       "      <td>Вверху слева - розы графов Аренбургских, вверх...</td>\n",
       "      <td>0.989976</td>\n",
       "      <td>0.764706</td>\n",
       "      <td>20</td>\n",
       "      <td>20</td>\n",
       "    </tr>\n",
       "    <tr>\n",
       "      <th>235335</th>\n",
       "      <td>Файетт - город в округе Фейет, штат Айова, в США.</td>\n",
       "      <td>Файетт - город в штате Айова в США.</td>\n",
       "      <td>0.989980</td>\n",
       "      <td>0.625000</td>\n",
       "      <td>9</td>\n",
       "      <td>7</td>\n",
       "    </tr>\n",
       "    <tr>\n",
       "      <th>217138</th>\n",
       "      <td>СА упск - город в Поморском воеводстве, в севе...</td>\n",
       "      <td>СА упск - город на севере Польши в Поморском в...</td>\n",
       "      <td>0.989982</td>\n",
       "      <td>0.600000</td>\n",
       "      <td>10</td>\n",
       "      <td>9</td>\n",
       "    </tr>\n",
       "    <tr>\n",
       "      <th>180226</th>\n",
       "      <td>Двигатели V8 также используются в австралийско...</td>\n",
       "      <td>Двигатели V8 также используются в австралийски...</td>\n",
       "      <td>0.989983</td>\n",
       "      <td>0.777778</td>\n",
       "      <td>11</td>\n",
       "      <td>11</td>\n",
       "    </tr>\n",
       "  </tbody>\n",
       "</table>\n",
       "<p>120765 rows × 6 columns</p>\n",
       "</div>"
      ],
      "text/plain": [
       "                                                    input  \\\n",
       "140405  Слово каури также часто используется для обозн...   \n",
       "177595  По данным переписи 2000 года, в городе прожива...   \n",
       "174555  25 мая 2005 года Андервуд был коронован победи...   \n",
       "9904    Она немного умела читать и писать, но была нам...   \n",
       "110920  Осирис временами считался старшим сыном бога З...   \n",
       "...                                                   ...   \n",
       "158060  Усики (единственное число: антенна) - это парн...   \n",
       "188744  Слева вверху - розы графов Аренбургских, справ...   \n",
       "235335  Файетт - город в округе Фейет, штат Айова, в США.   \n",
       "217138  СА упск - город в Поморском воеводстве, в севе...   \n",
       "180226  Двигатели V8 также используются в австралийско...   \n",
       "\n",
       "                                                   output  cosine_sim  \\\n",
       "140405  Ребра каури позволяли игле легче проникать под...    0.600027   \n",
       "177595       Крофордсвилль - город в штате Индиана в США.    0.600101   \n",
       "174555        Она выиграла четвертый сезон American Idol.    0.600137   \n",
       "9904    Они считались гораздо более необходимыми для ж...    0.600143   \n",
       "110920                       Он был братом и мужем Исиды.    0.600152   \n",
       "...                                                   ...         ...   \n",
       "158060  Усики (единственная антенна) - это парные отро...    0.989973   \n",
       "188744  Вверху слева - розы графов Аренбургских, вверх...    0.989976   \n",
       "235335                Файетт - город в штате Айова в США.    0.989980   \n",
       "217138  СА упск - город на севере Польши в Поморском в...    0.989982   \n",
       "180226  Двигатели V8 также используются в австралийски...    0.989983   \n",
       "\n",
       "         rouge_l  input_len  output_len  \n",
       "140405  0.111111         10           8  \n",
       "177595  0.111111         11           7  \n",
       "174555  0.222222         12           6  \n",
       "9904    0.413793         23           7  \n",
       "110920  0.222222         25           6  \n",
       "...          ...        ...         ...  \n",
       "158060  0.800000         12          11  \n",
       "188744  0.764706         20          20  \n",
       "235335  0.625000          9           7  \n",
       "217138  0.600000         10           9  \n",
       "180226  0.777778         11          11  \n",
       "\n",
       "[120765 rows x 6 columns]"
      ]
     },
     "execution_count": 54,
     "metadata": {},
     "output_type": "execute_result"
    }
   ],
   "source": [
    "wiki_df_part.sort_values(\"cosine_sim\")"
   ]
  },
  {
   "cell_type": "code",
   "execution_count": 56,
   "id": "quality-class",
   "metadata": {},
   "outputs": [
    {
     "name": "stdout",
     "output_type": "stream",
     "text": [
      "['Изначально Before I Self Destruct планировалось сделать альбомом 50 Cent 2007 года, для которого он подтвердил, что уже закончил двенадцать песен.'\n",
      " 'Before I Self Destruct - четвертый альбом 50 Cent.' 0.7065908908843994\n",
      " 0.3999999958 21 8]\n"
     ]
    }
   ],
   "source": [
    "print(*wiki_df_part.sample().values, sep=\"\\n\")"
   ]
  },
  {
   "cell_type": "code",
   "execution_count": null,
   "id": "accessible-scanner",
   "metadata": {},
   "outputs": [],
   "source": []
  },
  {
   "cell_type": "markdown",
   "id": "scientific-clone",
   "metadata": {},
   "source": [
    "## Headlines"
   ]
  },
  {
   "cell_type": "code",
   "execution_count": 10,
   "id": "departmental-groove",
   "metadata": {},
   "outputs": [],
   "source": [
    "with open(PARAPHRASER_PATH) as f:\n",
    "    titles = json.load(f)"
   ]
  },
  {
   "cell_type": "code",
   "execution_count": 11,
   "id": "sought-force",
   "metadata": {},
   "outputs": [
    {
     "data": {
      "text/plain": [
       "1725393"
      ]
     },
     "execution_count": 11,
     "metadata": {},
     "output_type": "execute_result"
    }
   ],
   "source": [
    "len(titles)"
   ]
  },
  {
   "cell_type": "code",
   "execution_count": 33,
   "id": "honey-qatar",
   "metadata": {},
   "outputs": [
    {
     "data": {
      "text/plain": [
       "{'rubric': 'происшествия',\n",
       " 'date': '2019/01/02',\n",
       " 'headlines': ['При пожаре в общежитии Нижнего Тагила погибли двое мужчин',\n",
       "  'Два человека погибли в результате пожара в общежитии в Нижнем Тагиле',\n",
       "  'В Нижнем Тагиле два человека погибли при пожаре в общежитии',\n",
       "  'При пожаре в общежитии в Нижнем Тагиле погибли два человека']}"
      ]
     },
     "execution_count": 33,
     "metadata": {},
     "output_type": "execute_result"
    }
   ],
   "source": [
    "titles[\"19\"]"
   ]
  },
  {
   "cell_type": "code",
   "execution_count": 12,
   "id": "mechanical-syracuse",
   "metadata": {},
   "outputs": [
    {
     "data": {
      "text/plain": [
       "Counter({'общество': 371109,\n",
       "         'спорт': 192182,\n",
       "         'региональные': 174090,\n",
       "         'происшествия': 325432,\n",
       "         'конфликты': 3663,\n",
       "         'зарубежные': 83763,\n",
       "         'политика': 285048,\n",
       "         'наука': 18429,\n",
       "         'культура': 15419,\n",
       "         'экономика': 227740,\n",
       "         'события': 13891,\n",
       "         'медиа': 3243,\n",
       "         'авто': 7824,\n",
       "         'жкх': 3359,\n",
       "         'здоровье': 200,\n",
       "         'животные': 1})"
      ]
     },
     "execution_count": 12,
     "metadata": {},
     "output_type": "execute_result"
    }
   ],
   "source": [
    "Counter(titles[k][\"rubric\"] for k in titles)"
   ]
  },
  {
   "cell_type": "code",
   "execution_count": 13,
   "id": "scientific-friendly",
   "metadata": {},
   "outputs": [],
   "source": [
    "# выбираем самый длинный headline как input, и остальные как output, если они короче его > чем на 3\n",
    "\n",
    "def select_headlines(headlines_lst):\n",
    "    result = []\n",
    "    (long_headline, long_len), *other_headlines = sorted(\n",
    "        [(text, len(get_word_tokens(text))) for text in headlines_lst], key=lambda x: -x[1]\n",
    "    )\n",
    "    for headline, len_ in other_headlines:\n",
    "        if long_len - len_ > 3:\n",
    "            result.append([long_headline, headline, long_len, len_])\n",
    "    return result"
   ]
  },
  {
   "cell_type": "code",
   "execution_count": 28,
   "id": "imposed-bacteria",
   "metadata": {},
   "outputs": [
    {
     "name": "stdout",
     "output_type": "stream",
     "text": [
      "('Две российские команды обогнали всех в эстафете на Кубке мира по лыжам', 12)\n",
      "('Российские лыжники обошли норвежцев', 4)\n"
     ]
    },
    {
     "data": {
      "text/plain": [
       "[['Две российские команды обогнали всех в эстафете на Кубке мира по лыжам',\n",
       "  'Российские лыжники обошли норвежцев',\n",
       "  12,\n",
       "  4]]"
      ]
     },
     "execution_count": 28,
     "metadata": {},
     "output_type": "execute_result"
    }
   ],
   "source": [
    "sample = titles[str(np.random.choice(len(titles)))][\"headlines\"]\n",
    "print(*sorted([(text, len(get_word_tokens(text))) for text in sample], key=lambda x: -x[1]), sep=\"\\n\")\n",
    "select_headlines(sample)"
   ]
  },
  {
   "cell_type": "code",
   "execution_count": 31,
   "id": "orange-pharmaceutical",
   "metadata": {},
   "outputs": [
    {
     "data": {
      "application/vnd.jupyter.widget-view+json": {
       "model_id": "8b0652f6d07441058bc3fa809d5dea6f",
       "version_major": 2,
       "version_minor": 0
      },
      "text/plain": [
       "  0%|          | 0/1725393 [00:00<?, ?it/s]"
      ]
     },
     "metadata": {},
     "output_type": "display_data"
    }
   ],
   "source": [
    "# без спорта и новостей с упоминанием \"курса\" (в основном про валюты)\n",
    "headlines_lst = []\n",
    "for k in tqdm(titles):\n",
    "    if titles[k][\"rubric\"] in [\"спорт\"]:\n",
    "        continue\n",
    "    elif any(\"курс\" in headline.lower() for headline in titles[k][\"headlines\"]):\n",
    "        continue\n",
    "    headlines = titles[k][\"headlines\"]\n",
    "    result = select_headlines(headlines)\n",
    "    if result:\n",
    "        headlines_lst.append(result)\n",
    "\n",
    "headlines_lst = [row for lst in headlines_lst for row in lst]\n",
    "\n",
    "headlines_df = pd.DataFrame(headlines_lst, columns=[\"input\", \"output\", \"input_len\", \"output_len\"])"
   ]
  },
  {
   "cell_type": "code",
   "execution_count": 57,
   "id": "angry-popularity",
   "metadata": {},
   "outputs": [
    {
     "data": {
      "text/html": [
       "<div>\n",
       "<style scoped>\n",
       "    .dataframe tbody tr th:only-of-type {\n",
       "        vertical-align: middle;\n",
       "    }\n",
       "\n",
       "    .dataframe tbody tr th {\n",
       "        vertical-align: top;\n",
       "    }\n",
       "\n",
       "    .dataframe thead th {\n",
       "        text-align: right;\n",
       "    }\n",
       "</style>\n",
       "<table border=\"1\" class=\"dataframe\">\n",
       "  <thead>\n",
       "    <tr style=\"text-align: right;\">\n",
       "      <th></th>\n",
       "      <th>input</th>\n",
       "      <th>output</th>\n",
       "      <th>input_len</th>\n",
       "      <th>output_len</th>\n",
       "    </tr>\n",
       "  </thead>\n",
       "  <tbody>\n",
       "    <tr>\n",
       "      <th>0</th>\n",
       "      <td>Куриное Рождество в 2019 году: что это за праз...</td>\n",
       "      <td>Птичий праздник: Что такое \"куриное рождество\"...</td>\n",
       "      <td>15</td>\n",
       "      <td>10</td>\n",
       "    </tr>\n",
       "    <tr>\n",
       "      <th>1</th>\n",
       "      <td>В Индии 5 млн женщин выстроились стеной в 620 ...</td>\n",
       "      <td>В Индии женщины встали живой стеной длиной 620 км</td>\n",
       "      <td>13</td>\n",
       "      <td>9</td>\n",
       "    </tr>\n",
       "    <tr>\n",
       "      <th>2</th>\n",
       "      <td>Снег и порывистый ветер. Синоптики рассказали ...</td>\n",
       "      <td>Снег, метель и морозец обещают синоптики на 3 ...</td>\n",
       "      <td>13</td>\n",
       "      <td>9</td>\n",
       "    </tr>\n",
       "    <tr>\n",
       "      <th>3</th>\n",
       "      <td>Снег и порывистый ветер. Синоптики рассказали ...</td>\n",
       "      <td>Атмосферные фронты принесут снег, ожидается ух...</td>\n",
       "      <td>13</td>\n",
       "      <td>7</td>\n",
       "    </tr>\n",
       "    <tr>\n",
       "      <th>4</th>\n",
       "      <td>Потери на Донбассе: из-за обстрелов боевиков о...</td>\n",
       "      <td>На Донбассе погиб один военнослужащий ВСУ, еще...</td>\n",
       "      <td>13</td>\n",
       "      <td>9</td>\n",
       "    </tr>\n",
       "    <tr>\n",
       "      <th>...</th>\n",
       "      <td>...</td>\n",
       "      <td>...</td>\n",
       "      <td>...</td>\n",
       "      <td>...</td>\n",
       "    </tr>\n",
       "    <tr>\n",
       "      <th>1800152</th>\n",
       "      <td>Четыре ведущих российских банка предоставили м...</td>\n",
       "      <td>Российские банки предоставили Белоруссии 6 млр...</td>\n",
       "      <td>33</td>\n",
       "      <td>7</td>\n",
       "    </tr>\n",
       "    <tr>\n",
       "      <th>1800153</th>\n",
       "      <td>Четыре ведущих российских банка предоставили м...</td>\n",
       "      <td>Российские банки дали Белоруссии 6 млрд рублей</td>\n",
       "      <td>33</td>\n",
       "      <td>7</td>\n",
       "    </tr>\n",
       "    <tr>\n",
       "      <th>1800154</th>\n",
       "      <td>Четыре ведущих российских банка предоставили м...</td>\n",
       "      <td>Четыре российских банка выдали предновогодний ...</td>\n",
       "      <td>33</td>\n",
       "      <td>7</td>\n",
       "    </tr>\n",
       "    <tr>\n",
       "      <th>1800155</th>\n",
       "      <td>Четыре ведущих российских банка предоставили м...</td>\n",
       "      <td>Российские банки предоставили Беларуси кредит</td>\n",
       "      <td>33</td>\n",
       "      <td>5</td>\n",
       "    </tr>\n",
       "    <tr>\n",
       "      <th>1800156</th>\n",
       "      <td>В Москве умер экс-депутат Госдумы Василий Шанд...</td>\n",
       "      <td>Умер Василий Шандыбин</td>\n",
       "      <td>7</td>\n",
       "      <td>3</td>\n",
       "    </tr>\n",
       "  </tbody>\n",
       "</table>\n",
       "<p>1800157 rows × 4 columns</p>\n",
       "</div>"
      ],
      "text/plain": [
       "                                                     input  \\\n",
       "0        Куриное Рождество в 2019 году: что это за праз...   \n",
       "1        В Индии 5 млн женщин выстроились стеной в 620 ...   \n",
       "2        Снег и порывистый ветер. Синоптики рассказали ...   \n",
       "3        Снег и порывистый ветер. Синоптики рассказали ...   \n",
       "4        Потери на Донбассе: из-за обстрелов боевиков о...   \n",
       "...                                                    ...   \n",
       "1800152  Четыре ведущих российских банка предоставили м...   \n",
       "1800153  Четыре ведущих российских банка предоставили м...   \n",
       "1800154  Четыре ведущих российских банка предоставили м...   \n",
       "1800155  Четыре ведущих российских банка предоставили м...   \n",
       "1800156  В Москве умер экс-депутат Госдумы Василий Шанд...   \n",
       "\n",
       "                                                    output  input_len  \\\n",
       "0        Птичий праздник: Что такое \"куриное рождество\"...         15   \n",
       "1        В Индии женщины встали живой стеной длиной 620 км         13   \n",
       "2        Снег, метель и морозец обещают синоптики на 3 ...         13   \n",
       "3        Атмосферные фронты принесут снег, ожидается ух...         13   \n",
       "4        На Донбассе погиб один военнослужащий ВСУ, еще...         13   \n",
       "...                                                    ...        ...   \n",
       "1800152  Российские банки предоставили Белоруссии 6 млр...         33   \n",
       "1800153     Российские банки дали Белоруссии 6 млрд рублей         33   \n",
       "1800154  Четыре российских банка выдали предновогодний ...         33   \n",
       "1800155      Российские банки предоставили Беларуси кредит         33   \n",
       "1800156                              Умер Василий Шандыбин          7   \n",
       "\n",
       "         output_len  \n",
       "0                10  \n",
       "1                 9  \n",
       "2                 9  \n",
       "3                 7  \n",
       "4                 9  \n",
       "...             ...  \n",
       "1800152           7  \n",
       "1800153           7  \n",
       "1800154           7  \n",
       "1800155           5  \n",
       "1800156           3  \n",
       "\n",
       "[1800157 rows x 4 columns]"
      ]
     },
     "execution_count": 57,
     "metadata": {},
     "output_type": "execute_result"
    }
   ],
   "source": [
    "headlines_df"
   ]
  },
  {
   "cell_type": "code",
   "execution_count": 59,
   "id": "suitable-bundle",
   "metadata": {},
   "outputs": [
    {
     "name": "stdout",
     "output_type": "stream",
     "text": [
      "CPU times: user 15h 8min 53s, sys: 52.2 s, total: 15h 9min 45s\n",
      "Wall time: 15h 9min 51s\n"
     ]
    }
   ],
   "source": [
    "%%time\n",
    "headlines_df[\"cosine_sim\"] = headlines_df.apply(\n",
    "    lambda x: get_similarities(model, tokenizer, x[\"input\"], x[\"output\"]), axis=1\n",
    ")\n",
    "headlines_df[\"cosine_sim\"] = headlines_df[\"cosine_sim\"].apply(lambda x: x[0][0])"
   ]
  },
  {
   "cell_type": "code",
   "execution_count": 61,
   "id": "speaking-temperature",
   "metadata": {},
   "outputs": [
    {
     "name": "stdout",
     "output_type": "stream",
     "text": [
      "CPU times: user 5min 6s, sys: 472 ms, total: 5min 7s\n",
      "Wall time: 5min 7s\n"
     ]
    }
   ],
   "source": [
    "%%time\n",
    "headlines_df[\"rouge_l\"] = headlines_df.apply(lambda x: get_rougel(x[\"input\"], x[\"output\"]), axis=1)"
   ]
  },
  {
   "cell_type": "code",
   "execution_count": 63,
   "id": "heard-vietnamese",
   "metadata": {},
   "outputs": [],
   "source": [
    "headlines_df = headlines_df[[\"input\", \"output\", \"cosine_sim\", \"rouge_l\", \"input_len\", \"output_len\"]]"
   ]
  },
  {
   "cell_type": "code",
   "execution_count": 64,
   "id": "latter-combination",
   "metadata": {},
   "outputs": [],
   "source": [
    "headlines_df.to_csv(DATA_DIR / \"prepared_data\" / \"headlines_df_metrics.csv\", index=False)"
   ]
  },
  {
   "cell_type": "code",
   "execution_count": 65,
   "id": "moderate-holly",
   "metadata": {},
   "outputs": [
    {
     "data": {
      "text/html": [
       "<div>\n",
       "<style scoped>\n",
       "    .dataframe tbody tr th:only-of-type {\n",
       "        vertical-align: middle;\n",
       "    }\n",
       "\n",
       "    .dataframe tbody tr th {\n",
       "        vertical-align: top;\n",
       "    }\n",
       "\n",
       "    .dataframe thead th {\n",
       "        text-align: right;\n",
       "    }\n",
       "</style>\n",
       "<table border=\"1\" class=\"dataframe\">\n",
       "  <thead>\n",
       "    <tr style=\"text-align: right;\">\n",
       "      <th></th>\n",
       "      <th>input</th>\n",
       "      <th>output</th>\n",
       "      <th>cosine_sim</th>\n",
       "      <th>rouge_l</th>\n",
       "      <th>input_len</th>\n",
       "      <th>output_len</th>\n",
       "    </tr>\n",
       "  </thead>\n",
       "  <tbody>\n",
       "    <tr>\n",
       "      <th>1749199</th>\n",
       "      <td>Страны G8 готовы выделить $15 млрд за 3 года н...</td>\n",
       "      <td>G</td>\n",
       "      <td>0.029937</td>\n",
       "      <td>0.000000</td>\n",
       "      <td>15</td>\n",
       "      <td>1</td>\n",
       "    </tr>\n",
       "    <tr>\n",
       "      <th>610041</th>\n",
       "      <td>\"Спартак\" - \"Торпедо\": прогноз на матч КХЛ 24 ...</td>\n",
       "      <td>vfgf</td>\n",
       "      <td>0.064244</td>\n",
       "      <td>0.000000</td>\n",
       "      <td>15</td>\n",
       "      <td>1</td>\n",
       "    </tr>\n",
       "    <tr>\n",
       "      <th>1684527</th>\n",
       "      <td>ОППОЗИЦИЯ ПРОСИТ МЕДВЕДЕВА ЗАЩИТИТЬ ХОДОРКОВСКОГО</td>\n",
       "      <td>7.0</td>\n",
       "      <td>0.065270</td>\n",
       "      <td>0.000000</td>\n",
       "      <td>5</td>\n",
       "      <td>1</td>\n",
       "    </tr>\n",
       "    <tr>\n",
       "      <th>1216717</th>\n",
       "      <td>\"Единая Россия\": парламентское расследование н...</td>\n",
       "      <td>Так нельзя</td>\n",
       "      <td>0.077708</td>\n",
       "      <td>0.000000</td>\n",
       "      <td>10</td>\n",
       "      <td>2</td>\n",
       "    </tr>\n",
       "    <tr>\n",
       "      <th>1473918</th>\n",
       "      <td>Первой моделью Е-мобиля на новом заводе в Санк...</td>\n",
       "      <td>Е-моебили</td>\n",
       "      <td>0.100088</td>\n",
       "      <td>0.000000</td>\n",
       "      <td>10</td>\n",
       "      <td>1</td>\n",
       "    </tr>\n",
       "    <tr>\n",
       "      <th>...</th>\n",
       "      <td>...</td>\n",
       "      <td>...</td>\n",
       "      <td>...</td>\n",
       "      <td>...</td>\n",
       "      <td>...</td>\n",
       "      <td>...</td>\n",
       "    </tr>\n",
       "    <tr>\n",
       "      <th>1004469</th>\n",
       "      <td>\"Нафтогаз\" перечислил \"Газпрому\" $1,45 млрд в ...</td>\n",
       "      <td>\"Нафтогаз\" перечислил \"Газпрому\" $1,45 млрд по...</td>\n",
       "      <td>0.994722</td>\n",
       "      <td>0.818182</td>\n",
       "      <td>13</td>\n",
       "      <td>9</td>\n",
       "    </tr>\n",
       "    <tr>\n",
       "      <th>1741428</th>\n",
       "      <td>На ФБ ММВБ цена облигации Аркада-03 упала на 4...</td>\n",
       "      <td>На ФБ ММВБ цена облигации Аркада-03 упала на 2...</td>\n",
       "      <td>0.994842</td>\n",
       "      <td>0.764706</td>\n",
       "      <td>20</td>\n",
       "      <td>16</td>\n",
       "    </tr>\n",
       "    <tr>\n",
       "      <th>1729895</th>\n",
       "      <td>На ФБ ММВБ цена облигации ИнкомЛада2 упала на ...</td>\n",
       "      <td>На ФБ ММВБ цена облигации ИнкомЛада3 упала на ...</td>\n",
       "      <td>0.994968</td>\n",
       "      <td>0.705882</td>\n",
       "      <td>20</td>\n",
       "      <td>16</td>\n",
       "    </tr>\n",
       "    <tr>\n",
       "      <th>1583915</th>\n",
       "      <td>Великобритания. Сальдо торгового баланса без у...</td>\n",
       "      <td>Великобритания. Сальдо торгового баланса в дек...</td>\n",
       "      <td>0.995033</td>\n",
       "      <td>0.685714</td>\n",
       "      <td>20</td>\n",
       "      <td>16</td>\n",
       "    </tr>\n",
       "    <tr>\n",
       "      <th>1730677</th>\n",
       "      <td>На ФБ ММВБ цена облигации ЕврокомФК5 упала на ...</td>\n",
       "      <td>На ФБ ММВБ цена облигации ЕврокомФК5 упала на ...</td>\n",
       "      <td>0.995806</td>\n",
       "      <td>0.823529</td>\n",
       "      <td>20</td>\n",
       "      <td>16</td>\n",
       "    </tr>\n",
       "  </tbody>\n",
       "</table>\n",
       "<p>1800157 rows × 6 columns</p>\n",
       "</div>"
      ],
      "text/plain": [
       "                                                     input  \\\n",
       "1749199  Страны G8 готовы выделить $15 млрд за 3 года н...   \n",
       "610041   \"Спартак\" - \"Торпедо\": прогноз на матч КХЛ 24 ...   \n",
       "1684527  ОППОЗИЦИЯ ПРОСИТ МЕДВЕДЕВА ЗАЩИТИТЬ ХОДОРКОВСКОГО   \n",
       "1216717  \"Единая Россия\": парламентское расследование н...   \n",
       "1473918  Первой моделью Е-мобиля на новом заводе в Санк...   \n",
       "...                                                    ...   \n",
       "1004469  \"Нафтогаз\" перечислил \"Газпрому\" $1,45 млрд в ...   \n",
       "1741428  На ФБ ММВБ цена облигации Аркада-03 упала на 4...   \n",
       "1729895  На ФБ ММВБ цена облигации ИнкомЛада2 упала на ...   \n",
       "1583915  Великобритания. Сальдо торгового баланса без у...   \n",
       "1730677  На ФБ ММВБ цена облигации ЕврокомФК5 упала на ...   \n",
       "\n",
       "                                                    output  cosine_sim  \\\n",
       "1749199                                                  G    0.029937   \n",
       "610041                                                vfgf    0.064244   \n",
       "1684527                                                7.0    0.065270   \n",
       "1216717                                         Так нельзя    0.077708   \n",
       "1473918                                          Е-моебили    0.100088   \n",
       "...                                                    ...         ...   \n",
       "1004469  \"Нафтогаз\" перечислил \"Газпрому\" $1,45 млрд по...    0.994722   \n",
       "1741428  На ФБ ММВБ цена облигации Аркада-03 упала на 2...    0.994842   \n",
       "1729895  На ФБ ММВБ цена облигации ИнкомЛада3 упала на ...    0.994968   \n",
       "1583915  Великобритания. Сальдо торгового баланса в дек...    0.995033   \n",
       "1730677  На ФБ ММВБ цена облигации ЕврокомФК5 упала на ...    0.995806   \n",
       "\n",
       "          rouge_l  input_len  output_len  \n",
       "1749199  0.000000         15           1  \n",
       "610041   0.000000         15           1  \n",
       "1684527  0.000000          5           1  \n",
       "1216717  0.000000         10           2  \n",
       "1473918  0.000000         10           1  \n",
       "...           ...        ...         ...  \n",
       "1004469  0.818182         13           9  \n",
       "1741428  0.764706         20          16  \n",
       "1729895  0.705882         20          16  \n",
       "1583915  0.685714         20          16  \n",
       "1730677  0.823529         20          16  \n",
       "\n",
       "[1800157 rows x 6 columns]"
      ]
     },
     "execution_count": 65,
     "metadata": {},
     "output_type": "execute_result"
    }
   ],
   "source": [
    "headlines_df.sort_values(\"cosine_sim\")"
   ]
  },
  {
   "cell_type": "code",
   "execution_count": 112,
   "id": "manual-sellers",
   "metadata": {},
   "outputs": [],
   "source": [
    "headlines_df_part = headlines_df[\n",
    "    (headlines_df[\"cosine_sim\"] < 0.99)\n",
    "  & (headlines_df[\"cosine_sim\"] > 0.8)\n",
    "  & (headlines_df[\"rouge_l\"] < 0.8)\n",
    "  & (headlines_df[\"rouge_l\"] > 0.1)\n",
    "  & (headlines_df[\"output_len\"] <= headlines_df[\"input_len\"])\n",
    "  & (headlines_df[\"input\"].apply(lambda x: not bool(re.search(r\"\\d\", x))))  # без цифр\n",
    "  & (headlines_df[\"output\"].apply(lambda x: not bool(re.search(r\"\\d\", x))))\n",
    "]"
   ]
  },
  {
   "cell_type": "code",
   "execution_count": 146,
   "id": "generous-feature",
   "metadata": {},
   "outputs": [
    {
     "data": {
      "text/html": [
       "<div>\n",
       "<style scoped>\n",
       "    .dataframe tbody tr th:only-of-type {\n",
       "        vertical-align: middle;\n",
       "    }\n",
       "\n",
       "    .dataframe tbody tr th {\n",
       "        vertical-align: top;\n",
       "    }\n",
       "\n",
       "    .dataframe thead th {\n",
       "        text-align: right;\n",
       "    }\n",
       "</style>\n",
       "<table border=\"1\" class=\"dataframe\">\n",
       "  <thead>\n",
       "    <tr style=\"text-align: right;\">\n",
       "      <th></th>\n",
       "      <th>input</th>\n",
       "      <th>output</th>\n",
       "      <th>cosine_sim</th>\n",
       "      <th>rouge_l</th>\n",
       "      <th>input_len</th>\n",
       "      <th>output_len</th>\n",
       "    </tr>\n",
       "  </thead>\n",
       "  <tbody>\n",
       "    <tr>\n",
       "      <th>756635</th>\n",
       "      <td>В результате обстрела Андреевки и Дзержинска р...</td>\n",
       "      <td>Боевики обстреливают окрестности Дзержинска</td>\n",
       "      <td>0.800000</td>\n",
       "      <td>0.133333</td>\n",
       "      <td>10</td>\n",
       "      <td>4</td>\n",
       "    </tr>\n",
       "    <tr>\n",
       "      <th>1727327</th>\n",
       "      <td>Премьер-министр Италии: Мировой кризис - это \"...</td>\n",
       "      <td>Берлускони назвал финансовый кризис \"американс...</td>\n",
       "      <td>0.800001</td>\n",
       "      <td>0.105263</td>\n",
       "      <td>12</td>\n",
       "      <td>6</td>\n",
       "    </tr>\n",
       "    <tr>\n",
       "      <th>686333</th>\n",
       "      <td>Постановление О представлении Президенту Росси...</td>\n",
       "      <td>На подпись Путину представлен договор о союзни...</td>\n",
       "      <td>0.800001</td>\n",
       "      <td>0.200000</td>\n",
       "      <td>21</td>\n",
       "      <td>12</td>\n",
       "    </tr>\n",
       "    <tr>\n",
       "      <th>114783</th>\n",
       "      <td>Соединенные штаты не выводят войска из Сирии, ...</td>\n",
       "      <td>США не собираются выводить войска из Сирии</td>\n",
       "      <td>0.800001</td>\n",
       "      <td>0.333333</td>\n",
       "      <td>11</td>\n",
       "      <td>7</td>\n",
       "    </tr>\n",
       "    <tr>\n",
       "      <th>475903</th>\n",
       "      <td>Соколов: авиасообщение с Хургадой и Шарм-эш-Ше...</td>\n",
       "      <td>Соколов назвал маловероятным возобновление ави...</td>\n",
       "      <td>0.800001</td>\n",
       "      <td>0.300000</td>\n",
       "      <td>12</td>\n",
       "      <td>8</td>\n",
       "    </tr>\n",
       "    <tr>\n",
       "      <th>...</th>\n",
       "      <td>...</td>\n",
       "      <td>...</td>\n",
       "      <td>...</td>\n",
       "      <td>...</td>\n",
       "      <td>...</td>\n",
       "      <td>...</td>\n",
       "    </tr>\n",
       "    <tr>\n",
       "      <th>261666</th>\n",
       "      <td>Средний платеж по налогу на имущество вырос бо...</td>\n",
       "      <td>Средний платеж по налогу на имущество вырос вдвое</td>\n",
       "      <td>0.987623</td>\n",
       "      <td>0.700000</td>\n",
       "      <td>12</td>\n",
       "      <td>8</td>\n",
       "    </tr>\n",
       "    <tr>\n",
       "      <th>1232745</th>\n",
       "      <td>Иран начал военные учения для защиты ядерных о...</td>\n",
       "      <td>Иран начал учения по защите ядерных объектов о...</td>\n",
       "      <td>0.987744</td>\n",
       "      <td>0.666667</td>\n",
       "      <td>14</td>\n",
       "      <td>10</td>\n",
       "    </tr>\n",
       "    <tr>\n",
       "      <th>385854</th>\n",
       "      <td>США начали поставки оружия сирийским курдам дл...</td>\n",
       "      <td>США начали поставки оружия сирийским курдам</td>\n",
       "      <td>0.987774</td>\n",
       "      <td>0.750000</td>\n",
       "      <td>10</td>\n",
       "      <td>6</td>\n",
       "    </tr>\n",
       "    <tr>\n",
       "      <th>646497</th>\n",
       "      <td>Коалиция США не подтверждает сообщения о гибел...</td>\n",
       "      <td>Коалиция США не подтверждает гибель иракских в...</td>\n",
       "      <td>0.987863</td>\n",
       "      <td>0.583333</td>\n",
       "      <td>14</td>\n",
       "      <td>10</td>\n",
       "    </tr>\n",
       "    <tr>\n",
       "      <th>997347</th>\n",
       "      <td>В Москве открыто движение на новой эстакаде у ...</td>\n",
       "      <td>В Москве открыто движение по эстакаде на Мичур...</td>\n",
       "      <td>0.988253</td>\n",
       "      <td>0.454545</td>\n",
       "      <td>13</td>\n",
       "      <td>9</td>\n",
       "    </tr>\n",
       "  </tbody>\n",
       "</table>\n",
       "<p>708296 rows × 6 columns</p>\n",
       "</div>"
      ],
      "text/plain": [
       "                                                     input  \\\n",
       "756635   В результате обстрела Андреевки и Дзержинска р...   \n",
       "1727327  Премьер-министр Италии: Мировой кризис - это \"...   \n",
       "686333   Постановление О представлении Президенту Росси...   \n",
       "114783   Соединенные штаты не выводят войска из Сирии, ...   \n",
       "475903   Соколов: авиасообщение с Хургадой и Шарм-эш-Ше...   \n",
       "...                                                    ...   \n",
       "261666   Средний платеж по налогу на имущество вырос бо...   \n",
       "1232745  Иран начал военные учения для защиты ядерных о...   \n",
       "385854   США начали поставки оружия сирийским курдам дл...   \n",
       "646497   Коалиция США не подтверждает сообщения о гибел...   \n",
       "997347   В Москве открыто движение на новой эстакаде у ...   \n",
       "\n",
       "                                                    output  cosine_sim  \\\n",
       "756635         Боевики обстреливают окрестности Дзержинска    0.800000   \n",
       "1727327  Берлускони назвал финансовый кризис \"американс...    0.800001   \n",
       "686333   На подпись Путину представлен договор о союзни...    0.800001   \n",
       "114783          США не собираются выводить войска из Сирии    0.800001   \n",
       "475903   Соколов назвал маловероятным возобновление ави...    0.800001   \n",
       "...                                                    ...         ...   \n",
       "261666   Средний платеж по налогу на имущество вырос вдвое    0.987623   \n",
       "1232745  Иран начал учения по защите ядерных объектов о...    0.987744   \n",
       "385854         США начали поставки оружия сирийским курдам    0.987774   \n",
       "646497   Коалиция США не подтверждает гибель иракских в...    0.987863   \n",
       "997347   В Москве открыто движение по эстакаде на Мичур...    0.988253   \n",
       "\n",
       "          rouge_l  input_len  output_len  \n",
       "756635   0.133333         10           4  \n",
       "1727327  0.105263         12           6  \n",
       "686333   0.200000         21          12  \n",
       "114783   0.333333         11           7  \n",
       "475903   0.300000         12           8  \n",
       "...           ...        ...         ...  \n",
       "261666   0.700000         12           8  \n",
       "1232745  0.666667         14          10  \n",
       "385854   0.750000         10           6  \n",
       "646497   0.583333         14          10  \n",
       "997347   0.454545         13           9  \n",
       "\n",
       "[708296 rows x 6 columns]"
      ]
     },
     "execution_count": 146,
     "metadata": {},
     "output_type": "execute_result"
    }
   ],
   "source": [
    "headlines_df_part.sort_values(\"cosine_sim\")"
   ]
  },
  {
   "cell_type": "code",
   "execution_count": 114,
   "id": "graphic-pizza",
   "metadata": {},
   "outputs": [],
   "source": [
    "headlines_df_part[[\"input\", \"output\"]].to_csv(DATA_DIR / \"prepared_data\" / \"headlines_part_sim.csv\", index=False)"
   ]
  },
  {
   "cell_type": "code",
   "execution_count": 171,
   "id": "strategic-learning",
   "metadata": {},
   "outputs": [
    {
     "name": "stdout",
     "output_type": "stream",
     "text": [
      "['Путин подписал закон о создании свободной экономической зоны в Крыму и Севастополе'\n",
      " 'Путин подписал закон о создании СЭЗ в Крыму' 0.9600304365158081\n",
      " 0.6999999952000001 12 8]\n"
     ]
    }
   ],
   "source": [
    "print(*headlines_df_part.sample().values)"
   ]
  },
  {
   "cell_type": "code",
   "execution_count": 195,
   "id": "historical-idaho",
   "metadata": {},
   "outputs": [
    {
     "data": {
      "image/png": "[encoded data removed]",
      "text/plain": [
       "<Figure size 720x720 with 6 Axes>"
      ]
     },
     "metadata": {
      "needs_background": "light"
     },
     "output_type": "display_data"
    }
   ],
   "source": [
    "g = sns.PairGrid(headlines_df_part[[\"cosine_sim\", \"rouge_l\"]].sample(100000), height=5)\n",
    "g.map_upper(sns.histplot)\n",
    "g.map_lower(sns.kdeplot, fill=True)\n",
    "g.map_diag(sns.histplot, kde=True);"
   ]
  },
  {
   "cell_type": "markdown",
   "id": "imperial-knowing",
   "metadata": {},
   "source": [
    "## Combine"
   ]
  },
  {
   "cell_type": "code",
   "execution_count": 163,
   "id": "descending-characterization",
   "metadata": {},
   "outputs": [],
   "source": [
    "wiki_df_part = pd.read_csv(DATA_DIR / \"prepared_data\" / \"wiki_part_sim.csv\")"
   ]
  },
  {
   "cell_type": "code",
   "execution_count": 172,
   "id": "sized-efficiency",
   "metadata": {},
   "outputs": [],
   "source": [
    "combined_df = pd.concat([wiki_df_part[[\"input\", \"output\"]],\n",
    "                         headlines_df_part[[\"input\", \"output\"]]]).reset_index(drop=True)"
   ]
  },
  {
   "cell_type": "code",
   "execution_count": 173,
   "id": "periodic-danger",
   "metadata": {},
   "outputs": [
    {
     "data": {
      "text/html": [
       "<div>\n",
       "<style scoped>\n",
       "    .dataframe tbody tr th:only-of-type {\n",
       "        vertical-align: middle;\n",
       "    }\n",
       "\n",
       "    .dataframe tbody tr th {\n",
       "        vertical-align: top;\n",
       "    }\n",
       "\n",
       "    .dataframe thead th {\n",
       "        text-align: right;\n",
       "    }\n",
       "</style>\n",
       "<table border=\"1\" class=\"dataframe\">\n",
       "  <thead>\n",
       "    <tr style=\"text-align: right;\">\n",
       "      <th></th>\n",
       "      <th>input</th>\n",
       "      <th>output</th>\n",
       "    </tr>\n",
       "  </thead>\n",
       "  <tbody>\n",
       "    <tr>\n",
       "      <th>0</th>\n",
       "      <td>Он заявил, что зоопарк нарушил законодательств...</td>\n",
       "      <td>Он заявил, что зоопарк нарушает правила защиты...</td>\n",
       "    </tr>\n",
       "    <tr>\n",
       "      <th>1</th>\n",
       "      <td>Британская транспортная комиссия (BTC) была со...</td>\n",
       "      <td>Британская транспортная комиссия (BTC) была со...</td>\n",
       "    </tr>\n",
       "    <tr>\n",
       "      <th>2</th>\n",
       "      <td>Отношения Фицджеральда с Гранцем еще больше ук...</td>\n",
       "      <td>Затем Гранц стал ее менеджером, но он не запис...</td>\n",
       "    </tr>\n",
       "    <tr>\n",
       "      <th>3</th>\n",
       "      <td>Этот сезон был выше среднего, потому что было ...</td>\n",
       "      <td>В этом сезоне было 14 названных штормов, 10 ур...</td>\n",
       "    </tr>\n",
       "    <tr>\n",
       "      <th>4</th>\n",
       "      <td>Кюбрис - это коммуна в департаменте Приморские...</td>\n",
       "      <td>Cu bris - это коммуна.</td>\n",
       "    </tr>\n",
       "    <tr>\n",
       "      <th>...</th>\n",
       "      <td>...</td>\n",
       "      <td>...</td>\n",
       "    </tr>\n",
       "    <tr>\n",
       "      <th>829056</th>\n",
       "      <td>Аферист века Бернард Мэдофф вернулся из тюремн...</td>\n",
       "      <td>Бернард Мэдофф вернулся в свою камеру</td>\n",
       "    </tr>\n",
       "    <tr>\n",
       "      <th>829057</th>\n",
       "      <td>Центральная площадь Нью-Йорка была эвакуирован...</td>\n",
       "      <td>Таймс-сквер в Нью-Йорке эвакуирован. Угроза те...</td>\n",
       "    </tr>\n",
       "    <tr>\n",
       "      <th>829058</th>\n",
       "      <td>Центральная площадь Нью-Йорка была эвакуирован...</td>\n",
       "      <td>Таймс-сквер эвакуирована из-за подозрительного...</td>\n",
       "    </tr>\n",
       "    <tr>\n",
       "      <th>829059</th>\n",
       "      <td>По подозрению в нападении на реставратора Жура...</td>\n",
       "      <td>Возможные убийцы реставратора Янтарной комнаты...</td>\n",
       "    </tr>\n",
       "    <tr>\n",
       "      <th>829060</th>\n",
       "      <td>По подозрению в нападении на реставратора Жура...</td>\n",
       "      <td>Задержаны убийцы реставратора Янтарной комнаты</td>\n",
       "    </tr>\n",
       "  </tbody>\n",
       "</table>\n",
       "<p>829061 rows × 2 columns</p>\n",
       "</div>"
      ],
      "text/plain": [
       "                                                    input  \\\n",
       "0       Он заявил, что зоопарк нарушил законодательств...   \n",
       "1       Британская транспортная комиссия (BTC) была со...   \n",
       "2       Отношения Фицджеральда с Гранцем еще больше ук...   \n",
       "3       Этот сезон был выше среднего, потому что было ...   \n",
       "4       Кюбрис - это коммуна в департаменте Приморские...   \n",
       "...                                                   ...   \n",
       "829056  Аферист века Бернард Мэдофф вернулся из тюремн...   \n",
       "829057  Центральная площадь Нью-Йорка была эвакуирован...   \n",
       "829058  Центральная площадь Нью-Йорка была эвакуирован...   \n",
       "829059  По подозрению в нападении на реставратора Жура...   \n",
       "829060  По подозрению в нападении на реставратора Жура...   \n",
       "\n",
       "                                                   output  \n",
       "0       Он заявил, что зоопарк нарушает правила защиты...  \n",
       "1       Британская транспортная комиссия (BTC) была со...  \n",
       "2       Затем Гранц стал ее менеджером, но он не запис...  \n",
       "3       В этом сезоне было 14 названных штормов, 10 ур...  \n",
       "4                                  Cu bris - это коммуна.  \n",
       "...                                                   ...  \n",
       "829056              Бернард Мэдофф вернулся в свою камеру  \n",
       "829057  Таймс-сквер в Нью-Йорке эвакуирован. Угроза те...  \n",
       "829058  Таймс-сквер эвакуирована из-за подозрительного...  \n",
       "829059  Возможные убийцы реставратора Янтарной комнаты...  \n",
       "829060     Задержаны убийцы реставратора Янтарной комнаты  \n",
       "\n",
       "[829061 rows x 2 columns]"
      ]
     },
     "execution_count": 173,
     "metadata": {},
     "output_type": "execute_result"
    }
   ],
   "source": [
    "combined_df"
   ]
  },
  {
   "cell_type": "code",
   "execution_count": null,
   "id": "chemical-myanmar",
   "metadata": {},
   "outputs": [],
   "source": [
    "sample = combined_df.sample()\n",
    "for col in [\"input\", \"output\"]:\n",
    "    text = sample[col].item()\n",
    "    print(col, \"\\n\", text)"
   ]
  },
  {
   "cell_type": "code",
   "execution_count": 181,
   "id": "caring-texture",
   "metadata": {},
   "outputs": [],
   "source": [
    "combined_df[[\"input\", \"output\"]].to_csv(DATA_DIR / \"prepared_data\" / \"combined_df_sim.csv\", index=False)"
   ]
  },
  {
   "cell_type": "code",
   "execution_count": null,
   "id": "short-suicide",
   "metadata": {},
   "outputs": [],
   "source": []
  }
 ],
 "metadata": {
  "kernelspec": {
   "display_name": "Python 3",
   "language": "python",
   "name": "python3"
  },
  "language_info": {
   "codemirror_mode": {
    "name": "ipython",
    "version": 3
   },
   "file_extension": ".py",
   "mimetype": "text/x-python",
   "name": "python",
   "nbconvert_exporter": "python",
   "pygments_lexer": "ipython3",
   "version": "3.8.8"
  },
  "toc": {
   "base_numbering": 1,
   "nav_menu": {},
   "number_sections": true,
   "sideBar": true,
   "skip_h1_title": false,
   "title_cell": "Table of Contents",
   "title_sidebar": "Contents",
   "toc_cell": false,
   "toc_position": {
    "height": "calc(100% - 180px)",
    "left": "10px",
    "top": "150px",
    "width": "384px"
   },
   "toc_section_display": true,
   "toc_window_display": true
  }
 },
 "nbformat": 4,
 "nbformat_minor": 5
}
