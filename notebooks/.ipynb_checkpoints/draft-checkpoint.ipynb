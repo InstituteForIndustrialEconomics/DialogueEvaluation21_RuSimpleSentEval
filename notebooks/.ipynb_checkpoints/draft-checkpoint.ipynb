{
 "cells": [
  {
   "cell_type": "code",
   "execution_count": 1,
   "id": "turkish-packet",
   "metadata": {
    "code_folding": []
   },
   "outputs": [],
   "source": [
    "import os\n",
    "import time\n",
    "import datetime\n",
    "import random\n",
    "from pathlib import Path\n",
    "import pandas as pd\n",
    "import numpy as np\n",
    "import torch\n",
    "from torch.utils.data import Dataset, DataLoader, random_split, RandomSampler, SequentialSampler\n",
    "from transformers import (AutoTokenizer,\n",
    "                          AutoModel,\n",
    "                          AutoModelForCausalLM,\n",
    "                          Trainer,\n",
    "                          TrainingArguments,\n",
    "                          TrainerCallback,\n",
    "                          AdamW,\n",
    "                          get_linear_schedule_with_warmup)\n",
    "from sklearn.metrics.pairwise import cosine_similarity\n",
    "from rouge import Rouge\n",
    "torch.manual_seed(19)\n",
    "\n",
    "from matplotlib import pyplot as plt\n",
    "import seaborn as sns"
   ]
  },
  {
   "cell_type": "markdown",
   "id": "congressional-seminar",
   "metadata": {
    "heading_collapsed": true
   },
   "source": [
    "# Encoding"
   ]
  },
  {
   "cell_type": "code",
   "execution_count": 2,
   "id": "knowing-complement",
   "metadata": {
    "hidden": true
   },
   "outputs": [
    {
     "data": {
      "application/vnd.jupyter.widget-view+json": {
       "model_id": "9b16d77d3a7d4fe89f445a53cfb441f4",
       "version_major": 2,
       "version_minor": 0
      },
      "text/plain": [
       "HBox(children=(FloatProgress(value=0.0, description='Downloading', max=655.0, style=ProgressStyle(description_…"
      ]
     },
     "metadata": {},
     "output_type": "display_data"
    },
    {
     "name": "stdout",
     "output_type": "stream",
     "text": [
      "\n"
     ]
    },
    {
     "data": {
      "application/vnd.jupyter.widget-view+json": {
       "model_id": "885e0110b0a44a238d05920dc2861bd4",
       "version_major": 2,
       "version_minor": 0
      },
      "text/plain": [
       "HBox(children=(FloatProgress(value=0.0, description='Downloading', max=1780720.0, style=ProgressStyle(descript…"
      ]
     },
     "metadata": {},
     "output_type": "display_data"
    },
    {
     "name": "stdout",
     "output_type": "stream",
     "text": [
      "\n"
     ]
    },
    {
     "data": {
      "application/vnd.jupyter.widget-view+json": {
       "model_id": "6dd08dbd30b84483a565281497fffd1c",
       "version_major": 2,
       "version_minor": 0
      },
      "text/plain": [
       "HBox(children=(FloatProgress(value=0.0, description='Downloading', max=112.0, style=ProgressStyle(description_…"
      ]
     },
     "metadata": {},
     "output_type": "display_data"
    },
    {
     "name": "stdout",
     "output_type": "stream",
     "text": [
      "\n"
     ]
    },
    {
     "data": {
      "application/vnd.jupyter.widget-view+json": {
       "model_id": "d38a746e5ed64a29ab7882d3e7d09952",
       "version_major": 2,
       "version_minor": 0
      },
      "text/plain": [
       "HBox(children=(FloatProgress(value=0.0, description='Downloading', max=323.0, style=ProgressStyle(description_…"
      ]
     },
     "metadata": {},
     "output_type": "display_data"
    },
    {
     "name": "stdout",
     "output_type": "stream",
     "text": [
      "\n"
     ]
    },
    {
     "data": {
      "application/vnd.jupyter.widget-view+json": {
       "model_id": "9df5d1fe1049405ebeee4ed5f40be651",
       "version_major": 2,
       "version_minor": 0
      },
      "text/plain": [
       "HBox(children=(FloatProgress(value=0.0, description='Downloading', max=1707791567.0, style=ProgressStyle(descr…"
      ]
     },
     "metadata": {},
     "output_type": "display_data"
    },
    {
     "name": "stdout",
     "output_type": "stream",
     "text": [
      "\n"
     ]
    }
   ],
   "source": [
    "#Mean Pooling - Take attention mask into account for correct averaging\n",
    "def mean_pooling(model_output, attention_mask):\n",
    "    token_embeddings = model_output[0] #First element of model_output contains all token embeddings\n",
    "    input_mask_expanded = attention_mask.unsqueeze(-1).expand(token_embeddings.size()).float()\n",
    "    sum_embeddings = torch.sum(token_embeddings * input_mask_expanded, 1)\n",
    "    sum_mask = torch.clamp(input_mask_expanded.sum(1), min=1e-9)\n",
    "    return sum_embeddings / sum_mask\n",
    "\n",
    "#Load AutoModel from huggingface model repository\n",
    "tokenizer = AutoTokenizer.from_pretrained(\"sberbank-ai/sbert_large_nlu_ru\")\n",
    "model = AutoModel.from_pretrained(\"sberbank-ai/sbert_large_nlu_ru\")"
   ]
  },
  {
   "cell_type": "code",
   "execution_count": 46,
   "id": "primary-remains",
   "metadata": {
    "hidden": true
   },
   "outputs": [],
   "source": [
    "def get_similarities(texts):\n",
    "    #Tokenize sentences\n",
    "    encoded_input = tokenizer(texts, padding=True, truncation=True, max_length=200, return_tensors='pt')\n",
    "\n",
    "    #Compute token embeddings\n",
    "    with torch.no_grad():\n",
    "        model_output = model(**encoded_input)\n",
    "\n",
    "    #Perform pooling. In this case, mean pooling\n",
    "    sentence_embeddings = mean_pooling(model_output, encoded_input['attention_mask'])\n",
    "    similarity = cosine_similarity(sentence_embeddings)\n",
    "    return similarity"
   ]
  },
  {
   "cell_type": "code",
   "execution_count": 103,
   "id": "satisfied-sodium",
   "metadata": {
    "hidden": true
   },
   "outputs": [],
   "source": [
    "def get_rouge(texts):\n",
    "    rouge = Rouge()\n",
    "    *predictions, input_text = texts\n",
    "    scores = []\n",
    "    for pred in predictions:\n",
    "        score = rouge.get_scores(input_text, pred)\n",
    "        scores.append(score[0][\"rouge-l\"][\"f\"])\n",
    "    return scores"
   ]
  },
  {
   "cell_type": "code",
   "execution_count": 165,
   "id": "minimal-optimum",
   "metadata": {
    "hidden": true
   },
   "outputs": [],
   "source": [
    "DATA_DIR = Path(\"./data\")\n",
    "TEST_PATH = DATA_DIR / \"public_test_only.csv\"\n",
    "\n",
    "with open(TEST_PATH) as f:\n",
    "    test = [i.strip() for i in f]\n",
    "\n",
    "df = pd.read_csv(\"./submissions/last_ckpt_5.csv\")\n",
    "df[\"input\"] = test\n",
    "# df = df[[\"input\", \"0\", \"1\", \"2\", \"3\", \"4\", \"5\"]]\n",
    "df[\"pred_all\"] = df.values.tolist()"
   ]
  },
  {
   "cell_type": "code",
   "execution_count": 172,
   "id": "latin-lecture",
   "metadata": {
    "hidden": true
   },
   "outputs": [
    {
     "name": "stdout",
     "output_type": "stream",
     "text": [
      "К лесостепной зоне относится большая часть Чеченской равнины и западная часть Терско-Сунженской возвышенности.\n",
      "Большая часть Чеченской равнины и западная часть Терско-Сунженской возвышенности находятся к лесостепной зоне.\n",
      "К лесостепной зоне относится большая часть Чеченской равнины и западная часть Терско-Сунженской возвышенности.\n",
      "Он охватывает большую часть Чеченской равнины и западную часть Терско-Сунженской возвышенности.\n",
      "Большая часть Чеченской равнины и западная часть Терско-Сунженской возвышенности находятся в пределах лесостепной зоны.\n",
      "К лесостепной зоне относится большая часть Чеченской равнины и западная часть Терско-Сунженской возвышенности.\n"
     ]
    }
   ],
   "source": [
    "i = np.random.choice(df.index)\n",
    "print(*df.loc[i, \"pred_all\"], sep=\"\\n\")"
   ]
  },
  {
   "cell_type": "code",
   "execution_count": 173,
   "id": "textile-damages",
   "metadata": {
    "hidden": true
   },
   "outputs": [
    {
     "data": {
      "text/plain": [
       "array([0.9999999, 0.9512011, 1.0000001, 0.7864466, 0.9453666],\n",
       "      dtype=float32)"
      ]
     },
     "execution_count": 173,
     "metadata": {},
     "output_type": "execute_result"
    }
   ],
   "source": [
    "get_similarities(df.loc[i, \"pred_all\"])[-1, :-1]"
   ]
  },
  {
   "cell_type": "code",
   "execution_count": 174,
   "id": "athletic-writing",
   "metadata": {
    "hidden": true
   },
   "outputs": [
    {
     "data": {
      "text/plain": [
       "[0.999999995,\n",
       " 0.5833333283333335,\n",
       " 0.999999995,\n",
       " 0.5454545404958678,\n",
       " 0.559999995008]"
      ]
     },
     "execution_count": 174,
     "metadata": {},
     "output_type": "execute_result"
    }
   ],
   "source": [
    "get_rouge(df.loc[i, \"pred_all\"])"
   ]
  },
  {
   "cell_type": "code",
   "execution_count": null,
   "id": "continued-shaft",
   "metadata": {
    "hidden": true
   },
   "outputs": [],
   "source": []
  },
  {
   "cell_type": "markdown",
   "id": "prostate-uruguay",
   "metadata": {
    "heading_collapsed": true
   },
   "source": [
    "# Predict"
   ]
  },
  {
   "cell_type": "code",
   "execution_count": 178,
   "id": "historic-alexander",
   "metadata": {
    "hidden": true
   },
   "outputs": [],
   "source": [
    "df = pd.read_csv(\"./submissions/2_3_epoch_5.csv\")"
   ]
  },
  {
   "cell_type": "code",
   "execution_count": 179,
   "id": "actual-school",
   "metadata": {
    "hidden": true
   },
   "outputs": [],
   "source": [
    "df[\"pred_all\"] = df.values.tolist()"
   ]
  },
  {
   "cell_type": "code",
   "execution_count": 180,
   "id": "contained-oxford",
   "metadata": {
    "hidden": true
   },
   "outputs": [],
   "source": [
    "df[\"pred_shortest\"] = df[\"pred_all\"].apply(lambda x: sorted(x, key=lambda y: len(y))[0])"
   ]
  },
  {
   "cell_type": "code",
   "execution_count": 181,
   "id": "duplicate-wagner",
   "metadata": {
    "hidden": true
   },
   "outputs": [
    {
     "data": {
      "text/plain": [
       "0      [Архиепископ Новосибирской епархии Тихон Стриж...\n",
       "1      [В 1951 году Советский Союз принял на вооружен...\n",
       "2      [В 1821 году члены испанской короны и Итурбиде...\n",
       "3      [Священный Синод РПЦ утвердил иеромонаха Феодо...\n",
       "4      [28 мая 1987 года самолет «Сессна-172» Skyhawk...\n",
       "                             ...                        \n",
       "995    [В физике «физическое поле» - это место, где п...\n",
       "996    [Это семейство операционных систем реального в...\n",
       "997    [Это помогло популярности бренда, который приб...\n",
       "998    [Этот термин стал очень популярным во времена ...\n",
       "999    [Японские войска были разбиты в Маньчжурии, и ...\n",
       "Name: pred_all, Length: 1000, dtype: object"
      ]
     },
     "execution_count": 181,
     "metadata": {},
     "output_type": "execute_result"
    }
   ],
   "source": [
    "df[\"pred_all\"].apply(lambda x: sorted(x, key=lambda y: len(y)))"
   ]
  },
  {
   "cell_type": "code",
   "execution_count": 183,
   "id": "athletic-tunisia",
   "metadata": {
    "hidden": true
   },
   "outputs": [],
   "source": [
    "df[\"pred_shortest\"].to_csv(\"submissions/04_2_3_epoch_shortest/answer.txt\", index=False, header=None)"
   ]
  },
  {
   "cell_type": "markdown",
   "id": "every-tracker",
   "metadata": {
    "heading_collapsed": true
   },
   "source": [
    "# Prepare Data"
   ]
  },
  {
   "cell_type": "code",
   "execution_count": null,
   "id": "outside-router",
   "metadata": {
    "hidden": true
   },
   "outputs": [],
   "source": [
    "DATA_DIR = Path(\"./data\")\n",
    "\n",
    "WIKI_DIR = DATA_DIR / \"WikiSimple-translated\"\n",
    "PARAPHRASER_PATH = DATA_DIR / \"ParaPhraserPlus\" / \"ParaPhraserPlus.json\"\n",
    "\n",
    "DEV_PATH = DATA_DIR / \"dev_sents.csv\"\n",
    "TEST_PATH = DATA_DIR / \"public_test_only.csv\""
   ]
  },
  {
   "cell_type": "code",
   "execution_count": null,
   "id": "rough-wheat",
   "metadata": {
    "hidden": true
   },
   "outputs": [],
   "source": [
    "dfs = [pd.read_csv(path, usecols=[\"target_x\", \"target_y\"]) for path in WIKI_DIR.glob(\"*\")]\n",
    "\n",
    "df = pd.concat(dfs).reset_index(drop=True)\n",
    "\n",
    "df.columns = [\"input\", \"output\"]"
   ]
  },
  {
   "cell_type": "code",
   "execution_count": null,
   "id": "direct-moore",
   "metadata": {
    "hidden": true
   },
   "outputs": [],
   "source": [
    "df.to_csv(DATA_DIR / \"train.csv\", index=False)"
   ]
  },
  {
   "cell_type": "code",
   "execution_count": null,
   "id": "polished-fusion",
   "metadata": {
    "hidden": true
   },
   "outputs": [],
   "source": [
    "sample = df.sample()\n",
    "print(sample[\"target_x\"].item(), sample[\"target_y\"].item(), sep=\"\\n\\n\")"
   ]
  },
  {
   "cell_type": "code",
   "execution_count": null,
   "id": "mathematical-monte",
   "metadata": {
    "hidden": true
   },
   "outputs": [],
   "source": [
    "for col in df:\n",
    "    df[f\"{col}_set\"] = df[col].apply(lambda x: set(x.split()))"
   ]
  },
  {
   "cell_type": "code",
   "execution_count": null,
   "id": "going-copying",
   "metadata": {
    "hidden": true
   },
   "outputs": [],
   "source": [
    "sample = df[df[\"target_x_set\"] & df[\"target_y_set\"] == False].sample()\n",
    "print(sample[\"target_x\"].item(), sample[\"target_y\"].item(), sep=\"\\n\\n\")"
   ]
  },
  {
   "cell_type": "markdown",
   "id": "empirical-geneva",
   "metadata": {
    "heading_collapsed": true
   },
   "source": [
    "# Prepare dataset"
   ]
  },
  {
   "cell_type": "code",
   "execution_count": 2,
   "id": "friendly-klein",
   "metadata": {
    "hidden": true
   },
   "outputs": [],
   "source": [
    "DATA_DIR = Path(\"./data\")\n",
    "\n",
    "TRAIN_PATH = DATA_DIR / \"prepared_data\" / \"wiki_part.csv\"\n",
    "DEV_PATH = DATA_DIR / \"dev_sents.csv\"\n",
    "TEST_PATH = DATA_DIR / \"public_test_only.csv\"\n",
    "\n",
    "train = pd.read_csv(TRAIN_PATH)\n",
    "valid = pd.read_csv(DEV_PATH, index_col=0)\n",
    "valid.columns = [\"input\", \"output\"]"
   ]
  },
  {
   "cell_type": "code",
   "execution_count": 3,
   "id": "fitting-piano",
   "metadata": {
    "hidden": true
   },
   "outputs": [
    {
     "name": "stderr",
     "output_type": "stream",
     "text": [
      "Special tokens have been added in the vocabulary, make sure the associated word embedding are fine-tuned or trained.\n"
     ]
    }
   ],
   "source": [
    "# model_name = \"sberbank-ai/rugpt3large_based_on_gpt2\"\n",
    "# model_name = \"sberbank-ai/rugpt3medium_based_on_gpt2\"\n",
    "model_name = \"sberbank-ai/rugpt3small_based_on_gpt2\"\n",
    "\n",
    "tokenizer = AutoTokenizer.from_pretrained(model_name)\n",
    "model = AutoModelForCausalLM.from_pretrained(model_name)"
   ]
  },
  {
   "cell_type": "code",
   "execution_count": 4,
   "id": "distant-generator",
   "metadata": {
    "hidden": true
   },
   "outputs": [],
   "source": [
    "for df in [train, valid]:\n",
    "    for col in df:\n",
    "        df[f\"{col}_n_tokens\"] = df[col].apply(lambda x: len(tokenizer.tokenize(x)))"
   ]
  },
  {
   "cell_type": "code",
   "execution_count": 5,
   "id": "thermal-latter",
   "metadata": {
    "hidden": true
   },
   "outputs": [],
   "source": [
    "for df in [train, valid]:\n",
    "    df[\"n_tokens\"] = df[\"input_n_tokens\"] + df[\"output_n_tokens\"]"
   ]
  },
  {
   "cell_type": "code",
   "execution_count": 6,
   "id": "amber-charge",
   "metadata": {
    "hidden": true
   },
   "outputs": [
    {
     "data": {
      "image/png": "[encoded data removed]",
      "text/plain": [
       "<Figure size 432x288 with 1 Axes>"
      ]
     },
     "metadata": {
      "needs_background": "light"
     },
     "output_type": "display_data"
    }
   ],
   "source": [
    "train[\"n_tokens\"].hist(bins=np.arange(0, 301, 10));"
   ]
  },
  {
   "cell_type": "code",
   "execution_count": 7,
   "id": "dated-housing",
   "metadata": {
    "hidden": true
   },
   "outputs": [
    {
     "data": {
      "image/png": "[encoded data removed]",
      "text/plain": [
       "<Figure size 432x288 with 1 Axes>"
      ]
     },
     "metadata": {
      "needs_background": "light"
     },
     "output_type": "display_data"
    }
   ],
   "source": [
    "valid[\"n_tokens\"].hist(bins=np.arange(0, 301, 10));"
   ]
  },
  {
   "cell_type": "code",
   "execution_count": 8,
   "id": "another-discharge",
   "metadata": {
    "hidden": true
   },
   "outputs": [],
   "source": [
    "MAX_LENGTH = 200"
   ]
  },
  {
   "cell_type": "code",
   "execution_count": 9,
   "id": "relevant-bathroom",
   "metadata": {
    "hidden": true
   },
   "outputs": [
    {
     "data": {
      "text/plain": [
       "Embedding(50261, 768)"
      ]
     },
     "execution_count": 9,
     "metadata": {},
     "output_type": "execute_result"
    }
   ],
   "source": [
    "special_tokens = {\n",
    "    \"bos_token\": \"<|startoftext|>\",\n",
    "    \"pad_token\": \"<|pad|>\",\n",
    "    \"sep_token\": \"<|sep|>\",\n",
    "}\n",
    "tokenizer.add_special_tokens(special_tokens)\n",
    "\n",
    "tokenizer.all_special_tokens_extended\n",
    "model.resize_token_embeddings(len(tokenizer))"
   ]
  },
  {
   "cell_type": "code",
   "execution_count": 10,
   "id": "amino-medline",
   "metadata": {
    "hidden": true
   },
   "outputs": [
    {
     "name": "stdout",
     "output_type": "stream",
     "text": [
      "The max model length is 1000000000000000019884624838656 for this model, although the actual embedding size for GPT small is 768\n",
      "The beginning of sequence token <|startoftext|> token has the id 50258\n",
      "The end of sequence token <|endoftext|> has the id 50257\n",
      "The sep token <|sep|> has the id 50260\n",
      "The padding token <|pad|> has the id 50259\n"
     ]
    }
   ],
   "source": [
    "print(\"The max model length is {} for this model, although the actual embedding size for GPT small is 768\".format(tokenizer.model_max_length))\n",
    "print(\"The beginning of sequence token {} token has the id {}\".format(tokenizer.convert_ids_to_tokens(tokenizer.bos_token_id), tokenizer.bos_token_id))\n",
    "print(\"The end of sequence token {} has the id {}\".format(tokenizer.convert_ids_to_tokens(tokenizer.eos_token_id), tokenizer.eos_token_id))\n",
    "print(\"The sep token {} has the id {}\".format(tokenizer.convert_ids_to_tokens(tokenizer.sep_token_id), tokenizer.sep_token_id))\n",
    "print(\"The padding token {} has the id {}\".format(tokenizer.convert_ids_to_tokens(tokenizer.pad_token_id), tokenizer.pad_token_id))"
   ]
  },
  {
   "cell_type": "markdown",
   "id": "practical-yeast",
   "metadata": {
    "heading_collapsed": true
   },
   "source": [
    "# Transformers"
   ]
  },
  {
   "cell_type": "code",
   "execution_count": 11,
   "id": "incomplete-parallel",
   "metadata": {
    "hidden": true
   },
   "outputs": [],
   "source": [
    "class SimplificationDataset(Dataset):\n",
    "    def __init__(self, texts_list, tokenizer, gpt2_type=\"gpt2\", max_length=1024):\n",
    "        self.tokenizer = tokenizer\n",
    "        \n",
    "        texts_combined = []\n",
    "        for input_text, out_text in texts_list:\n",
    "            text_combined = f\"<|startoftext|>{input_text}<|sep|>{out_text}<|endoftext|>\"\n",
    "            texts_combined.append(text_combined)\n",
    "        self.encodings = tokenizer(texts_combined,\n",
    "                              truncation=True,\n",
    "                              max_length=max_length,\n",
    "                              padding=\"max_length\",\n",
    "                              return_tensors=\"pt\")\n",
    "        \n",
    "    def __len__(self):\n",
    "        return len(self.encodings.input_ids)\n",
    "\n",
    "    def __getitem__(self, idx):\n",
    "        item = {key: torch.tensor(val[idx]) for key, val in self.encodings.items()}\n",
    "        item[\"labels\"] = item[\"input_ids\"]\n",
    "        return item"
   ]
  },
  {
   "cell_type": "code",
   "execution_count": 12,
   "id": "therapeutic-opera",
   "metadata": {
    "hidden": true
   },
   "outputs": [],
   "source": [
    "data_cols = [\"input\", \"output\"]\n",
    "train_dataset = SimplificationDataset(train[data_cols].values.tolist(), tokenizer, max_length=MAX_LENGTH)\n",
    "valid_dataset = SimplificationDataset(valid[data_cols].values.tolist(), tokenizer, max_length=MAX_LENGTH)"
   ]
  },
  {
   "cell_type": "code",
   "execution_count": 79,
   "id": "funded-antarctica",
   "metadata": {
    "hidden": true
   },
   "outputs": [
    {
     "data": {
      "text/plain": [
       "10897"
      ]
     },
     "execution_count": 79,
     "metadata": {},
     "output_type": "execute_result"
    }
   ],
   "source": [
    "len(train_dataset) // 8 // 2"
   ]
  },
  {
   "cell_type": "code",
   "execution_count": 82,
   "id": "retained-ferry",
   "metadata": {
    "hidden": true
   },
   "outputs": [],
   "source": [
    "def get_random_example(dataset):\n",
    "    sample = dataset.sample()\n",
    "    prompt = f'<|startoftext|>{sample[\"input\"].item()}<|sep|>'\n",
    "    true_output = sample[\"output\"].item()\n",
    "    return prompt, true_output\n",
    "\n",
    "\n",
    "class PrintExampleCallback(TrainerCallback):\n",
    "    def on_log(self, args, state, control, logs=None, **kwargs):\n",
    "        prompt, true_output = get_random_example(valid)\n",
    "        print(prompt.strip(\"<|startoftext|>\").strip(\"<|sep|>\"), true_output, sep=\"\\n\")\n",
    "        input_ids = tokenizer.encode(prompt, return_tensors=\"pt\").to(\"cuda\")\n",
    "        sample_outputs = model.generate(\n",
    "                                input_ids,\n",
    "                                do_sample=True,   \n",
    "                                top_k=50, \n",
    "                                max_length = MAX_LENGTH,\n",
    "                                top_p=0.95,\n",
    "                                temperature=0.9,\n",
    "                                num_return_sequences=1\n",
    "                            ).detach().cpu()\n",
    "\n",
    "        for sample in sample_outputs:\n",
    "            res = tokenizer.decode(sample, skip_special_tokens=False).split(\"<|sep|>\")[1].replace(\"<|pad|>\", \"\").replace(\"<|endoftext|>\", \"\")\n",
    "            print(res)\n",
    "\n",
    "            \n",
    "\n",
    "training_args = TrainingArguments(\n",
    "    run_name=\"asdf\",\n",
    "    output_dir=\"./results\",\n",
    "    logging_dir=\"./logs\",\n",
    "    logging_first_step=True,\n",
    "    logging_steps=100,\n",
    "    save_steps=500,\n",
    "    evaluation_strategy=\"steps\",\n",
    "    eval_steps=50,\n",
    "    lr_scheduler_type=\"linear\",\n",
    "    warmup_steps=500,\n",
    "    learning_rate=5e-5,\n",
    "    num_train_epochs=5,\n",
    "    per_device_train_batch_size=8,\n",
    "    per_device_eval_batch_size=8,\n",
    "    gradient_accumulation_steps=1,\n",
    "    weight_decay=0,\n",
    "    fp16=True,\n",
    "    seed=19,\n",
    ")\n",
    "\n",
    "trainer = Trainer(\n",
    "    model=model,\n",
    "    tokenizer=tokenizer,\n",
    "    args=training_args,\n",
    "    train_dataset=train_dataset,\n",
    "    eval_dataset=valid_dataset,\n",
    "    callbacks=[PrintExampleCallback],\n",
    ")"
   ]
  },
  {
   "cell_type": "code",
   "execution_count": 2,
   "id": "sorted-beads",
   "metadata": {
    "hidden": true
   },
   "outputs": [
    {
     "data": {
      "text/plain": [
       "201.0"
      ]
     },
     "execution_count": 2,
     "metadata": {},
     "output_type": "execute_result"
    }
   ],
   "source": [
    "100500 / 500"
   ]
  },
  {
   "cell_type": "code",
   "execution_count": 87,
   "id": "optical-federal",
   "metadata": {
    "hidden": true
   },
   "outputs": [
    {
     "name": "stdout",
     "output_type": "stream",
     "text": [
      "{'_n_gpu': 1,\n",
      " 'adafactor': False,\n",
      " 'adam_beta1': 0.9,\n",
      " 'adam_beta2': 0.999,\n",
      " 'adam_epsilon': 1e-08,\n",
      " 'dataloader_drop_last': False,\n",
      " 'dataloader_num_workers': 0,\n",
      " 'dataloader_pin_memory': True,\n",
      " 'ddp_find_unused_parameters': None,\n",
      " 'debug': False,\n",
      " 'deepspeed': None,\n",
      " 'disable_tqdm': False,\n",
      " 'do_eval': None,\n",
      " 'do_predict': False,\n",
      " 'do_train': False,\n",
      " 'eval_accumulation_steps': None,\n",
      " 'eval_steps': 50,\n",
      " 'evaluation_strategy': 'steps',\n",
      " 'fp16': True,\n",
      " 'fp16_backend': 'auto',\n",
      " 'fp16_opt_level': 'O1',\n",
      " 'gradient_accumulation_steps': 1,\n",
      " 'greater_is_better': None,\n",
      " 'group_by_length': False,\n",
      " 'ignore_data_skip': False,\n",
      " 'label_names': None,\n",
      " 'label_smoothing_factor': 0.0,\n",
      " 'learning_rate': 5e-05,\n",
      " 'load_best_model_at_end': False,\n",
      " 'local_rank': -1,\n",
      " 'logging_dir': './logs',\n",
      " 'logging_first_step': True,\n",
      " 'logging_steps': 100,\n",
      " 'lr_scheduler_type': 'linear',\n",
      " 'max_grad_norm': 1.0,\n",
      " 'max_steps': -1,\n",
      " 'metric_for_best_model': None,\n",
      " 'no_cuda': False,\n",
      " 'num_train_epochs': 5,\n",
      " 'output_dir': './results',\n",
      " 'overwrite_output_dir': False,\n",
      " 'past_index': -1,\n",
      " 'per_device_eval_batch_size': 8,\n",
      " 'per_device_train_batch_size': 8,\n",
      " 'per_gpu_eval_batch_size': None,\n",
      " 'per_gpu_train_batch_size': None,\n",
      " 'prediction_loss_only': False,\n",
      " 'remove_unused_columns': True,\n",
      " 'report_to': ['tensorboard'],\n",
      " 'run_name': 'asdf',\n",
      " 'save_steps': 500,\n",
      " 'save_total_limit': None,\n",
      " 'seed': 19,\n",
      " 'sharded_ddp': False,\n",
      " 'tpu_metrics_debug': False,\n",
      " 'tpu_num_cores': None,\n",
      " 'warmup_steps': 500,\n",
      " 'weight_decay': 0}\n"
     ]
    }
   ],
   "source": [
    "from pprint import pprint\n",
    "pprint(training_args.to_dict())"
   ]
  },
  {
   "cell_type": "code",
   "execution_count": 83,
   "id": "compatible-breast",
   "metadata": {
    "hidden": true,
    "scrolled": true
   },
   "outputs": [
    {
     "name": "stderr",
     "output_type": "stream",
     "text": [
      "<ipython-input-11-d5e2d4830c60>:19: UserWarning: To copy construct from a tensor, it is recommended to use sourceTensor.clone().detach() or sourceTensor.clone().detach().requires_grad_(True), rather than torch.tensor(sourceTensor).\n",
      "  item = {key: torch.tensor(val[idx]) for key, val in self.encodings.items()}\n"
     ]
    },
    {
     "data": {
      "text/html": [
       "\n",
       "    <div>\n",
       "        <style>\n",
       "            /* Turns off some styling */\n",
       "            progress {\n",
       "                /* gets rid of default border in Firefox and Opera. */\n",
       "                border: none;\n",
       "                /* Needs to be in here for Safari polyfill so background images work as expected. */\n",
       "                background-size: auto;\n",
       "            }\n",
       "        </style>\n",
       "      \n",
       "      <progress value='81' max='108980' style='width:300px; height:20px; vertical-align: middle;'></progress>\n",
       "      [    81/108980 01:00 < 22:59:48, 1.32 it/s, Epoch 0.00/5]\n",
       "    </div>\n",
       "    <table border=\"1\" class=\"dataframe\">\n",
       "  <thead>\n",
       "    <tr style=\"text-align: left;\">\n",
       "      <th>Step</th>\n",
       "      <th>Training Loss</th>\n",
       "      <th>Validation Loss</th>\n",
       "      <th>Runtime</th>\n",
       "      <th>Samples Per Second</th>\n",
       "    </tr>\n",
       "  </thead>\n",
       "  <tbody>\n",
       "    <tr>\n",
       "      <td>50</td>\n",
       "      <td>1.082700</td>\n",
       "      <td>0.827583</td>\n",
       "      <td>34.663600</td>\n",
       "      <td>98.259000</td>\n",
       "    </tr>\n",
       "  </tbody>\n",
       "</table><p>"
      ],
      "text/plain": [
       "<IPython.core.display.HTML object>"
      ]
     },
     "metadata": {},
     "output_type": "display_data"
    },
    {
     "name": "stderr",
     "output_type": "stream",
     "text": [
      "Setting `pad_token_id` to `eos_token_id`:50256 for open-end generation.\n"
     ]
    },
    {
     "name": "stdout",
     "output_type": "stream",
     "text": [
      "В результате успешных действий русской разведки командованию русской армии было детально известно состояние Великой армии.\n",
      "Русская разведка дала командованию все сведения о противнике.\n",
      "Во время войны разведывательная группа имела подробное описание состояния Великой армии и армий, а также подробное описание ее планов и планов.\n"
     ]
    },
    {
     "name": "stderr",
     "output_type": "stream",
     "text": [
      "Setting `pad_token_id` to `eos_token_id`:50256 for open-end generation.\n"
     ]
    },
    {
     "name": "stdout",
     "output_type": "stream",
     "text": [
      "Гениальнейшим поэтом Польши и одновременно одним из великих мировых поэтов является Адам Мицкевич, признанный вождь польского романтизма.\n",
      "Адам Мицкевич  - это гениальный поэт Польши и великий  поэт во всем мире. Он возглавил жанр романтизма в Польше.\n",
      "Гениальным поэтом Польши и одновременно одним из величайших мировыми лидерами является Адам Мицкевич.\n"
     ]
    },
    {
     "ename": "KeyboardInterrupt",
     "evalue": "",
     "output_type": "error",
     "traceback": [
      "\u001b[0;31m---------------------------------------------------------------------------\u001b[0m",
      "\u001b[0;31mKeyboardInterrupt\u001b[0m                         Traceback (most recent call last)",
      "\u001b[0;32m<timed eval>\u001b[0m in \u001b[0;36m<module>\u001b[0;34m\u001b[0m\n",
      "\u001b[0;32m~/miniconda3/lib/python3.8/site-packages/transformers/trainer.py\u001b[0m in \u001b[0;36mtrain\u001b[0;34m(self, resume_from_checkpoint, trial, **kwargs)\u001b[0m\n\u001b[1;32m    938\u001b[0m                         \u001b[0mtr_loss\u001b[0m \u001b[0;34m+=\u001b[0m \u001b[0mself\u001b[0m\u001b[0;34m.\u001b[0m\u001b[0mtraining_step\u001b[0m\u001b[0;34m(\u001b[0m\u001b[0mmodel\u001b[0m\u001b[0;34m,\u001b[0m \u001b[0minputs\u001b[0m\u001b[0;34m)\u001b[0m\u001b[0;34m\u001b[0m\u001b[0;34m\u001b[0m\u001b[0m\n\u001b[1;32m    939\u001b[0m                 \u001b[0;32melse\u001b[0m\u001b[0;34m:\u001b[0m\u001b[0;34m\u001b[0m\u001b[0;34m\u001b[0m\u001b[0m\n\u001b[0;32m--> 940\u001b[0;31m                     \u001b[0mtr_loss\u001b[0m \u001b[0;34m+=\u001b[0m \u001b[0mself\u001b[0m\u001b[0;34m.\u001b[0m\u001b[0mtraining_step\u001b[0m\u001b[0;34m(\u001b[0m\u001b[0mmodel\u001b[0m\u001b[0;34m,\u001b[0m \u001b[0minputs\u001b[0m\u001b[0;34m)\u001b[0m\u001b[0;34m\u001b[0m\u001b[0;34m\u001b[0m\u001b[0m\n\u001b[0m\u001b[1;32m    941\u001b[0m                 \u001b[0mself\u001b[0m\u001b[0;34m.\u001b[0m\u001b[0m_total_flos\u001b[0m \u001b[0;34m+=\u001b[0m \u001b[0mself\u001b[0m\u001b[0;34m.\u001b[0m\u001b[0mfloating_point_ops\u001b[0m\u001b[0;34m(\u001b[0m\u001b[0minputs\u001b[0m\u001b[0;34m)\u001b[0m\u001b[0;34m\u001b[0m\u001b[0;34m\u001b[0m\u001b[0m\n\u001b[1;32m    942\u001b[0m \u001b[0;34m\u001b[0m\u001b[0m\n",
      "\u001b[0;32m~/miniconda3/lib/python3.8/site-packages/transformers/trainer.py\u001b[0m in \u001b[0;36mtraining_step\u001b[0;34m(self, model, inputs)\u001b[0m\n\u001b[1;32m   1311\u001b[0m \u001b[0;34m\u001b[0m\u001b[0m\n\u001b[1;32m   1312\u001b[0m         \u001b[0;32mif\u001b[0m \u001b[0mself\u001b[0m\u001b[0;34m.\u001b[0m\u001b[0muse_amp\u001b[0m\u001b[0;34m:\u001b[0m\u001b[0;34m\u001b[0m\u001b[0;34m\u001b[0m\u001b[0m\n\u001b[0;32m-> 1313\u001b[0;31m             \u001b[0mself\u001b[0m\u001b[0;34m.\u001b[0m\u001b[0mscaler\u001b[0m\u001b[0;34m.\u001b[0m\u001b[0mscale\u001b[0m\u001b[0;34m(\u001b[0m\u001b[0mloss\u001b[0m\u001b[0;34m)\u001b[0m\u001b[0;34m.\u001b[0m\u001b[0mbackward\u001b[0m\u001b[0;34m(\u001b[0m\u001b[0;34m)\u001b[0m\u001b[0;34m\u001b[0m\u001b[0;34m\u001b[0m\u001b[0m\n\u001b[0m\u001b[1;32m   1314\u001b[0m         \u001b[0;32melif\u001b[0m \u001b[0mself\u001b[0m\u001b[0;34m.\u001b[0m\u001b[0muse_apex\u001b[0m\u001b[0;34m:\u001b[0m\u001b[0;34m\u001b[0m\u001b[0;34m\u001b[0m\u001b[0m\n\u001b[1;32m   1315\u001b[0m             \u001b[0;32mwith\u001b[0m \u001b[0mamp\u001b[0m\u001b[0;34m.\u001b[0m\u001b[0mscale_loss\u001b[0m\u001b[0;34m(\u001b[0m\u001b[0mloss\u001b[0m\u001b[0;34m,\u001b[0m \u001b[0mself\u001b[0m\u001b[0;34m.\u001b[0m\u001b[0moptimizer\u001b[0m\u001b[0;34m)\u001b[0m \u001b[0;32mas\u001b[0m \u001b[0mscaled_loss\u001b[0m\u001b[0;34m:\u001b[0m\u001b[0;34m\u001b[0m\u001b[0;34m\u001b[0m\u001b[0m\n",
      "\u001b[0;32m~/miniconda3/lib/python3.8/site-packages/torch/tensor.py\u001b[0m in \u001b[0;36mbackward\u001b[0;34m(self, gradient, retain_graph, create_graph)\u001b[0m\n\u001b[1;32m    219\u001b[0m                 \u001b[0mretain_graph\u001b[0m\u001b[0;34m=\u001b[0m\u001b[0mretain_graph\u001b[0m\u001b[0;34m,\u001b[0m\u001b[0;34m\u001b[0m\u001b[0;34m\u001b[0m\u001b[0m\n\u001b[1;32m    220\u001b[0m                 create_graph=create_graph)\n\u001b[0;32m--> 221\u001b[0;31m         \u001b[0mtorch\u001b[0m\u001b[0;34m.\u001b[0m\u001b[0mautograd\u001b[0m\u001b[0;34m.\u001b[0m\u001b[0mbackward\u001b[0m\u001b[0;34m(\u001b[0m\u001b[0mself\u001b[0m\u001b[0;34m,\u001b[0m \u001b[0mgradient\u001b[0m\u001b[0;34m,\u001b[0m \u001b[0mretain_graph\u001b[0m\u001b[0;34m,\u001b[0m \u001b[0mcreate_graph\u001b[0m\u001b[0;34m)\u001b[0m\u001b[0;34m\u001b[0m\u001b[0;34m\u001b[0m\u001b[0m\n\u001b[0m\u001b[1;32m    222\u001b[0m \u001b[0;34m\u001b[0m\u001b[0m\n\u001b[1;32m    223\u001b[0m     \u001b[0;32mdef\u001b[0m \u001b[0mregister_hook\u001b[0m\u001b[0;34m(\u001b[0m\u001b[0mself\u001b[0m\u001b[0;34m,\u001b[0m \u001b[0mhook\u001b[0m\u001b[0;34m)\u001b[0m\u001b[0;34m:\u001b[0m\u001b[0;34m\u001b[0m\u001b[0;34m\u001b[0m\u001b[0m\n",
      "\u001b[0;32m~/miniconda3/lib/python3.8/site-packages/torch/autograd/__init__.py\u001b[0m in \u001b[0;36mbackward\u001b[0;34m(tensors, grad_tensors, retain_graph, create_graph, grad_variables)\u001b[0m\n\u001b[1;32m    128\u001b[0m         \u001b[0mretain_graph\u001b[0m \u001b[0;34m=\u001b[0m \u001b[0mcreate_graph\u001b[0m\u001b[0;34m\u001b[0m\u001b[0;34m\u001b[0m\u001b[0m\n\u001b[1;32m    129\u001b[0m \u001b[0;34m\u001b[0m\u001b[0m\n\u001b[0;32m--> 130\u001b[0;31m     Variable._execution_engine.run_backward(\n\u001b[0m\u001b[1;32m    131\u001b[0m         \u001b[0mtensors\u001b[0m\u001b[0;34m,\u001b[0m \u001b[0mgrad_tensors_\u001b[0m\u001b[0;34m,\u001b[0m \u001b[0mretain_graph\u001b[0m\u001b[0;34m,\u001b[0m \u001b[0mcreate_graph\u001b[0m\u001b[0;34m,\u001b[0m\u001b[0;34m\u001b[0m\u001b[0;34m\u001b[0m\u001b[0m\n\u001b[1;32m    132\u001b[0m         allow_unreachable=True)  # allow_unreachable flag\n",
      "\u001b[0;31mKeyboardInterrupt\u001b[0m: "
     ]
    }
   ],
   "source": [
    "%%time\n",
    "trainer.train()"
   ]
  },
  {
   "cell_type": "code",
   "execution_count": 16,
   "id": "subsequent-combat",
   "metadata": {
    "hidden": true
   },
   "outputs": [],
   "source": [
    "prompt, true_output = get_random_example(valid)\n",
    "print(prompt, true_output, sep=\"\\n\\n\")\n",
    "print(\"\\n\")\n",
    "input_ids = tokenizer.encode(prompt, return_tensors=\"pt\").to(\"cuda\")\n",
    "sample_outputs = model.generate(\n",
    "                        input_ids,\n",
    "                        do_sample=True,   \n",
    "                        top_k=50, \n",
    "                        max_length = MAX_LENGTH,\n",
    "                        top_p=0.95,\n",
    "                        temperature=0.5,\n",
    "                        num_return_sequences=5\n",
    "                    ).detach().cpu()\n",
    "\n",
    "for sample in sample_outputs:\n",
    "    res = tokenizer.decode(sample, skip_special_tokens=False).split(\"<|sep|>\")[1].replace(\"<|pad|>\", \"\").replace(\"<|endoftext|>\", \"\")\n",
    "    print(res, \"\\n\\n\")"
   ]
  },
  {
   "cell_type": "code",
   "execution_count": null,
   "id": "dangerous-reconstruction",
   "metadata": {
    "hidden": true
   },
   "outputs": [],
   "source": []
  },
  {
   "cell_type": "markdown",
   "id": "outdoor-public",
   "metadata": {
    "heading_collapsed": true
   },
   "source": [
    "# Pytorch"
   ]
  },
  {
   "cell_type": "code",
   "execution_count": null,
   "id": "paperback-revolution",
   "metadata": {
    "hidden": true
   },
   "outputs": [],
   "source": [
    "class SimplificationDataset(Dataset):\n",
    "    def __init__(self, texts_list, tokenizer, gpt2_type=\"gpt2\", max_length=1024):\n",
    "        self.tokenizer = tokenizer\n",
    "        self.input_ids = []\n",
    "        self.attn_masks = []\n",
    "\n",
    "        for input_text, out_text in texts_list:\n",
    "            text_combined = f\"<|startoftext|>{input_text}<|sep|>{out_text}<|endoftext|>\"\n",
    "            encodings_dict = tokenizer(text_combined,\n",
    "                                       truncation=True,\n",
    "                                       max_length=max_length,\n",
    "                                       padding=\"max_length\",\n",
    "                                       return_tensors=\"pt\")\n",
    "            self.input_ids.append(encodings_dict['input_ids'])\n",
    "            self.attn_masks.append(encodings_dict['attention_mask'])\n",
    "        \n",
    "    def __len__(self):\n",
    "        return len(self.input_ids)\n",
    "\n",
    "    def __getitem__(self, idx):\n",
    "        return self.input_ids[idx], self.attn_masks[idx] "
   ]
  },
  {
   "cell_type": "code",
   "execution_count": null,
   "id": "champion-embassy",
   "metadata": {
    "hidden": true
   },
   "outputs": [],
   "source": [
    "data_cols = [\"input\", \"output\"]\n",
    "train_dataset = SimplificationDataset(train.loc[:5000, data_cols].values.tolist(), tokenizer, max_length=MAX_LENGTH)\n",
    "valid_dataset = SimplificationDataset(valid[data_cols].values.tolist(), tokenizer, max_length=MAX_LENGTH)"
   ]
  },
  {
   "cell_type": "code",
   "execution_count": null,
   "id": "hydraulic-caribbean",
   "metadata": {
    "hidden": true
   },
   "outputs": [],
   "source": [
    "TRAIN_BATCH_SIZE = 4\n",
    "VALID_BATCH_SIZE = 4"
   ]
  },
  {
   "cell_type": "code",
   "execution_count": null,
   "id": "egyptian-photographer",
   "metadata": {
    "hidden": true
   },
   "outputs": [],
   "source": [
    "# Create the DataLoaders for our training and validation datasets.\n",
    "# We'll take training samples in random order. \n",
    "train_dataloader = DataLoader(\n",
    "    train_dataset,  # The training samples.\n",
    "    sampler = RandomSampler(train_dataset), # Select batches randomly\n",
    "    batch_size = TRAIN_BATCH_SIZE # Trains with this batch size.\n",
    ")\n",
    "\n",
    "# For validation the order doesn't matter, so we'll just read them sequentially.\n",
    "validation_dataloader = DataLoader(\n",
    "    valid_dataset, # The validation samples.\n",
    "    sampler = SequentialSampler(valid_dataset), # Pull out batches sequentially.\n",
    "    batch_size = VALID_BATCH_SIZE # Evaluate with this batch size.\n",
    ")"
   ]
  },
  {
   "cell_type": "code",
   "execution_count": null,
   "id": "abstract-scale",
   "metadata": {
    "hidden": true
   },
   "outputs": [],
   "source": [
    "len(train_dataloader)"
   ]
  },
  {
   "cell_type": "code",
   "execution_count": null,
   "id": "friendly-biotechnology",
   "metadata": {
    "hidden": true
   },
   "outputs": [],
   "source": [
    "# Set the seed value all over the place to make this reproducible.\n",
    "seed_val = 19\n",
    "\n",
    "random.seed(seed_val)\n",
    "np.random.seed(seed_val)\n",
    "torch.manual_seed(seed_val)\n",
    "torch.cuda.manual_seed_all(seed_val)"
   ]
  },
  {
   "cell_type": "code",
   "execution_count": null,
   "id": "unnecessary-precipitation",
   "metadata": {
    "hidden": true
   },
   "outputs": [],
   "source": [
    "# some parameters I cooked up that work reasonably well\n",
    "\n",
    "epochs = 5\n",
    "learning_rate = 5e-5\n",
    "warmup_steps = 1e2\n",
    "epsilon = 1e-8\n",
    "\n",
    "# this produces sample output every 100 steps\n",
    "sample_every = 500"
   ]
  },
  {
   "cell_type": "code",
   "execution_count": null,
   "id": "variable-former",
   "metadata": {
    "hidden": true
   },
   "outputs": [],
   "source": [
    "# Note: AdamW is a class from the huggingface library (as opposed to pytorch) \n",
    "optimizer = AdamW(model.parameters(),\n",
    "                  lr = learning_rate,\n",
    "                  eps = epsilon)"
   ]
  },
  {
   "cell_type": "code",
   "execution_count": null,
   "id": "raised-raleigh",
   "metadata": {
    "hidden": true
   },
   "outputs": [],
   "source": [
    "# Total number of training steps is [number of batches] x [number of epochs]. \n",
    "# (Note that this is not the same as the number of training samples).\n",
    "total_steps = len(train_dataloader) * epochs\n",
    "print(\"total steps:\", total_steps)\n",
    "\n",
    "# Create the learning rate scheduler.\n",
    "# This changes the learning rate as the training loop progresses\n",
    "scheduler = get_linear_schedule_with_warmup(optimizer, \n",
    "                                            num_warmup_steps = warmup_steps, \n",
    "                                            num_training_steps = total_steps)"
   ]
  },
  {
   "cell_type": "code",
   "execution_count": null,
   "id": "therapeutic-fisher",
   "metadata": {
    "hidden": true
   },
   "outputs": [],
   "source": [
    "def format_time(elapsed):\n",
    "    return str(datetime.timedelta(seconds=int(round((elapsed)))))"
   ]
  },
  {
   "cell_type": "code",
   "execution_count": null,
   "id": "alert-guard",
   "metadata": {
    "hidden": true
   },
   "outputs": [],
   "source": [
    "device = torch.device(\"cuda\")"
   ]
  },
  {
   "cell_type": "code",
   "execution_count": null,
   "id": "satellite-rover",
   "metadata": {
    "hidden": true
   },
   "outputs": [],
   "source": [
    "def get_random_example(dataset):\n",
    "    sample = dataset.sample()\n",
    "    prompt = f'<|startoftext|>{sample[\"input\"].item()}<|sep|>'\n",
    "    true_output = sample[\"output\"].item()\n",
    "    return prompt, true_output"
   ]
  },
  {
   "cell_type": "code",
   "execution_count": null,
   "id": "stretch-diagram",
   "metadata": {
    "hidden": true,
    "scrolled": true
   },
   "outputs": [],
   "source": [
    "total_t0 = time.time()\n",
    "\n",
    "training_stats = []\n",
    "\n",
    "model = model.to(device)\n",
    "\n",
    "for epoch_i in range(0, epochs):\n",
    "\n",
    "    # ========================================\n",
    "    #               Training\n",
    "    # ========================================\n",
    "\n",
    "    print(\"\")\n",
    "    print('======== Epoch {:} / {:} ========'.format(epoch_i + 1, epochs))\n",
    "    print('Training...')\n",
    "\n",
    "    t0 = time.time()\n",
    "\n",
    "    total_train_loss = 0\n",
    "\n",
    "    model.train()\n",
    "\n",
    "    for step, batch in enumerate(train_dataloader):\n",
    "\n",
    "        b_input_ids = batch[0].to(device)\n",
    "        b_labels = batch[0].to(device)\n",
    "        b_masks = batch[1].to(device)\n",
    "\n",
    "        model.zero_grad()        \n",
    "\n",
    "        outputs = model(  b_input_ids,\n",
    "                          labels=b_labels, \n",
    "                          attention_mask = b_masks,\n",
    "                          token_type_ids=None\n",
    "                        )\n",
    "\n",
    "        loss = outputs[0]  \n",
    "\n",
    "        batch_loss = loss.item()\n",
    "        total_train_loss += batch_loss\n",
    "\n",
    "        # Get sample every x batches.\n",
    "        if step % sample_every == 0 and not step == 0:\n",
    "\n",
    "            elapsed = format_time(time.time() - t0)\n",
    "            print('  Batch {:>5,}  of  {:>5,}. Loss: {:>5,}.   Elapsed: {:}.'.format(step, len(train_dataloader), batch_loss, elapsed))\n",
    "\n",
    "            model.eval()\n",
    "            prompt, true_output = get_random_example(valid)\n",
    "            print(prompt, true_output, sep=\"\\n\")\n",
    "            input_ids = tokenizer.encode(prompt, return_tensors=\"pt\").to(device)\n",
    "            sample_outputs = model.generate(\n",
    "                                    input_ids,\n",
    "                                    do_sample=True,   \n",
    "                                    top_k=50, \n",
    "                                    max_length = MAX_LENGTH,\n",
    "                                    top_p=0.95, \n",
    "                                    num_return_sequences=1\n",
    "                                )\n",
    "            del input_ids\n",
    "            for i, sample_output in enumerate(sample_outputs):\n",
    "                  print(\"{}: {}\".format(i, tokenizer.decode(sample_output, skip_special_tokens=False)))\n",
    "            \n",
    "            model.train()\n",
    "\n",
    "        loss.backward()\n",
    "\n",
    "        optimizer.step()\n",
    "\n",
    "        scheduler.step()\n",
    "\n",
    "    # Calculate the average loss over all of the batches.\n",
    "    avg_train_loss = total_train_loss / len(train_dataloader)       \n",
    "    \n",
    "    # Measure how long this epoch took.\n",
    "    training_time = format_time(time.time() - t0)\n",
    "\n",
    "    print(\"\")\n",
    "    print(\"  Average training loss: {0:.2f}\".format(avg_train_loss))\n",
    "    print(\"  Training epoch took: {:}\".format(training_time))\n",
    "        \n",
    "    # ========================================\n",
    "    #               Validation\n",
    "    # ========================================\n",
    "\n",
    "    print(\"\")\n",
    "    print(\"Running Validation...\")\n",
    "\n",
    "    t0 = time.time()\n",
    "\n",
    "    model.eval()\n",
    "\n",
    "    total_eval_loss = 0\n",
    "    nb_eval_steps = 0\n",
    "\n",
    "    # Evaluate data for one epoch\n",
    "    for batch in validation_dataloader:\n",
    "        \n",
    "        b_input_ids = batch[0].to(device)\n",
    "        b_labels = batch[0].to(device)\n",
    "        b_masks = batch[1].to(device)\n",
    "        \n",
    "        with torch.no_grad():        \n",
    "\n",
    "            outputs  = model(b_input_ids, \n",
    "#                            token_type_ids=None, \n",
    "                             attention_mask = b_masks,\n",
    "                            labels=b_labels)\n",
    "          \n",
    "            loss = outputs[0]  \n",
    "            \n",
    "        batch_loss = loss.item()\n",
    "        total_eval_loss += batch_loss        \n",
    "\n",
    "    avg_val_loss = total_eval_loss / len(validation_dataloader)\n",
    "    \n",
    "    validation_time = format_time(time.time() - t0)    \n",
    "\n",
    "    print(\"  Validation Loss: {0:.2f}\".format(avg_val_loss))\n",
    "    print(\"  Validation took: {:}\".format(validation_time))\n",
    "\n",
    "    # Record all statistics from this epoch.\n",
    "    training_stats.append(\n",
    "        {\n",
    "            'epoch': epoch_i + 1,\n",
    "            'Training Loss': avg_train_loss,\n",
    "            'Valid. Loss': avg_val_loss,\n",
    "            'Training Time': training_time,\n",
    "            'Validation Time': validation_time\n",
    "        }\n",
    "    )\n",
    "\n",
    "print(\"\")\n",
    "print(\"Training complete!\")\n",
    "print(\"Total training took {:} (h:mm:ss)\".format(format_time(time.time()-total_t0)))"
   ]
  },
  {
   "cell_type": "code",
   "execution_count": null,
   "id": "possible-australia",
   "metadata": {
    "hidden": true
   },
   "outputs": [],
   "source": []
  },
  {
   "cell_type": "code",
   "execution_count": null,
   "id": "communist-injection",
   "metadata": {
    "hidden": true
   },
   "outputs": [],
   "source": []
  },
  {
   "cell_type": "markdown",
   "id": "tropical-extreme",
   "metadata": {},
   "source": [
    "# Evaluate"
   ]
  },
  {
   "cell_type": "code",
   "execution_count": 2,
   "id": "tender-maintenance",
   "metadata": {},
   "outputs": [],
   "source": [
    "DATA_DIR = Path(\"./data\")\n",
    "\n",
    "TRAIN_PATH = DATA_DIR / \"prepared_data\" / \"wiki_part.csv\"\n",
    "DEV_PATH = DATA_DIR / \"dev_sents.csv\"\n",
    "TEST_PATH = DATA_DIR / \"public_test_only.csv\"\n",
    "\n",
    "train = pd.read_csv(TRAIN_PATH)\n",
    "valid = pd.read_csv(DEV_PATH, index_col=0)\n",
    "valid.columns = [\"input\", \"output\"]\n",
    "\n",
    "with open(TEST_PATH) as f:\n",
    "    test = pd.DataFrame({\"input\": [line.strip() for line in f]})"
   ]
  },
  {
   "cell_type": "code",
   "execution_count": 3,
   "id": "grateful-utilization",
   "metadata": {},
   "outputs": [],
   "source": [
    "def get_random_example(dataset):\n",
    "    sample = dataset.sample()\n",
    "    prompt = f'<|startoftext|>{sample[\"input\"].item()}<|sep|>'\n",
    "    true_output = sample[\"output\"].item()\n",
    "    return prompt, true_output"
   ]
  },
  {
   "cell_type": "code",
   "execution_count": 4,
   "id": "assisted-little",
   "metadata": {},
   "outputs": [
    {
     "name": "stderr",
     "output_type": "stream",
     "text": [
      "Special tokens have been added in the vocabulary, make sure the associated word embedding are fine-tuned or trained.\n"
     ]
    },
    {
     "data": {
      "text/plain": [
       "3"
      ]
     },
     "execution_count": 4,
     "metadata": {},
     "output_type": "execute_result"
    }
   ],
   "source": [
    "device = \"cuda\"\n",
    "\n",
    "# model_name = \"sberbank-ai/rugpt3large_based_on_gpt2\"\n",
    "# model_name = \"sberbank-ai/rugpt3medium_based_on_gpt2\"\n",
    "model_path = \"result_rugpt3medium_sim_comb/checkpoint-207264/\"\n",
    "\n",
    "# tokenizer = AutoTokenizer.from_pretrained(model_path)\n",
    "model = AutoModelForCausalLM.from_pretrained(model_path)\n",
    "model.to(device)\n",
    "\n",
    "tokenizer = AutoTokenizer.from_pretrained(\"sberbank-ai/rugpt3medium_based_on_gpt2\")\n",
    "special_tokens = {\n",
    "    \"bos_token\": \"<|startoftext|>\",\n",
    "    \"pad_token\": \"<|pad|>\",\n",
    "    \"sep_token\": \"<|sep|>\",\n",
    "}\n",
    "tokenizer.add_special_tokens(special_tokens)"
   ]
  },
  {
   "cell_type": "code",
   "execution_count": null,
   "id": "emotional-stranger",
   "metadata": {},
   "outputs": [],
   "source": [
    "def get_preds_df(preds, input_texts):\n",
    "    preds_df = pd.DataFrame({\"pred\": preds.values.reshape(-1, 1).ravel()})\n",
    "    preds_df[\"input\"] = np.array([[i] * 5 for i in input_texts]).ravel()\n",
    "    preds_df[\"pred_len\"] = preds_df[\"pred\"].apply(lambda x: len(get_word_tokens(x)))\n",
    "    preds_df[\"input_len\"] = preds_df[\"pred\"].apply(lambda x: len(get_word_tokens(x)))\n",
    "    preds_df[\"cosine_sim\"] = preds_df.apply(lambda x: get_similarities(model, tokenizer, x[\"pred\"], x[\"input\"]),\n",
    "                                        axis=1)\n",
    "    preds_df[\"cosine_sim\"] = preds_df[\"cosine_sim\"].apply(lambda x: x[0][0])\n",
    "    preds_df[\"rouge_l\"] = preds_df.apply(lambda x: get_rougel(x[\"pred\"], x[\"input\"]), axis=1)\n",
    "    return preds_df\n",
    "\n",
    "def get_rf_from_dev(dev_df, preds_dev):\n",
    "    preds_df = preds_dev.copy()\n",
    "    dev_df_grouped = dev_df.groupby(\"input\").agg(\n",
    "        {\"output\": list, \"cosine_sim\": list, \"rouge_l\": list, \"input_len\": max, \"output_len\": list}\n",
    "    ).reset_index()\n",
    "    preds_df[\"ref\"] = [l for sublist in dev_df_grouped[\"output\"].apply(lambda x: [x] * 5).tolist() for l in sublist]\n",
    "    preds_df[\"ref\"] = preds_df[\"ref\"].apply(lambda x: [[i] for i in x])\n",
    "\n",
    "    preds_df[\"pred_len\"] = preds_df[\"pred\"].apply(lambda x: len(get_word_tokens(x)))\n",
    "    preds_df[\"input_len\"] = preds_df[\"input\"].apply(lambda x: len(get_word_tokens(x)))\n",
    "\n",
    "    preds_df[\"sari\"] = preds_df.apply(\n",
    "        lambda x: corpus_sari(\n",
    "            orig_sents=[x[\"input\"]],\n",
    "            sys_sents=[x[\"pred\"]],\n",
    "            refs_sents=x[\"ref\"],\n",
    "        ), axis=1\n",
    "    )\n",
    "    \n",
    "    rf = RandomForestRegressor(n_jobs=-1, random_state=19)\n",
    "    \n",
    "    X_train = preds_df[[\"cosine_sim\", \"rouge_l\", \"input_len\", \"pred_len\"]]\n",
    "    y_train = preds_df[\"sari\"]\n",
    "    \n",
    "    rf.fit(X_train, y_train)\n",
    "    \n",
    "    return rf, preds_df\n",
    "\n",
    "dev_input = dev_df_grouped[\"input\"].tolist()\n",
    "dev_df = pd.read_csv(DATA_DIR / \"prepared_data\" / \"dev_df_metrics.csv\")\n",
    "\n",
    "rf, preds_df = get_rf_from_dev(dev_df, preds_dev)"
   ]
  },
  {
   "cell_type": "code",
   "execution_count": 22,
   "id": "sensitive-skirt",
   "metadata": {},
   "outputs": [
    {
     "name": "stderr",
     "output_type": "stream",
     "text": [
      "Setting `pad_token_id` to `eos_token_id`:50256 for open-end generation.\n"
     ]
    },
    {
     "name": "stdout",
     "output_type": "stream",
     "text": [
      "Пограничная охрана Финляндии входит в подчинение министерства внутренних дел, но может быть включена в вооружённые силы в случае необходимости.\n",
      "--------------------------------------------------------------------------------\n",
      "Пограничники Финляндии подчиняются министерству внутренних дел, но могут присоединиться к вооружённым силам,если будет нужно.\n",
      "\n",
      "\n",
      "\n",
      "Пограничная охрана Финляндии входит в подчинение министерства внутренних дел, но может быть включена в вооруженные силы при необходимости. \n",
      "\n",
      "Финская пограничная служба входит в подчинение правительства. \n",
      "\n",
      "Пограничная охрана Финляндии входит в состав Министерства внутренних дел, но может быть включена в вооруженные силы, если необходимости. \n",
      "\n",
      "Пограничная охрана Финляндии входит в состав министерства внутренних дел, но может быть добавлена в вооруженные силы в случае необходимости. \n",
      "\n",
      "Финская пограничная охрана - это пограничная охрана, контролирующая границу. \n",
      "\n"
     ]
    }
   ],
   "source": [
    "MAX_LENGTH = 200\n",
    "prompt, true_output = get_random_example(valid)\n",
    "# prompt = \"\"\"\n",
    "# Высокопоставленный чиновник в администрации Байдена сообщил телеканалу, что американские власти пытались связаться с Северной Кореей \"по нескольким каналам, начиная с середины февраля, в том числе в Нью-Йорке\", через миссию в ООН.\n",
    "\n",
    "# \"\"\".strip()\n",
    "# true_output = \"\"\n",
    "print(prompt.replace(\"<|startoftext|>\", \"\").replace(\"<|sep|>\", \"\"), true_output, sep=\"\\n\" + \"-\"*80 + \"\\n\")\n",
    "print(\"\\n\")\n",
    "input_ids = tokenizer.encode(prompt, return_tensors=\"pt\").to(device)\n",
    "sample_outputs = model.generate(\n",
    "                        input_ids,\n",
    "                        do_sample=True,   \n",
    "                        top_k=50, \n",
    "                        max_length = MAX_LENGTH,\n",
    "                        top_p=0.95,\n",
    "                        temperature=0.9,\n",
    "                        length_penalty=0.7,\n",
    "                        num_return_sequences=5,\n",
    "                    ).detach().cpu()\n",
    "\n",
    "for sample in sample_outputs:\n",
    "    res = tokenizer.decode(sample, skip_special_tokens=False).split(\"<|sep|>\")[1].replace(\"<|pad|>\", \"\").replace(\"<|endoftext|>\", \"\")\n",
    "    print(res, \"\\n\")"
   ]
  },
  {
   "cell_type": "code",
   "execution_count": null,
   "id": "acceptable-iceland",
   "metadata": {},
   "outputs": [],
   "source": []
  },
  {
   "cell_type": "code",
   "execution_count": 39,
   "id": "educated-binary",
   "metadata": {},
   "outputs": [],
   "source": [
    "def get_shortest_prediction(text):\n",
    "    prompt = f\"<|startoftext|>{text}<|sep|>\"\n",
    "    input_ids = tokenizer.encode(prompt, return_tensors=\"pt\").to(\"cuda\")\n",
    "    sample_outputs = model.generate(\n",
    "        input_ids,\n",
    "        do_sample=True,   \n",
    "        top_k=50, \n",
    "        max_length = MAX_LENGTH,\n",
    "        top_p=0.95,\n",
    "        temperature=0.9,\n",
    "        length_penalty=0.7,\n",
    "        num_return_sequences=5,\n",
    "    ).detach().cpu()\n",
    "\n",
    "    predictions = []\n",
    "    for sample in sample_outputs:\n",
    "        result = (tokenizer.decode(sample, skip_special_tokens=False)\n",
    "                        .split(\"<|sep|>\")[1]\n",
    "                        .replace(\"<|pad|>\", \"\")\n",
    "                        .replace(\"<|endoftext|>\", \"\"))\n",
    "        predictions.append(result)\n",
    "    prediction = sorted(predictions, key=lambda x: len(x))[0]\n",
    "\n",
    "    return prediction"
   ]
  },
  {
   "cell_type": "code",
   "execution_count": 43,
   "id": "religious-marijuana",
   "metadata": {},
   "outputs": [
    {
     "data": {
      "text/plain": [
       "array([['14 апреля 2003 году архиепископом Новосибирским и Бердским Тихоном пострижен в монашество с наречением имени Феодор в честь праведного Феодора Томского.'],\n",
       "       ['22 марта 1951 года боевая машина БМ-24 постановлением Совета Министров СССР №875-441сс была принята на вооружение Советской армии.'],\n",
       "       ['24 августа 1821 года представители испанской короны и Итурбиде подписали Кордовский договор, в котором признавалась независимость Мексики в соответствии с положениями «Плана Игуала».'],\n",
       "       ['26 декабря 2013 года решением Священного Синода Русской Православной Церкви иеромонах Феодор был официально утверждён в должности наместника Камчатского Пантелеимонова монастыря.']],\n",
       "      dtype=object)"
      ]
     },
     "execution_count": 43,
     "metadata": {},
     "output_type": "execute_result"
    }
   ],
   "source": []
  },
  {
   "cell_type": "code",
   "execution_count": 66,
   "id": "greatest-announcement",
   "metadata": {},
   "outputs": [
    {
     "data": {
      "text/html": [
       "<div>\n",
       "<style scoped>\n",
       "    .dataframe tbody tr th:only-of-type {\n",
       "        vertical-align: middle;\n",
       "    }\n",
       "\n",
       "    .dataframe tbody tr th {\n",
       "        vertical-align: top;\n",
       "    }\n",
       "\n",
       "    .dataframe thead th {\n",
       "        text-align: right;\n",
       "    }\n",
       "</style>\n",
       "<table border=\"1\" class=\"dataframe\">\n",
       "  <thead>\n",
       "    <tr style=\"text-align: right;\">\n",
       "      <th></th>\n",
       "      <th>0</th>\n",
       "      <th>1</th>\n",
       "    </tr>\n",
       "  </thead>\n",
       "  <tbody>\n",
       "    <tr>\n",
       "      <th>0</th>\n",
       "      <td>1</td>\n",
       "      <td>2</td>\n",
       "    </tr>\n",
       "    <tr>\n",
       "      <th>1</th>\n",
       "      <td>3</td>\n",
       "      <td>4</td>\n",
       "    </tr>\n",
       "  </tbody>\n",
       "</table>\n",
       "</div>"
      ],
      "text/plain": [
       "   0  1\n",
       "0  1  2\n",
       "1  3  4"
      ]
     },
     "execution_count": 66,
     "metadata": {},
     "output_type": "execute_result"
    }
   ],
   "source": [
    "pd.DataFrame({\"pred\": [[1, 2], [3, 4]]})[\"pred\"].apply(pd.Series)"
   ]
  },
  {
   "cell_type": "code",
   "execution_count": 19,
   "id": "personal-investing",
   "metadata": {},
   "outputs": [
    {
     "name": "stderr",
     "output_type": "stream",
     "text": [
      "Setting `pad_token_id` to `eos_token_id`:50256 for open-end generation.\n"
     ]
    },
    {
     "name": "stdout",
     "output_type": "stream",
     "text": [
      "<|startoftext|>14 апреля 2003 году архиепископом Новосибирским и Бердским Тихоном пострижен в монашество с наречением имени Феодор в честь праведного Феодора Томского.<|sep|>\n",
      "\n",
      "\n",
      "\n",
      "\n",
      "14 апреля 2003 года архиепископом Новосибирским и Бердским Тихоном пострижен в монашество с наречением имени Феодор в честь Феодора Томского. \n",
      "\n",
      "\n"
     ]
    }
   ],
   "source": [
    "\n",
    "\n",
    "MAX_LENGTH = 200\n",
    "\n",
    "# text = \"В других странах, таких как Ирландия, Уэльс, Ирландия, Канада и Австралия, термин «концерт» обычно означает только органные произведения, но не оперы.\"\n",
    "text = test[\"input\"].sample().item()\n",
    "text = test[\"input\"][0]\n",
    "\n",
    "prompt, true_output = \"<|startoftext|>\" + text + \"<|sep|>\", \"\"\n",
    "# prompt, true_output = text, \"\"\n",
    "\n",
    "print(prompt, true_output, sep=\"\\n\\n\")\n",
    "print(\"\\n\")\n",
    "input_ids = tokenizer.encode(prompt, return_tensors=\"pt\").to(device)\n",
    "sample_outputs = model.generate(\n",
    "                        input_ids,\n",
    "                        do_sample=True,   \n",
    "                        top_k=50, \n",
    "                        max_length = MAX_LENGTH,\n",
    "                        top_p=0.95,\n",
    "                        temperature=0.9,\n",
    "                        length_penalty=0.7,\n",
    "                        num_return_sequences=1\n",
    "                    ).detach().cpu()\n",
    "\n",
    "for sample in sample_outputs:\n",
    "    res = tokenizer.decode(sample, skip_special_tokens=False).split(\"<|sep|>\")[1].replace(\"<|pad|>\", \"\").replace(\"<|endoftext|>\", \"\")\n",
    "    print(res, \"\\n\\n\")"
   ]
  },
  {
   "cell_type": "code",
   "execution_count": 53,
   "id": "religious-trial",
   "metadata": {},
   "outputs": [
    {
     "data": {
      "text/plain": [
       "2.211329422942415"
      ]
     },
     "execution_count": 53,
     "metadata": {},
     "output_type": "execute_result"
    }
   ],
   "source": [
    "np.exp(0.7935938835144043)"
   ]
  },
  {
   "cell_type": "code",
   "execution_count": 28,
   "id": "taken-kitchen",
   "metadata": {},
   "outputs": [
    {
     "ename": "ModuleNotFoundError",
     "evalue": "No module named 'easse'",
     "output_type": "error",
     "traceback": [
      "\u001b[0;31m---------------------------------------------------------------------------\u001b[0m",
      "\u001b[0;31mModuleNotFoundError\u001b[0m                       Traceback (most recent call last)",
      "\u001b[0;32m<ipython-input-28-bc62e13580a0>\u001b[0m in \u001b[0;36m<module>\u001b[0;34m\u001b[0m\n\u001b[0;32m----> 1\u001b[0;31m \u001b[0;32mimport\u001b[0m \u001b[0measse\u001b[0m\u001b[0;34m\u001b[0m\u001b[0;34m\u001b[0m\u001b[0m\n\u001b[0m",
      "\u001b[0;31mModuleNotFoundError\u001b[0m: No module named 'easse'"
     ]
    }
   ],
   "source": [
    "import easse"
   ]
  },
  {
   "cell_type": "code",
   "execution_count": null,
   "id": "continuing-spanish",
   "metadata": {},
   "outputs": [],
   "source": []
  },
  {
   "cell_type": "code",
   "execution_count": null,
   "id": "starting-victory",
   "metadata": {},
   "outputs": [],
   "source": []
  },
  {
   "cell_type": "code",
   "execution_count": null,
   "id": "preceding-aruba",
   "metadata": {},
   "outputs": [],
   "source": []
  }
 ],
 "metadata": {
  "kernelspec": {
   "display_name": "Python 3",
   "language": "python",
   "name": "python3"
  },
  "language_info": {
   "codemirror_mode": {
    "name": "ipython",
    "version": 3
   },
   "file_extension": ".py",
   "mimetype": "text/x-python",
   "name": "python",
   "nbconvert_exporter": "python",
   "pygments_lexer": "ipython3",
   "version": "3.7.10"
  },
  "toc": {
   "base_numbering": 1,
   "nav_menu": {},
   "number_sections": true,
   "sideBar": true,
   "skip_h1_title": false,
   "title_cell": "Table of Contents",
   "title_sidebar": "Contents",
   "toc_cell": false,
   "toc_position": {
    "height": "calc(100% - 180px)",
    "left": "10px",
    "top": "150px",
    "width": "384px"
   },
   "toc_section_display": true,
   "toc_window_display": true
  }
 },
 "nbformat": 4,
 "nbformat_minor": 5
}
